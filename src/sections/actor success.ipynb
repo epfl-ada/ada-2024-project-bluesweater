{
 "cells": [
  {
   "metadata": {},
   "cell_type": "markdown",
   "source": [
    "# Actor Success\n",
    "We want to know what metrics define a sucessful acting career. We will use the Oscar, IMDB Dataset, The CMU movie dataset, the rotten tomatoes dataset for this. \n",
    "First we need to define what a successful actor is. We start with a simple metric that counts the number os Oscar nominations and wins. "
   ],
   "id": "869efc961fb5d984"
  },
  {
   "metadata": {
    "ExecuteTime": {
     "end_time": "2024-12-15T13:29:16.550585Z",
     "start_time": "2024-12-15T13:29:16.548338Z"
    }
   },
   "cell_type": "code",
   "source": [
    "import pandas as pd\n",
    "import numpy as np"
   ],
   "id": "5948c0e4c2d3c7d6",
   "outputs": [],
   "execution_count": 1
  },
  {
   "cell_type": "code",
   "id": "initial_id",
   "metadata": {
    "collapsed": true,
    "ExecuteTime": {
     "end_time": "2024-12-15T13:29:16.879826Z",
     "start_time": "2024-12-15T13:29:16.590952Z"
    }
   },
   "source": [
    "oscar = pd.read_pickle('../../pickles/oskar_df.pkl')\n",
    "imdb = pd.read_pickle('../../pickles/imdb_data.pkl')\n",
    "cmu = pd.read_pickle('../../pickles/cmu_movies_df.pkl')\n",
    "rotten = pd.read_pickle('../../pickles/rotten_tomatoes.pkl')"
   ],
   "outputs": [],
   "execution_count": 2
  },
  {
   "metadata": {
    "ExecuteTime": {
     "end_time": "2024-12-15T13:29:16.891472Z",
     "start_time": "2024-12-15T13:29:16.884428Z"
    }
   },
   "cell_type": "code",
   "source": "oscar.head()",
   "id": "35b230876bf73da3",
   "outputs": [
    {
     "data": {
      "text/plain": [
       "   year_film  year_ceremony  ceremony category                 name  \\\n",
       "0       1927           1928         1    ACTOR  Richard Barthelmess   \n",
       "1       1927           1928         1    ACTOR        Emil Jannings   \n",
       "2       1927           1928         1  ACTRESS       Louise Dresser   \n",
       "3       1927           1928         1  ACTRESS         Janet Gaynor   \n",
       "4       1927           1928         1  ACTRESS       Gloria Swanson   \n",
       "\n",
       "               film  winner  \n",
       "0         The Noose   False  \n",
       "1  The Last Command    True  \n",
       "2   A Ship Comes In   False  \n",
       "3        7th Heaven    True  \n",
       "4    Sadie Thompson   False  "
      ],
      "text/html": [
       "<div>\n",
       "<style scoped>\n",
       "    .dataframe tbody tr th:only-of-type {\n",
       "        vertical-align: middle;\n",
       "    }\n",
       "\n",
       "    .dataframe tbody tr th {\n",
       "        vertical-align: top;\n",
       "    }\n",
       "\n",
       "    .dataframe thead th {\n",
       "        text-align: right;\n",
       "    }\n",
       "</style>\n",
       "<table border=\"1\" class=\"dataframe\">\n",
       "  <thead>\n",
       "    <tr style=\"text-align: right;\">\n",
       "      <th></th>\n",
       "      <th>year_film</th>\n",
       "      <th>year_ceremony</th>\n",
       "      <th>ceremony</th>\n",
       "      <th>category</th>\n",
       "      <th>name</th>\n",
       "      <th>film</th>\n",
       "      <th>winner</th>\n",
       "    </tr>\n",
       "  </thead>\n",
       "  <tbody>\n",
       "    <tr>\n",
       "      <th>0</th>\n",
       "      <td>1927</td>\n",
       "      <td>1928</td>\n",
       "      <td>1</td>\n",
       "      <td>ACTOR</td>\n",
       "      <td>Richard Barthelmess</td>\n",
       "      <td>The Noose</td>\n",
       "      <td>False</td>\n",
       "    </tr>\n",
       "    <tr>\n",
       "      <th>1</th>\n",
       "      <td>1927</td>\n",
       "      <td>1928</td>\n",
       "      <td>1</td>\n",
       "      <td>ACTOR</td>\n",
       "      <td>Emil Jannings</td>\n",
       "      <td>The Last Command</td>\n",
       "      <td>True</td>\n",
       "    </tr>\n",
       "    <tr>\n",
       "      <th>2</th>\n",
       "      <td>1927</td>\n",
       "      <td>1928</td>\n",
       "      <td>1</td>\n",
       "      <td>ACTRESS</td>\n",
       "      <td>Louise Dresser</td>\n",
       "      <td>A Ship Comes In</td>\n",
       "      <td>False</td>\n",
       "    </tr>\n",
       "    <tr>\n",
       "      <th>3</th>\n",
       "      <td>1927</td>\n",
       "      <td>1928</td>\n",
       "      <td>1</td>\n",
       "      <td>ACTRESS</td>\n",
       "      <td>Janet Gaynor</td>\n",
       "      <td>7th Heaven</td>\n",
       "      <td>True</td>\n",
       "    </tr>\n",
       "    <tr>\n",
       "      <th>4</th>\n",
       "      <td>1927</td>\n",
       "      <td>1928</td>\n",
       "      <td>1</td>\n",
       "      <td>ACTRESS</td>\n",
       "      <td>Gloria Swanson</td>\n",
       "      <td>Sadie Thompson</td>\n",
       "      <td>False</td>\n",
       "    </tr>\n",
       "  </tbody>\n",
       "</table>\n",
       "</div>"
      ]
     },
     "execution_count": 3,
     "metadata": {},
     "output_type": "execute_result"
    }
   ],
   "execution_count": 3
  },
  {
   "metadata": {
    "ExecuteTime": {
     "end_time": "2024-12-15T13:29:16.982678Z",
     "start_time": "2024-12-15T13:29:16.975311Z"
    }
   },
   "cell_type": "code",
   "source": [
    "# only keep categories that are relevant for actors\n",
    "oscar = oscar[oscar['category'].str.contains('ACTOR') | oscar['category'].str.contains('ACTRESS')]\n",
    "oscar.head()"
   ],
   "id": "1ea697cf09b6f8ef",
   "outputs": [
    {
     "data": {
      "text/plain": [
       "   year_film  year_ceremony  ceremony category                 name  \\\n",
       "0       1927           1928         1    ACTOR  Richard Barthelmess   \n",
       "1       1927           1928         1    ACTOR        Emil Jannings   \n",
       "2       1927           1928         1  ACTRESS       Louise Dresser   \n",
       "3       1927           1928         1  ACTRESS         Janet Gaynor   \n",
       "4       1927           1928         1  ACTRESS       Gloria Swanson   \n",
       "\n",
       "               film  winner  \n",
       "0         The Noose   False  \n",
       "1  The Last Command    True  \n",
       "2   A Ship Comes In   False  \n",
       "3        7th Heaven    True  \n",
       "4    Sadie Thompson   False  "
      ],
      "text/html": [
       "<div>\n",
       "<style scoped>\n",
       "    .dataframe tbody tr th:only-of-type {\n",
       "        vertical-align: middle;\n",
       "    }\n",
       "\n",
       "    .dataframe tbody tr th {\n",
       "        vertical-align: top;\n",
       "    }\n",
       "\n",
       "    .dataframe thead th {\n",
       "        text-align: right;\n",
       "    }\n",
       "</style>\n",
       "<table border=\"1\" class=\"dataframe\">\n",
       "  <thead>\n",
       "    <tr style=\"text-align: right;\">\n",
       "      <th></th>\n",
       "      <th>year_film</th>\n",
       "      <th>year_ceremony</th>\n",
       "      <th>ceremony</th>\n",
       "      <th>category</th>\n",
       "      <th>name</th>\n",
       "      <th>film</th>\n",
       "      <th>winner</th>\n",
       "    </tr>\n",
       "  </thead>\n",
       "  <tbody>\n",
       "    <tr>\n",
       "      <th>0</th>\n",
       "      <td>1927</td>\n",
       "      <td>1928</td>\n",
       "      <td>1</td>\n",
       "      <td>ACTOR</td>\n",
       "      <td>Richard Barthelmess</td>\n",
       "      <td>The Noose</td>\n",
       "      <td>False</td>\n",
       "    </tr>\n",
       "    <tr>\n",
       "      <th>1</th>\n",
       "      <td>1927</td>\n",
       "      <td>1928</td>\n",
       "      <td>1</td>\n",
       "      <td>ACTOR</td>\n",
       "      <td>Emil Jannings</td>\n",
       "      <td>The Last Command</td>\n",
       "      <td>True</td>\n",
       "    </tr>\n",
       "    <tr>\n",
       "      <th>2</th>\n",
       "      <td>1927</td>\n",
       "      <td>1928</td>\n",
       "      <td>1</td>\n",
       "      <td>ACTRESS</td>\n",
       "      <td>Louise Dresser</td>\n",
       "      <td>A Ship Comes In</td>\n",
       "      <td>False</td>\n",
       "    </tr>\n",
       "    <tr>\n",
       "      <th>3</th>\n",
       "      <td>1927</td>\n",
       "      <td>1928</td>\n",
       "      <td>1</td>\n",
       "      <td>ACTRESS</td>\n",
       "      <td>Janet Gaynor</td>\n",
       "      <td>7th Heaven</td>\n",
       "      <td>True</td>\n",
       "    </tr>\n",
       "    <tr>\n",
       "      <th>4</th>\n",
       "      <td>1927</td>\n",
       "      <td>1928</td>\n",
       "      <td>1</td>\n",
       "      <td>ACTRESS</td>\n",
       "      <td>Gloria Swanson</td>\n",
       "      <td>Sadie Thompson</td>\n",
       "      <td>False</td>\n",
       "    </tr>\n",
       "  </tbody>\n",
       "</table>\n",
       "</div>"
      ]
     },
     "execution_count": 4,
     "metadata": {},
     "output_type": "execute_result"
    }
   ],
   "execution_count": 4
  },
  {
   "metadata": {
    "ExecuteTime": {
     "end_time": "2024-12-15T13:29:17.008041Z",
     "start_time": "2024-12-15T13:29:17.003126Z"
    }
   },
   "cell_type": "code",
   "source": [
    "# now define a score for each actor where nomination is 1 and win is 2\n",
    "oscar['score'] = oscar['winner'].apply(lambda x: 2 if x == True else 1)\n",
    "oscar.head()"
   ],
   "id": "18d524d8f25182d6",
   "outputs": [
    {
     "data": {
      "text/plain": [
       "   year_film  year_ceremony  ceremony category                 name  \\\n",
       "0       1927           1928         1    ACTOR  Richard Barthelmess   \n",
       "1       1927           1928         1    ACTOR        Emil Jannings   \n",
       "2       1927           1928         1  ACTRESS       Louise Dresser   \n",
       "3       1927           1928         1  ACTRESS         Janet Gaynor   \n",
       "4       1927           1928         1  ACTRESS       Gloria Swanson   \n",
       "\n",
       "               film  winner  score  \n",
       "0         The Noose   False      1  \n",
       "1  The Last Command    True      2  \n",
       "2   A Ship Comes In   False      1  \n",
       "3        7th Heaven    True      2  \n",
       "4    Sadie Thompson   False      1  "
      ],
      "text/html": [
       "<div>\n",
       "<style scoped>\n",
       "    .dataframe tbody tr th:only-of-type {\n",
       "        vertical-align: middle;\n",
       "    }\n",
       "\n",
       "    .dataframe tbody tr th {\n",
       "        vertical-align: top;\n",
       "    }\n",
       "\n",
       "    .dataframe thead th {\n",
       "        text-align: right;\n",
       "    }\n",
       "</style>\n",
       "<table border=\"1\" class=\"dataframe\">\n",
       "  <thead>\n",
       "    <tr style=\"text-align: right;\">\n",
       "      <th></th>\n",
       "      <th>year_film</th>\n",
       "      <th>year_ceremony</th>\n",
       "      <th>ceremony</th>\n",
       "      <th>category</th>\n",
       "      <th>name</th>\n",
       "      <th>film</th>\n",
       "      <th>winner</th>\n",
       "      <th>score</th>\n",
       "    </tr>\n",
       "  </thead>\n",
       "  <tbody>\n",
       "    <tr>\n",
       "      <th>0</th>\n",
       "      <td>1927</td>\n",
       "      <td>1928</td>\n",
       "      <td>1</td>\n",
       "      <td>ACTOR</td>\n",
       "      <td>Richard Barthelmess</td>\n",
       "      <td>The Noose</td>\n",
       "      <td>False</td>\n",
       "      <td>1</td>\n",
       "    </tr>\n",
       "    <tr>\n",
       "      <th>1</th>\n",
       "      <td>1927</td>\n",
       "      <td>1928</td>\n",
       "      <td>1</td>\n",
       "      <td>ACTOR</td>\n",
       "      <td>Emil Jannings</td>\n",
       "      <td>The Last Command</td>\n",
       "      <td>True</td>\n",
       "      <td>2</td>\n",
       "    </tr>\n",
       "    <tr>\n",
       "      <th>2</th>\n",
       "      <td>1927</td>\n",
       "      <td>1928</td>\n",
       "      <td>1</td>\n",
       "      <td>ACTRESS</td>\n",
       "      <td>Louise Dresser</td>\n",
       "      <td>A Ship Comes In</td>\n",
       "      <td>False</td>\n",
       "      <td>1</td>\n",
       "    </tr>\n",
       "    <tr>\n",
       "      <th>3</th>\n",
       "      <td>1927</td>\n",
       "      <td>1928</td>\n",
       "      <td>1</td>\n",
       "      <td>ACTRESS</td>\n",
       "      <td>Janet Gaynor</td>\n",
       "      <td>7th Heaven</td>\n",
       "      <td>True</td>\n",
       "      <td>2</td>\n",
       "    </tr>\n",
       "    <tr>\n",
       "      <th>4</th>\n",
       "      <td>1927</td>\n",
       "      <td>1928</td>\n",
       "      <td>1</td>\n",
       "      <td>ACTRESS</td>\n",
       "      <td>Gloria Swanson</td>\n",
       "      <td>Sadie Thompson</td>\n",
       "      <td>False</td>\n",
       "      <td>1</td>\n",
       "    </tr>\n",
       "  </tbody>\n",
       "</table>\n",
       "</div>"
      ]
     },
     "execution_count": 5,
     "metadata": {},
     "output_type": "execute_result"
    }
   ],
   "execution_count": 5
  },
  {
   "metadata": {
    "ExecuteTime": {
     "end_time": "2024-12-15T13:29:17.108470Z",
     "start_time": "2024-12-15T13:29:17.103233Z"
    }
   },
   "cell_type": "code",
   "source": [
    "# group by actor and sum the score\n",
    "successful_actors = oscar.groupby('name').sum()\n",
    "successful_actors.head()"
   ],
   "id": "cb899a2a9570d33c",
   "outputs": [
    {
     "data": {
      "text/plain": [
       "                 year_film  year_ceremony  ceremony  \\\n",
       "name                                                  \n",
       "Abigail Breslin       2006           2007        79   \n",
       "Adam Driver           4037           4039       183   \n",
       "Adolph Caesar         1984           1985        57   \n",
       "Adolphe Menjou        1930           1931         4   \n",
       "Adriana Barraza       2006           2007        79   \n",
       "\n",
       "                                                          category  \\\n",
       "name                                                                 \n",
       "Abigail Breslin                       ACTRESS IN A SUPPORTING ROLE   \n",
       "Adam Driver      ACTOR IN A SUPPORTING ROLEACTOR IN A LEADING ROLE   \n",
       "Adolph Caesar                           ACTOR IN A SUPPORTING ROLE   \n",
       "Adolphe Menjou                                               ACTOR   \n",
       "Adriana Barraza                       ACTRESS IN A SUPPORTING ROLE   \n",
       "\n",
       "                                         film  winner  score  \n",
       "name                                                          \n",
       "Abigail Breslin          Little Miss Sunshine       0      1  \n",
       "Adam Driver      BlacKkKlansmanMarriage Story       0      2  \n",
       "Adolph Caesar               A Soldier's Story       0      1  \n",
       "Adolphe Menjou                 The Front Page       0      1  \n",
       "Adriana Barraza                         Babel       0      1  "
      ],
      "text/html": [
       "<div>\n",
       "<style scoped>\n",
       "    .dataframe tbody tr th:only-of-type {\n",
       "        vertical-align: middle;\n",
       "    }\n",
       "\n",
       "    .dataframe tbody tr th {\n",
       "        vertical-align: top;\n",
       "    }\n",
       "\n",
       "    .dataframe thead th {\n",
       "        text-align: right;\n",
       "    }\n",
       "</style>\n",
       "<table border=\"1\" class=\"dataframe\">\n",
       "  <thead>\n",
       "    <tr style=\"text-align: right;\">\n",
       "      <th></th>\n",
       "      <th>year_film</th>\n",
       "      <th>year_ceremony</th>\n",
       "      <th>ceremony</th>\n",
       "      <th>category</th>\n",
       "      <th>film</th>\n",
       "      <th>winner</th>\n",
       "      <th>score</th>\n",
       "    </tr>\n",
       "    <tr>\n",
       "      <th>name</th>\n",
       "      <th></th>\n",
       "      <th></th>\n",
       "      <th></th>\n",
       "      <th></th>\n",
       "      <th></th>\n",
       "      <th></th>\n",
       "      <th></th>\n",
       "    </tr>\n",
       "  </thead>\n",
       "  <tbody>\n",
       "    <tr>\n",
       "      <th>Abigail Breslin</th>\n",
       "      <td>2006</td>\n",
       "      <td>2007</td>\n",
       "      <td>79</td>\n",
       "      <td>ACTRESS IN A SUPPORTING ROLE</td>\n",
       "      <td>Little Miss Sunshine</td>\n",
       "      <td>0</td>\n",
       "      <td>1</td>\n",
       "    </tr>\n",
       "    <tr>\n",
       "      <th>Adam Driver</th>\n",
       "      <td>4037</td>\n",
       "      <td>4039</td>\n",
       "      <td>183</td>\n",
       "      <td>ACTOR IN A SUPPORTING ROLEACTOR IN A LEADING ROLE</td>\n",
       "      <td>BlacKkKlansmanMarriage Story</td>\n",
       "      <td>0</td>\n",
       "      <td>2</td>\n",
       "    </tr>\n",
       "    <tr>\n",
       "      <th>Adolph Caesar</th>\n",
       "      <td>1984</td>\n",
       "      <td>1985</td>\n",
       "      <td>57</td>\n",
       "      <td>ACTOR IN A SUPPORTING ROLE</td>\n",
       "      <td>A Soldier's Story</td>\n",
       "      <td>0</td>\n",
       "      <td>1</td>\n",
       "    </tr>\n",
       "    <tr>\n",
       "      <th>Adolphe Menjou</th>\n",
       "      <td>1930</td>\n",
       "      <td>1931</td>\n",
       "      <td>4</td>\n",
       "      <td>ACTOR</td>\n",
       "      <td>The Front Page</td>\n",
       "      <td>0</td>\n",
       "      <td>1</td>\n",
       "    </tr>\n",
       "    <tr>\n",
       "      <th>Adriana Barraza</th>\n",
       "      <td>2006</td>\n",
       "      <td>2007</td>\n",
       "      <td>79</td>\n",
       "      <td>ACTRESS IN A SUPPORTING ROLE</td>\n",
       "      <td>Babel</td>\n",
       "      <td>0</td>\n",
       "      <td>1</td>\n",
       "    </tr>\n",
       "  </tbody>\n",
       "</table>\n",
       "</div>"
      ]
     },
     "execution_count": 6,
     "metadata": {},
     "output_type": "execute_result"
    }
   ],
   "execution_count": 6
  },
  {
   "metadata": {
    "ExecuteTime": {
     "end_time": "2024-12-15T13:29:17.191230Z",
     "start_time": "2024-12-15T13:29:17.186839Z"
    }
   },
   "cell_type": "code",
   "source": [
    "# now sort by score and show the top 50\n",
    "successful_actors = successful_actors.sort_values(by='score', ascending=False)\n",
    "successful_actors.head(5)"
   ],
   "id": "f1810b4e64bfcd80",
   "outputs": [
    {
     "data": {
      "text/plain": [
       "                   year_film  year_ceremony  ceremony  \\\n",
       "name                                                    \n",
       "Meryl Streep           41941          41962      1474   \n",
       "Katharine Hepburn      23448          23460       325   \n",
       "Jack Nicholson         23788          23800       664   \n",
       "Bette Davis            21377          21388       180   \n",
       "Denzel Washington      18034          18043       691   \n",
       "\n",
       "                                                            category  \\\n",
       "name                                                                   \n",
       "Meryl Streep       ACTRESS IN A SUPPORTING ROLEACTRESS IN A SUPPO...   \n",
       "Katharine Hepburn  ACTRESSACTRESSACTRESSACTRESSACTRESSACTRESSACTR...   \n",
       "Jack Nicholson     ACTOR IN A SUPPORTING ROLEACTORACTORACTORACTOR...   \n",
       "Bette Davis        ACTRESSACTRESSACTRESSACTRESSACTRESSACTRESSACTR...   \n",
       "Denzel Washington  ACTOR IN A SUPPORTING ROLEACTOR IN A SUPPORTIN...   \n",
       "\n",
       "                                                                film  winner  \\\n",
       "name                                                                           \n",
       "Meryl Streep       The Deer HunterKramer vs. KramerThe French Lie...       3   \n",
       "Katharine Hepburn  Morning GloryAlice AdamsThe Philadelphia Story...       4   \n",
       "Jack Nicholson     Easy RiderFive Easy PiecesThe Last DetailChina...       3   \n",
       "Bette Davis        Of Human BondageDangerousJezebelDark VictoryTh...       2   \n",
       "Denzel Washington  Cry FreedomGloryMalcolm XThe HurricaneTraining...       2   \n",
       "\n",
       "                   score  \n",
       "name                      \n",
       "Meryl Streep          24  \n",
       "Katharine Hepburn     16  \n",
       "Jack Nicholson        15  \n",
       "Bette Davis           13  \n",
       "Denzel Washington     11  "
      ],
      "text/html": [
       "<div>\n",
       "<style scoped>\n",
       "    .dataframe tbody tr th:only-of-type {\n",
       "        vertical-align: middle;\n",
       "    }\n",
       "\n",
       "    .dataframe tbody tr th {\n",
       "        vertical-align: top;\n",
       "    }\n",
       "\n",
       "    .dataframe thead th {\n",
       "        text-align: right;\n",
       "    }\n",
       "</style>\n",
       "<table border=\"1\" class=\"dataframe\">\n",
       "  <thead>\n",
       "    <tr style=\"text-align: right;\">\n",
       "      <th></th>\n",
       "      <th>year_film</th>\n",
       "      <th>year_ceremony</th>\n",
       "      <th>ceremony</th>\n",
       "      <th>category</th>\n",
       "      <th>film</th>\n",
       "      <th>winner</th>\n",
       "      <th>score</th>\n",
       "    </tr>\n",
       "    <tr>\n",
       "      <th>name</th>\n",
       "      <th></th>\n",
       "      <th></th>\n",
       "      <th></th>\n",
       "      <th></th>\n",
       "      <th></th>\n",
       "      <th></th>\n",
       "      <th></th>\n",
       "    </tr>\n",
       "  </thead>\n",
       "  <tbody>\n",
       "    <tr>\n",
       "      <th>Meryl Streep</th>\n",
       "      <td>41941</td>\n",
       "      <td>41962</td>\n",
       "      <td>1474</td>\n",
       "      <td>ACTRESS IN A SUPPORTING ROLEACTRESS IN A SUPPO...</td>\n",
       "      <td>The Deer HunterKramer vs. KramerThe French Lie...</td>\n",
       "      <td>3</td>\n",
       "      <td>24</td>\n",
       "    </tr>\n",
       "    <tr>\n",
       "      <th>Katharine Hepburn</th>\n",
       "      <td>23448</td>\n",
       "      <td>23460</td>\n",
       "      <td>325</td>\n",
       "      <td>ACTRESSACTRESSACTRESSACTRESSACTRESSACTRESSACTR...</td>\n",
       "      <td>Morning GloryAlice AdamsThe Philadelphia Story...</td>\n",
       "      <td>4</td>\n",
       "      <td>16</td>\n",
       "    </tr>\n",
       "    <tr>\n",
       "      <th>Jack Nicholson</th>\n",
       "      <td>23788</td>\n",
       "      <td>23800</td>\n",
       "      <td>664</td>\n",
       "      <td>ACTOR IN A SUPPORTING ROLEACTORACTORACTORACTOR...</td>\n",
       "      <td>Easy RiderFive Easy PiecesThe Last DetailChina...</td>\n",
       "      <td>3</td>\n",
       "      <td>15</td>\n",
       "    </tr>\n",
       "    <tr>\n",
       "      <th>Bette Davis</th>\n",
       "      <td>21377</td>\n",
       "      <td>21388</td>\n",
       "      <td>180</td>\n",
       "      <td>ACTRESSACTRESSACTRESSACTRESSACTRESSACTRESSACTR...</td>\n",
       "      <td>Of Human BondageDangerousJezebelDark VictoryTh...</td>\n",
       "      <td>2</td>\n",
       "      <td>13</td>\n",
       "    </tr>\n",
       "    <tr>\n",
       "      <th>Denzel Washington</th>\n",
       "      <td>18034</td>\n",
       "      <td>18043</td>\n",
       "      <td>691</td>\n",
       "      <td>ACTOR IN A SUPPORTING ROLEACTOR IN A SUPPORTIN...</td>\n",
       "      <td>Cry FreedomGloryMalcolm XThe HurricaneTraining...</td>\n",
       "      <td>2</td>\n",
       "      <td>11</td>\n",
       "    </tr>\n",
       "  </tbody>\n",
       "</table>\n",
       "</div>"
      ]
     },
     "execution_count": 7,
     "metadata": {},
     "output_type": "execute_result"
    }
   ],
   "execution_count": 7
  },
  {
   "metadata": {
    "ExecuteTime": {
     "end_time": "2024-12-15T13:29:17.319674Z",
     "start_time": "2024-12-15T13:29:17.317553Z"
    }
   },
   "cell_type": "code",
   "source": [
    "# drop the year_film, year_ceremony, ceremony, category, film and winner columns\n",
    "successful_actors = successful_actors.drop(columns=['year_film', 'year_ceremony', 'ceremony', 'category', 'film', 'winner'])\n"
   ],
   "id": "e092442873c07544",
   "outputs": [],
   "execution_count": 8
  },
  {
   "metadata": {
    "ExecuteTime": {
     "end_time": "2024-12-15T13:29:17.517781Z",
     "start_time": "2024-12-15T13:29:17.514423Z"
    }
   },
   "cell_type": "code",
   "source": [
    "# rename 'name' to 'actor' and 'score' to 'oscar_score'\n",
    "successful_actors = successful_actors.rename(columns={'name': 'actor', 'score': 'oscar_score'})\n",
    "successful_actors.head()"
   ],
   "id": "d8fa4ad8a524900e",
   "outputs": [
    {
     "data": {
      "text/plain": [
       "                   oscar_score\n",
       "name                          \n",
       "Meryl Streep                24\n",
       "Katharine Hepburn           16\n",
       "Jack Nicholson              15\n",
       "Bette Davis                 13\n",
       "Denzel Washington           11"
      ],
      "text/html": [
       "<div>\n",
       "<style scoped>\n",
       "    .dataframe tbody tr th:only-of-type {\n",
       "        vertical-align: middle;\n",
       "    }\n",
       "\n",
       "    .dataframe tbody tr th {\n",
       "        vertical-align: top;\n",
       "    }\n",
       "\n",
       "    .dataframe thead th {\n",
       "        text-align: right;\n",
       "    }\n",
       "</style>\n",
       "<table border=\"1\" class=\"dataframe\">\n",
       "  <thead>\n",
       "    <tr style=\"text-align: right;\">\n",
       "      <th></th>\n",
       "      <th>oscar_score</th>\n",
       "    </tr>\n",
       "    <tr>\n",
       "      <th>name</th>\n",
       "      <th></th>\n",
       "    </tr>\n",
       "  </thead>\n",
       "  <tbody>\n",
       "    <tr>\n",
       "      <th>Meryl Streep</th>\n",
       "      <td>24</td>\n",
       "    </tr>\n",
       "    <tr>\n",
       "      <th>Katharine Hepburn</th>\n",
       "      <td>16</td>\n",
       "    </tr>\n",
       "    <tr>\n",
       "      <th>Jack Nicholson</th>\n",
       "      <td>15</td>\n",
       "    </tr>\n",
       "    <tr>\n",
       "      <th>Bette Davis</th>\n",
       "      <td>13</td>\n",
       "    </tr>\n",
       "    <tr>\n",
       "      <th>Denzel Washington</th>\n",
       "      <td>11</td>\n",
       "    </tr>\n",
       "  </tbody>\n",
       "</table>\n",
       "</div>"
      ]
     },
     "execution_count": 9,
     "metadata": {},
     "output_type": "execute_result"
    }
   ],
   "execution_count": 9
  },
  {
   "metadata": {
    "ExecuteTime": {
     "end_time": "2024-12-15T13:29:17.579013Z",
     "start_time": "2024-12-15T13:29:17.576073Z"
    }
   },
   "cell_type": "code",
   "source": "successful_actors.head(5)",
   "id": "8948970b467eb030",
   "outputs": [
    {
     "data": {
      "text/plain": [
       "                   oscar_score\n",
       "name                          \n",
       "Meryl Streep                24\n",
       "Katharine Hepburn           16\n",
       "Jack Nicholson              15\n",
       "Bette Davis                 13\n",
       "Denzel Washington           11"
      ],
      "text/html": [
       "<div>\n",
       "<style scoped>\n",
       "    .dataframe tbody tr th:only-of-type {\n",
       "        vertical-align: middle;\n",
       "    }\n",
       "\n",
       "    .dataframe tbody tr th {\n",
       "        vertical-align: top;\n",
       "    }\n",
       "\n",
       "    .dataframe thead th {\n",
       "        text-align: right;\n",
       "    }\n",
       "</style>\n",
       "<table border=\"1\" class=\"dataframe\">\n",
       "  <thead>\n",
       "    <tr style=\"text-align: right;\">\n",
       "      <th></th>\n",
       "      <th>oscar_score</th>\n",
       "    </tr>\n",
       "    <tr>\n",
       "      <th>name</th>\n",
       "      <th></th>\n",
       "    </tr>\n",
       "  </thead>\n",
       "  <tbody>\n",
       "    <tr>\n",
       "      <th>Meryl Streep</th>\n",
       "      <td>24</td>\n",
       "    </tr>\n",
       "    <tr>\n",
       "      <th>Katharine Hepburn</th>\n",
       "      <td>16</td>\n",
       "    </tr>\n",
       "    <tr>\n",
       "      <th>Jack Nicholson</th>\n",
       "      <td>15</td>\n",
       "    </tr>\n",
       "    <tr>\n",
       "      <th>Bette Davis</th>\n",
       "      <td>13</td>\n",
       "    </tr>\n",
       "    <tr>\n",
       "      <th>Denzel Washington</th>\n",
       "      <td>11</td>\n",
       "    </tr>\n",
       "  </tbody>\n",
       "</table>\n",
       "</div>"
      ]
     },
     "execution_count": 10,
     "metadata": {},
     "output_type": "execute_result"
    }
   ],
   "execution_count": 10
  },
  {
   "metadata": {
    "ExecuteTime": {
     "end_time": "2024-12-15T13:29:17.642860Z",
     "start_time": "2024-12-15T13:29:17.637826Z"
    }
   },
   "cell_type": "code",
   "source": "imdb.head()",
   "id": "e29944e4a0d89099",
   "outputs": [
    {
     "data": {
      "text/plain": [
       "                         names     date_x  score  \\\n",
       "0                    Creed III 2023-03-02   73.0   \n",
       "1     Avatar: The Way of Water 2022-12-15   78.0   \n",
       "2  The Super Mario Bros. Movie 2023-04-05   76.0   \n",
       "3                      Mummies 2023-01-05   70.0   \n",
       "4                    Supercell 2023-03-17   61.0   \n",
       "\n",
       "                                           genre  \\\n",
       "0                                  Drama, Action   \n",
       "1             Science Fiction, Adventure, Action   \n",
       "2  Animation, Adventure, Family, Fantasy, Comedy   \n",
       "3  Animation, Comedy, Family, Adventure, Fantasy   \n",
       "4                                         Action   \n",
       "\n",
       "                                            overview  \\\n",
       "0  After dominating the boxing world, Adonis Cree...   \n",
       "1  Set more than a decade after the events of the...   \n",
       "2  While working underground to fix a water main,...   \n",
       "3  Through a series of unfortunate events, three ...   \n",
       "4  Good-hearted teenager William always lived in ...   \n",
       "\n",
       "                                                crew  \\\n",
       "0  Michael B. Jordan, Adonis Creed, Tessa Thompso...   \n",
       "1  Sam Worthington, Jake Sully, Zoe Saldaña, Neyt...   \n",
       "2  Chris Pratt, Mario (voice), Anya Taylor-Joy, P...   \n",
       "3  Óscar Barberán, Thut (voice), Ana Esther Albor...   \n",
       "4  Skeet Ulrich, Roy Cameron, Anne Heche, Dr Quin...   \n",
       "\n",
       "                    orig_title     status            orig_lang     budget_x  \\\n",
       "0                    Creed III   Released              English   75000000.0   \n",
       "1     Avatar: The Way of Water   Released              English  460000000.0   \n",
       "2  The Super Mario Bros. Movie   Released              English  100000000.0   \n",
       "3                       Momias   Released   Spanish, Castilian   12300000.0   \n",
       "4                    Supercell   Released              English   77000000.0   \n",
       "\n",
       "        revenue country  \n",
       "0  2.716167e+08      AU  \n",
       "1  2.316795e+09      AU  \n",
       "2  7.244590e+08      AU  \n",
       "3  3.420000e+07      AU  \n",
       "4  3.409420e+08      US  "
      ],
      "text/html": [
       "<div>\n",
       "<style scoped>\n",
       "    .dataframe tbody tr th:only-of-type {\n",
       "        vertical-align: middle;\n",
       "    }\n",
       "\n",
       "    .dataframe tbody tr th {\n",
       "        vertical-align: top;\n",
       "    }\n",
       "\n",
       "    .dataframe thead th {\n",
       "        text-align: right;\n",
       "    }\n",
       "</style>\n",
       "<table border=\"1\" class=\"dataframe\">\n",
       "  <thead>\n",
       "    <tr style=\"text-align: right;\">\n",
       "      <th></th>\n",
       "      <th>names</th>\n",
       "      <th>date_x</th>\n",
       "      <th>score</th>\n",
       "      <th>genre</th>\n",
       "      <th>overview</th>\n",
       "      <th>crew</th>\n",
       "      <th>orig_title</th>\n",
       "      <th>status</th>\n",
       "      <th>orig_lang</th>\n",
       "      <th>budget_x</th>\n",
       "      <th>revenue</th>\n",
       "      <th>country</th>\n",
       "    </tr>\n",
       "  </thead>\n",
       "  <tbody>\n",
       "    <tr>\n",
       "      <th>0</th>\n",
       "      <td>Creed III</td>\n",
       "      <td>2023-03-02</td>\n",
       "      <td>73.0</td>\n",
       "      <td>Drama, Action</td>\n",
       "      <td>After dominating the boxing world, Adonis Cree...</td>\n",
       "      <td>Michael B. Jordan, Adonis Creed, Tessa Thompso...</td>\n",
       "      <td>Creed III</td>\n",
       "      <td>Released</td>\n",
       "      <td>English</td>\n",
       "      <td>75000000.0</td>\n",
       "      <td>2.716167e+08</td>\n",
       "      <td>AU</td>\n",
       "    </tr>\n",
       "    <tr>\n",
       "      <th>1</th>\n",
       "      <td>Avatar: The Way of Water</td>\n",
       "      <td>2022-12-15</td>\n",
       "      <td>78.0</td>\n",
       "      <td>Science Fiction, Adventure, Action</td>\n",
       "      <td>Set more than a decade after the events of the...</td>\n",
       "      <td>Sam Worthington, Jake Sully, Zoe Saldaña, Neyt...</td>\n",
       "      <td>Avatar: The Way of Water</td>\n",
       "      <td>Released</td>\n",
       "      <td>English</td>\n",
       "      <td>460000000.0</td>\n",
       "      <td>2.316795e+09</td>\n",
       "      <td>AU</td>\n",
       "    </tr>\n",
       "    <tr>\n",
       "      <th>2</th>\n",
       "      <td>The Super Mario Bros. Movie</td>\n",
       "      <td>2023-04-05</td>\n",
       "      <td>76.0</td>\n",
       "      <td>Animation, Adventure, Family, Fantasy, Comedy</td>\n",
       "      <td>While working underground to fix a water main,...</td>\n",
       "      <td>Chris Pratt, Mario (voice), Anya Taylor-Joy, P...</td>\n",
       "      <td>The Super Mario Bros. Movie</td>\n",
       "      <td>Released</td>\n",
       "      <td>English</td>\n",
       "      <td>100000000.0</td>\n",
       "      <td>7.244590e+08</td>\n",
       "      <td>AU</td>\n",
       "    </tr>\n",
       "    <tr>\n",
       "      <th>3</th>\n",
       "      <td>Mummies</td>\n",
       "      <td>2023-01-05</td>\n",
       "      <td>70.0</td>\n",
       "      <td>Animation, Comedy, Family, Adventure, Fantasy</td>\n",
       "      <td>Through a series of unfortunate events, three ...</td>\n",
       "      <td>Óscar Barberán, Thut (voice), Ana Esther Albor...</td>\n",
       "      <td>Momias</td>\n",
       "      <td>Released</td>\n",
       "      <td>Spanish, Castilian</td>\n",
       "      <td>12300000.0</td>\n",
       "      <td>3.420000e+07</td>\n",
       "      <td>AU</td>\n",
       "    </tr>\n",
       "    <tr>\n",
       "      <th>4</th>\n",
       "      <td>Supercell</td>\n",
       "      <td>2023-03-17</td>\n",
       "      <td>61.0</td>\n",
       "      <td>Action</td>\n",
       "      <td>Good-hearted teenager William always lived in ...</td>\n",
       "      <td>Skeet Ulrich, Roy Cameron, Anne Heche, Dr Quin...</td>\n",
       "      <td>Supercell</td>\n",
       "      <td>Released</td>\n",
       "      <td>English</td>\n",
       "      <td>77000000.0</td>\n",
       "      <td>3.409420e+08</td>\n",
       "      <td>US</td>\n",
       "    </tr>\n",
       "  </tbody>\n",
       "</table>\n",
       "</div>"
      ]
     },
     "execution_count": 11,
     "metadata": {},
     "output_type": "execute_result"
    }
   ],
   "execution_count": 11
  },
  {
   "metadata": {},
   "cell_type": "markdown",
   "source": "to get a more refined score, we will use the IMDB dataset to get the average rating of the actors movies and add it to the oscar score.",
   "id": "c5ccc07bddde4ac7"
  },
  {
   "metadata": {},
   "cell_type": "markdown",
   "source": [
    "# Calculate IMDB Score\n",
    "We use the IMDB dataset to calculate the average rating of the actors' movies and add it to the Oscar score."
   ],
   "id": "2330d7b8dd50ad41"
  },
  {
   "metadata": {
    "ExecuteTime": {
     "end_time": "2024-12-15T13:29:29.197034Z",
     "start_time": "2024-12-15T13:29:17.749902Z"
    }
   },
   "cell_type": "code",
   "source": [
    "successful_actors['imdb_score'] = 0\n",
    "successful_actors['num_movies'] = 0\n",
    "# the actor name is in the 'crew' column which contains comma separated values of all the actors in the movie\n",
    "# we will split the string and check if the actor is in the string\n",
    "# if he is, we will add the rating to the imdb_score\n",
    "for index, row in imdb.iterrows():\n",
    "    for actor in successful_actors.index:\n",
    "        if actor in str(row['crew']):\n",
    "            successful_actors.loc[actor, 'imdb_score'] += row['score']\n",
    "            successful_actors.loc[actor, 'num_movies'] += 1\n",
    "# now we need to divide the imdb_score by the number of movies the actor was in and divide aerage score by 10\n",
    "successful_actors['imdb_score'] = (successful_actors['imdb_score'] / successful_actors['num_movies']) / 10\n",
    "successful_actors.head()"
   ],
   "id": "7bd663660056ea90",
   "outputs": [
    {
     "data": {
      "text/plain": [
       "                   oscar_score  imdb_score  num_movies\n",
       "name                                                  \n",
       "Meryl Streep                24    6.993103          29\n",
       "Katharine Hepburn           16    7.500000           5\n",
       "Jack Nicholson              15    7.058824          17\n",
       "Bette Davis                 13    7.733333           3\n",
       "Denzel Washington           11    6.694595          37"
      ],
      "text/html": [
       "<div>\n",
       "<style scoped>\n",
       "    .dataframe tbody tr th:only-of-type {\n",
       "        vertical-align: middle;\n",
       "    }\n",
       "\n",
       "    .dataframe tbody tr th {\n",
       "        vertical-align: top;\n",
       "    }\n",
       "\n",
       "    .dataframe thead th {\n",
       "        text-align: right;\n",
       "    }\n",
       "</style>\n",
       "<table border=\"1\" class=\"dataframe\">\n",
       "  <thead>\n",
       "    <tr style=\"text-align: right;\">\n",
       "      <th></th>\n",
       "      <th>oscar_score</th>\n",
       "      <th>imdb_score</th>\n",
       "      <th>num_movies</th>\n",
       "    </tr>\n",
       "    <tr>\n",
       "      <th>name</th>\n",
       "      <th></th>\n",
       "      <th></th>\n",
       "      <th></th>\n",
       "    </tr>\n",
       "  </thead>\n",
       "  <tbody>\n",
       "    <tr>\n",
       "      <th>Meryl Streep</th>\n",
       "      <td>24</td>\n",
       "      <td>6.993103</td>\n",
       "      <td>29</td>\n",
       "    </tr>\n",
       "    <tr>\n",
       "      <th>Katharine Hepburn</th>\n",
       "      <td>16</td>\n",
       "      <td>7.500000</td>\n",
       "      <td>5</td>\n",
       "    </tr>\n",
       "    <tr>\n",
       "      <th>Jack Nicholson</th>\n",
       "      <td>15</td>\n",
       "      <td>7.058824</td>\n",
       "      <td>17</td>\n",
       "    </tr>\n",
       "    <tr>\n",
       "      <th>Bette Davis</th>\n",
       "      <td>13</td>\n",
       "      <td>7.733333</td>\n",
       "      <td>3</td>\n",
       "    </tr>\n",
       "    <tr>\n",
       "      <th>Denzel Washington</th>\n",
       "      <td>11</td>\n",
       "      <td>6.694595</td>\n",
       "      <td>37</td>\n",
       "    </tr>\n",
       "  </tbody>\n",
       "</table>\n",
       "</div>"
      ]
     },
     "execution_count": 12,
     "metadata": {},
     "output_type": "execute_result"
    }
   ],
   "execution_count": 12
  },
  {
   "metadata": {},
   "cell_type": "markdown",
   "source": [
    "# Filter Actors with IMDB Score\n",
    "We drop all actors that have no IMDB score and print how many actors are left."
   ],
   "id": "6aa3b200df2f9fac"
  },
  {
   "metadata": {
    "ExecuteTime": {
     "end_time": "2024-12-15T13:29:29.274725Z",
     "start_time": "2024-12-15T13:29:29.272077Z"
    }
   },
   "cell_type": "code",
   "source": [
    "# drop all actors that have no imdb score and print how many actors are left\n",
    "before = successful_actors.shape[0]\n",
    "successful_actors = successful_actors[successful_actors['imdb_score'] != 0]\n",
    "after = successful_actors.shape[0]\n",
    "print(f'{before - after} actors were dropped')"
   ],
   "id": "eb0db582d7398d22",
   "outputs": [
    {
     "name": "stdout",
     "output_type": "stream",
     "text": [
      "0 actors were dropped\n"
     ]
    }
   ],
   "execution_count": 13
  },
  {
   "metadata": {},
   "cell_type": "markdown",
   "source": "We add a final score column that is the sum of the Oscar score and the IMDB score.\n",
   "id": "40e338d31daaeaf3"
  },
  {
   "metadata": {
    "ExecuteTime": {
     "end_time": "2024-12-15T13:29:29.316872Z",
     "start_time": "2024-12-15T13:29:29.312452Z"
    }
   },
   "cell_type": "code",
   "source": [
    "#add a final_score column that is the sum of the oscar_score and the imdb_score\n",
    "successful_actors['final_score'] = successful_actors['oscar_score'] + successful_actors['imdb_score']\n",
    "successful_actors.head()"
   ],
   "id": "1158c3e7908084b1",
   "outputs": [
    {
     "data": {
      "text/plain": [
       "                   oscar_score  imdb_score  num_movies  final_score\n",
       "name                                                               \n",
       "Meryl Streep                24    6.993103          29    30.993103\n",
       "Katharine Hepburn           16    7.500000           5    23.500000\n",
       "Jack Nicholson              15    7.058824          17    22.058824\n",
       "Bette Davis                 13    7.733333           3    20.733333\n",
       "Denzel Washington           11    6.694595          37    17.694595"
      ],
      "text/html": [
       "<div>\n",
       "<style scoped>\n",
       "    .dataframe tbody tr th:only-of-type {\n",
       "        vertical-align: middle;\n",
       "    }\n",
       "\n",
       "    .dataframe tbody tr th {\n",
       "        vertical-align: top;\n",
       "    }\n",
       "\n",
       "    .dataframe thead th {\n",
       "        text-align: right;\n",
       "    }\n",
       "</style>\n",
       "<table border=\"1\" class=\"dataframe\">\n",
       "  <thead>\n",
       "    <tr style=\"text-align: right;\">\n",
       "      <th></th>\n",
       "      <th>oscar_score</th>\n",
       "      <th>imdb_score</th>\n",
       "      <th>num_movies</th>\n",
       "      <th>final_score</th>\n",
       "    </tr>\n",
       "    <tr>\n",
       "      <th>name</th>\n",
       "      <th></th>\n",
       "      <th></th>\n",
       "      <th></th>\n",
       "      <th></th>\n",
       "    </tr>\n",
       "  </thead>\n",
       "  <tbody>\n",
       "    <tr>\n",
       "      <th>Meryl Streep</th>\n",
       "      <td>24</td>\n",
       "      <td>6.993103</td>\n",
       "      <td>29</td>\n",
       "      <td>30.993103</td>\n",
       "    </tr>\n",
       "    <tr>\n",
       "      <th>Katharine Hepburn</th>\n",
       "      <td>16</td>\n",
       "      <td>7.500000</td>\n",
       "      <td>5</td>\n",
       "      <td>23.500000</td>\n",
       "    </tr>\n",
       "    <tr>\n",
       "      <th>Jack Nicholson</th>\n",
       "      <td>15</td>\n",
       "      <td>7.058824</td>\n",
       "      <td>17</td>\n",
       "      <td>22.058824</td>\n",
       "    </tr>\n",
       "    <tr>\n",
       "      <th>Bette Davis</th>\n",
       "      <td>13</td>\n",
       "      <td>7.733333</td>\n",
       "      <td>3</td>\n",
       "      <td>20.733333</td>\n",
       "    </tr>\n",
       "    <tr>\n",
       "      <th>Denzel Washington</th>\n",
       "      <td>11</td>\n",
       "      <td>6.694595</td>\n",
       "      <td>37</td>\n",
       "      <td>17.694595</td>\n",
       "    </tr>\n",
       "  </tbody>\n",
       "</table>\n",
       "</div>"
      ]
     },
     "execution_count": 14,
     "metadata": {},
     "output_type": "execute_result"
    }
   ],
   "execution_count": 14
  },
  {
   "metadata": {
    "ExecuteTime": {
     "end_time": "2024-12-15T13:29:29.417259Z",
     "start_time": "2024-12-15T13:29:29.413217Z"
    }
   },
   "cell_type": "code",
   "source": "successful_actors.head(5)",
   "id": "3fa70fbbe4adb443",
   "outputs": [
    {
     "data": {
      "text/plain": [
       "                   oscar_score  imdb_score  num_movies  final_score\n",
       "name                                                               \n",
       "Meryl Streep                24    6.993103          29    30.993103\n",
       "Katharine Hepburn           16    7.500000           5    23.500000\n",
       "Jack Nicholson              15    7.058824          17    22.058824\n",
       "Bette Davis                 13    7.733333           3    20.733333\n",
       "Denzel Washington           11    6.694595          37    17.694595"
      ],
      "text/html": [
       "<div>\n",
       "<style scoped>\n",
       "    .dataframe tbody tr th:only-of-type {\n",
       "        vertical-align: middle;\n",
       "    }\n",
       "\n",
       "    .dataframe tbody tr th {\n",
       "        vertical-align: top;\n",
       "    }\n",
       "\n",
       "    .dataframe thead th {\n",
       "        text-align: right;\n",
       "    }\n",
       "</style>\n",
       "<table border=\"1\" class=\"dataframe\">\n",
       "  <thead>\n",
       "    <tr style=\"text-align: right;\">\n",
       "      <th></th>\n",
       "      <th>oscar_score</th>\n",
       "      <th>imdb_score</th>\n",
       "      <th>num_movies</th>\n",
       "      <th>final_score</th>\n",
       "    </tr>\n",
       "    <tr>\n",
       "      <th>name</th>\n",
       "      <th></th>\n",
       "      <th></th>\n",
       "      <th></th>\n",
       "      <th></th>\n",
       "    </tr>\n",
       "  </thead>\n",
       "  <tbody>\n",
       "    <tr>\n",
       "      <th>Meryl Streep</th>\n",
       "      <td>24</td>\n",
       "      <td>6.993103</td>\n",
       "      <td>29</td>\n",
       "      <td>30.993103</td>\n",
       "    </tr>\n",
       "    <tr>\n",
       "      <th>Katharine Hepburn</th>\n",
       "      <td>16</td>\n",
       "      <td>7.500000</td>\n",
       "      <td>5</td>\n",
       "      <td>23.500000</td>\n",
       "    </tr>\n",
       "    <tr>\n",
       "      <th>Jack Nicholson</th>\n",
       "      <td>15</td>\n",
       "      <td>7.058824</td>\n",
       "      <td>17</td>\n",
       "      <td>22.058824</td>\n",
       "    </tr>\n",
       "    <tr>\n",
       "      <th>Bette Davis</th>\n",
       "      <td>13</td>\n",
       "      <td>7.733333</td>\n",
       "      <td>3</td>\n",
       "      <td>20.733333</td>\n",
       "    </tr>\n",
       "    <tr>\n",
       "      <th>Denzel Washington</th>\n",
       "      <td>11</td>\n",
       "      <td>6.694595</td>\n",
       "      <td>37</td>\n",
       "      <td>17.694595</td>\n",
       "    </tr>\n",
       "  </tbody>\n",
       "</table>\n",
       "</div>"
      ]
     },
     "execution_count": 15,
     "metadata": {},
     "output_type": "execute_result"
    }
   ],
   "execution_count": 15
  },
  {
   "metadata": {
    "ExecuteTime": {
     "end_time": "2024-12-15T13:29:29.494996Z",
     "start_time": "2024-12-15T13:29:29.488661Z"
    }
   },
   "cell_type": "code",
   "source": "rotten.head(5)",
   "id": "6200660f1b061ff9",
   "outputs": [
    {
     "data": {
      "text/plain": [
       "                               title  year  \\\n",
       "0                      Black Panther  2018   \n",
       "1                  Avengers: Endgame  2019   \n",
       "2     Mission: Impossible -- Fallout  2018   \n",
       "3                 Mad Max: Fury Road  2015   \n",
       "4  Spider-Man: Into the Spider-Verse  2018   \n",
       "\n",
       "                                            synopsis  critic_score  \\\n",
       "0  After the death of his father, T'Challa return...            96   \n",
       "1  Adrift in space with no food or water, Tony St...            94   \n",
       "2  Ethan Hunt and the IMF team join forces with C...            97   \n",
       "3  Years after the collapse of civilization, the ...            97   \n",
       "4  Bitten by a radioactive spider in the subway, ...            97   \n",
       "\n",
       "   people_score                                          consensus  \\\n",
       "0          79.0  Black Panther elevates superhero cinema to thr...   \n",
       "1          90.0  Exciting, entertaining, and emotionally impact...   \n",
       "2          88.0  Fast, sleek, and fun, Mission: Impossible - Fa...   \n",
       "3          86.0  With exhilarating action and a surprising amou...   \n",
       "4          93.0  Spider-Man: Into the Spider-Verse matches bold...   \n",
       "\n",
       "   total_reviews total_ratings                type  \\\n",
       "0            519       50,000+  Action & Adventure   \n",
       "1            538       50,000+  Action & Adventure   \n",
       "2            433       10,000+  Action & Adventure   \n",
       "3            427      100,000+  Action & Adventure   \n",
       "4            387       10,000+  Action & Adventure   \n",
       "\n",
       "                                              rating  ...  \\\n",
       "0  PG-13 (Sequences of Action Violence|A Brief Ru...  ...   \n",
       "1  PG-13 (Sequences of Sci-Fi Violence|Action|Som...  ...   \n",
       "2  PG-13 (Intense Sequences of Action|Brief Stron...  ...   \n",
       "3  R (Intense Sequences of Violence|Disturbing Im...  ...   \n",
       "4  PG (Mild Language|Frenetic Action Violence|The...  ...   \n",
       "\n",
       "                                            writer release_date_(theaters)  \\\n",
       "0                    Ryan Coogler, Joe Robert Cole       Feb 16, 2018 wide   \n",
       "1              Christopher Markus, Stephen McFeely       Apr 26, 2019 wide   \n",
       "2                            Christopher McQuarrie       Jul 27, 2018 wide   \n",
       "3  George Miller, Brendan McCarthy, Nick Lathouris       May 15, 2015 wide   \n",
       "4                        Phil Lord, Rodney Rothman       Dec 14, 2018 wide   \n",
       "\n",
       "  release_date_(streaming) box_office_(gross_usa) runtime  \\\n",
       "0              May 2, 2018                $700.2M  2h 14m   \n",
       "1             Jul 30, 2019                $858.4M   3h 1m   \n",
       "2             Nov 20, 2018                $220.1M  2h 27m   \n",
       "3             Aug 10, 2016                $153.6M      2h   \n",
       "4              Mar 7, 2019                $190.2M  1h 57m   \n",
       "\n",
       "                                       production_co  \\\n",
       "0                               Walt Disney Pictures   \n",
       "1               Marvel Studios, Walt Disney Pictures   \n",
       "2                              Bad Robot, Tom Cruise   \n",
       "3  Kennedy Miller Mitchell, Village Roadshow Pict...   \n",
       "4  Lord Miller, Sony Pictures Animation, Pascal P...   \n",
       "\n",
       "                               sound_mix    aspect_ratio  \\\n",
       "0                       DTS, Dolby Atmos  Scope (2.35:1)   \n",
       "1  Dolby Atmos, DTS, Dolby Digital, SDDS  Scope (2.35:1)   \n",
       "2        DTS, Dolby Atmos, Dolby Digital  Scope (2.35:1)   \n",
       "3                            Dolby Atmos  Scope (2.35:1)   \n",
       "4  Dolby Atmos, DTS, Dolby Digital, SDDS  Scope (2.35:1)   \n",
       "\n",
       "         view_the_collection  \\\n",
       "0  Marvel Cinematic Universe   \n",
       "1  Marvel Cinematic Universe   \n",
       "2                        NaN   \n",
       "3                        NaN   \n",
       "4                        NaN   \n",
       "\n",
       "                                                crew  \n",
       "0  Chadwick Boseman, Michael B. Jordan, Lupita Ny...  \n",
       "1  Robert Downey Jr., Chris Evans, Mark Ruffalo, ...  \n",
       "2  Tom Cruise, Henry Cavill, Ving Rhames, Simon P...  \n",
       "3  Tom Hardy, Charlize Theron, Nicholas Hoult, Hu...  \n",
       "4  Shameik Moore, Hailee Steinfeld, Mahershala Al...  \n",
       "\n",
       "[5 rows x 24 columns]"
      ],
      "text/html": [
       "<div>\n",
       "<style scoped>\n",
       "    .dataframe tbody tr th:only-of-type {\n",
       "        vertical-align: middle;\n",
       "    }\n",
       "\n",
       "    .dataframe tbody tr th {\n",
       "        vertical-align: top;\n",
       "    }\n",
       "\n",
       "    .dataframe thead th {\n",
       "        text-align: right;\n",
       "    }\n",
       "</style>\n",
       "<table border=\"1\" class=\"dataframe\">\n",
       "  <thead>\n",
       "    <tr style=\"text-align: right;\">\n",
       "      <th></th>\n",
       "      <th>title</th>\n",
       "      <th>year</th>\n",
       "      <th>synopsis</th>\n",
       "      <th>critic_score</th>\n",
       "      <th>people_score</th>\n",
       "      <th>consensus</th>\n",
       "      <th>total_reviews</th>\n",
       "      <th>total_ratings</th>\n",
       "      <th>type</th>\n",
       "      <th>rating</th>\n",
       "      <th>...</th>\n",
       "      <th>writer</th>\n",
       "      <th>release_date_(theaters)</th>\n",
       "      <th>release_date_(streaming)</th>\n",
       "      <th>box_office_(gross_usa)</th>\n",
       "      <th>runtime</th>\n",
       "      <th>production_co</th>\n",
       "      <th>sound_mix</th>\n",
       "      <th>aspect_ratio</th>\n",
       "      <th>view_the_collection</th>\n",
       "      <th>crew</th>\n",
       "    </tr>\n",
       "  </thead>\n",
       "  <tbody>\n",
       "    <tr>\n",
       "      <th>0</th>\n",
       "      <td>Black Panther</td>\n",
       "      <td>2018</td>\n",
       "      <td>After the death of his father, T'Challa return...</td>\n",
       "      <td>96</td>\n",
       "      <td>79.0</td>\n",
       "      <td>Black Panther elevates superhero cinema to thr...</td>\n",
       "      <td>519</td>\n",
       "      <td>50,000+</td>\n",
       "      <td>Action &amp; Adventure</td>\n",
       "      <td>PG-13 (Sequences of Action Violence|A Brief Ru...</td>\n",
       "      <td>...</td>\n",
       "      <td>Ryan Coogler, Joe Robert Cole</td>\n",
       "      <td>Feb 16, 2018 wide</td>\n",
       "      <td>May 2, 2018</td>\n",
       "      <td>$700.2M</td>\n",
       "      <td>2h 14m</td>\n",
       "      <td>Walt Disney Pictures</td>\n",
       "      <td>DTS, Dolby Atmos</td>\n",
       "      <td>Scope (2.35:1)</td>\n",
       "      <td>Marvel Cinematic Universe</td>\n",
       "      <td>Chadwick Boseman, Michael B. Jordan, Lupita Ny...</td>\n",
       "    </tr>\n",
       "    <tr>\n",
       "      <th>1</th>\n",
       "      <td>Avengers: Endgame</td>\n",
       "      <td>2019</td>\n",
       "      <td>Adrift in space with no food or water, Tony St...</td>\n",
       "      <td>94</td>\n",
       "      <td>90.0</td>\n",
       "      <td>Exciting, entertaining, and emotionally impact...</td>\n",
       "      <td>538</td>\n",
       "      <td>50,000+</td>\n",
       "      <td>Action &amp; Adventure</td>\n",
       "      <td>PG-13 (Sequences of Sci-Fi Violence|Action|Som...</td>\n",
       "      <td>...</td>\n",
       "      <td>Christopher Markus, Stephen McFeely</td>\n",
       "      <td>Apr 26, 2019 wide</td>\n",
       "      <td>Jul 30, 2019</td>\n",
       "      <td>$858.4M</td>\n",
       "      <td>3h 1m</td>\n",
       "      <td>Marvel Studios, Walt Disney Pictures</td>\n",
       "      <td>Dolby Atmos, DTS, Dolby Digital, SDDS</td>\n",
       "      <td>Scope (2.35:1)</td>\n",
       "      <td>Marvel Cinematic Universe</td>\n",
       "      <td>Robert Downey Jr., Chris Evans, Mark Ruffalo, ...</td>\n",
       "    </tr>\n",
       "    <tr>\n",
       "      <th>2</th>\n",
       "      <td>Mission: Impossible -- Fallout</td>\n",
       "      <td>2018</td>\n",
       "      <td>Ethan Hunt and the IMF team join forces with C...</td>\n",
       "      <td>97</td>\n",
       "      <td>88.0</td>\n",
       "      <td>Fast, sleek, and fun, Mission: Impossible - Fa...</td>\n",
       "      <td>433</td>\n",
       "      <td>10,000+</td>\n",
       "      <td>Action &amp; Adventure</td>\n",
       "      <td>PG-13 (Intense Sequences of Action|Brief Stron...</td>\n",
       "      <td>...</td>\n",
       "      <td>Christopher McQuarrie</td>\n",
       "      <td>Jul 27, 2018 wide</td>\n",
       "      <td>Nov 20, 2018</td>\n",
       "      <td>$220.1M</td>\n",
       "      <td>2h 27m</td>\n",
       "      <td>Bad Robot, Tom Cruise</td>\n",
       "      <td>DTS, Dolby Atmos, Dolby Digital</td>\n",
       "      <td>Scope (2.35:1)</td>\n",
       "      <td>NaN</td>\n",
       "      <td>Tom Cruise, Henry Cavill, Ving Rhames, Simon P...</td>\n",
       "    </tr>\n",
       "    <tr>\n",
       "      <th>3</th>\n",
       "      <td>Mad Max: Fury Road</td>\n",
       "      <td>2015</td>\n",
       "      <td>Years after the collapse of civilization, the ...</td>\n",
       "      <td>97</td>\n",
       "      <td>86.0</td>\n",
       "      <td>With exhilarating action and a surprising amou...</td>\n",
       "      <td>427</td>\n",
       "      <td>100,000+</td>\n",
       "      <td>Action &amp; Adventure</td>\n",
       "      <td>R (Intense Sequences of Violence|Disturbing Im...</td>\n",
       "      <td>...</td>\n",
       "      <td>George Miller, Brendan McCarthy, Nick Lathouris</td>\n",
       "      <td>May 15, 2015 wide</td>\n",
       "      <td>Aug 10, 2016</td>\n",
       "      <td>$153.6M</td>\n",
       "      <td>2h</td>\n",
       "      <td>Kennedy Miller Mitchell, Village Roadshow Pict...</td>\n",
       "      <td>Dolby Atmos</td>\n",
       "      <td>Scope (2.35:1)</td>\n",
       "      <td>NaN</td>\n",
       "      <td>Tom Hardy, Charlize Theron, Nicholas Hoult, Hu...</td>\n",
       "    </tr>\n",
       "    <tr>\n",
       "      <th>4</th>\n",
       "      <td>Spider-Man: Into the Spider-Verse</td>\n",
       "      <td>2018</td>\n",
       "      <td>Bitten by a radioactive spider in the subway, ...</td>\n",
       "      <td>97</td>\n",
       "      <td>93.0</td>\n",
       "      <td>Spider-Man: Into the Spider-Verse matches bold...</td>\n",
       "      <td>387</td>\n",
       "      <td>10,000+</td>\n",
       "      <td>Action &amp; Adventure</td>\n",
       "      <td>PG (Mild Language|Frenetic Action Violence|The...</td>\n",
       "      <td>...</td>\n",
       "      <td>Phil Lord, Rodney Rothman</td>\n",
       "      <td>Dec 14, 2018 wide</td>\n",
       "      <td>Mar 7, 2019</td>\n",
       "      <td>$190.2M</td>\n",
       "      <td>1h 57m</td>\n",
       "      <td>Lord Miller, Sony Pictures Animation, Pascal P...</td>\n",
       "      <td>Dolby Atmos, DTS, Dolby Digital, SDDS</td>\n",
       "      <td>Scope (2.35:1)</td>\n",
       "      <td>NaN</td>\n",
       "      <td>Shameik Moore, Hailee Steinfeld, Mahershala Al...</td>\n",
       "    </tr>\n",
       "  </tbody>\n",
       "</table>\n",
       "<p>5 rows × 24 columns</p>\n",
       "</div>"
      ]
     },
     "execution_count": 16,
     "metadata": {},
     "output_type": "execute_result"
    }
   ],
   "execution_count": 16
  },
  {
   "metadata": {},
   "cell_type": "markdown",
   "source": "We load additional actor data and clean it up by dropping unnecessary columns and transforming date columns.\n",
   "id": "4770152a97341d3b"
  },
  {
   "metadata": {
    "ExecuteTime": {
     "end_time": "2024-12-15T13:29:29.580544Z",
     "start_time": "2024-12-15T13:29:29.570979Z"
    }
   },
   "cell_type": "code",
   "source": [
    "actor_df = pd.read_pickle('../../pickles/actor_df.pkl')\n",
    "actor_df.head()\n"
   ],
   "id": "3596f877d94dbc4b",
   "outputs": [
    {
     "data": {
      "text/plain": [
       "                  name        id  adult  \\\n",
       "0  Richard Barthelmess   13789.0  False   \n",
       "1        Emil Jannings    2895.0  False   \n",
       "2       Louise Dresser  146141.0  False   \n",
       "3         Janet Gaynor    9088.0  False   \n",
       "4       Gloria Swanson    8629.0  False   \n",
       "\n",
       "                                       also_known_as  \\\n",
       "0  [Richard Semler Barthelmess, Richard S. Barthe...   \n",
       "1                    [Theodor Friedrich Emil Janenz]   \n",
       "2   [Lulu Josephine Kerlin, Louise Josephine Kerlin]   \n",
       "3              [Laura Augusta Gainor, Джанет Гейнор]   \n",
       "4  [Gloria May Josephine Svensson, Gloria Mae, Гл...   \n",
       "\n",
       "                                           biography    birthday    deathday  \\\n",
       "0  From Wikipedia, the free encyclopedia. \\n\\nRic...  1895-05-08  1963-08-17   \n",
       "1  Emil Jannings (1884–1950) was a German actor. ...  1884-07-22  1950-01-02   \n",
       "2                                                     1878-10-03  1965-04-24   \n",
       "3  Janet Gaynor (October 6, 1906 – September 14, ...  1906-10-06  1984-09-14   \n",
       "4  Gloria Swanson (March 27, 1899 – April 4, 1983...  1899-03-27  1983-04-04   \n",
       "\n",
       "   gender homepage    imdb_id known_for_department  \\\n",
       "0     2.0     None  nm0001932               Acting   \n",
       "1     2.0     None  nm0417837               Acting   \n",
       "2     1.0     None  nm0237571               Acting   \n",
       "3     1.0     None  nm0310980               Acting   \n",
       "4     1.0     None  nm0841797               Acting   \n",
       "\n",
       "                    place_of_birth  popularity  \\\n",
       "0     New York City, New York, USA       1.079   \n",
       "1           Rorschach, Switzerland       2.945   \n",
       "2         Evansville, Indiana, USA       1.564   \n",
       "3  Philadelphia, Pennsylvania, USA       2.692   \n",
       "4           Chicago, Illinois, USA       3.541   \n",
       "\n",
       "                       profile_path  \n",
       "0  /p7nmZeuQjHOsNFgqgEXBdh78OSC.jpg  \n",
       "1  /yX7AFfYgYit6WlPshockLsP40LB.jpg  \n",
       "2  /i7NYAqqzY6uhI0IEcwPeYP9tNKt.jpg  \n",
       "3  /kwyClWei18GOssMPbrs4RL61izG.jpg  \n",
       "4  /akmlp75ESHjtGOVtOCfJYxkX4eo.jpg  "
      ],
      "text/html": [
       "<div>\n",
       "<style scoped>\n",
       "    .dataframe tbody tr th:only-of-type {\n",
       "        vertical-align: middle;\n",
       "    }\n",
       "\n",
       "    .dataframe tbody tr th {\n",
       "        vertical-align: top;\n",
       "    }\n",
       "\n",
       "    .dataframe thead th {\n",
       "        text-align: right;\n",
       "    }\n",
       "</style>\n",
       "<table border=\"1\" class=\"dataframe\">\n",
       "  <thead>\n",
       "    <tr style=\"text-align: right;\">\n",
       "      <th></th>\n",
       "      <th>name</th>\n",
       "      <th>id</th>\n",
       "      <th>adult</th>\n",
       "      <th>also_known_as</th>\n",
       "      <th>biography</th>\n",
       "      <th>birthday</th>\n",
       "      <th>deathday</th>\n",
       "      <th>gender</th>\n",
       "      <th>homepage</th>\n",
       "      <th>imdb_id</th>\n",
       "      <th>known_for_department</th>\n",
       "      <th>place_of_birth</th>\n",
       "      <th>popularity</th>\n",
       "      <th>profile_path</th>\n",
       "    </tr>\n",
       "  </thead>\n",
       "  <tbody>\n",
       "    <tr>\n",
       "      <th>0</th>\n",
       "      <td>Richard Barthelmess</td>\n",
       "      <td>13789.0</td>\n",
       "      <td>False</td>\n",
       "      <td>[Richard Semler Barthelmess, Richard S. Barthe...</td>\n",
       "      <td>From Wikipedia, the free encyclopedia. \\n\\nRic...</td>\n",
       "      <td>1895-05-08</td>\n",
       "      <td>1963-08-17</td>\n",
       "      <td>2.0</td>\n",
       "      <td>None</td>\n",
       "      <td>nm0001932</td>\n",
       "      <td>Acting</td>\n",
       "      <td>New York City, New York, USA</td>\n",
       "      <td>1.079</td>\n",
       "      <td>/p7nmZeuQjHOsNFgqgEXBdh78OSC.jpg</td>\n",
       "    </tr>\n",
       "    <tr>\n",
       "      <th>1</th>\n",
       "      <td>Emil Jannings</td>\n",
       "      <td>2895.0</td>\n",
       "      <td>False</td>\n",
       "      <td>[Theodor Friedrich Emil Janenz]</td>\n",
       "      <td>Emil Jannings (1884–1950) was a German actor. ...</td>\n",
       "      <td>1884-07-22</td>\n",
       "      <td>1950-01-02</td>\n",
       "      <td>2.0</td>\n",
       "      <td>None</td>\n",
       "      <td>nm0417837</td>\n",
       "      <td>Acting</td>\n",
       "      <td>Rorschach, Switzerland</td>\n",
       "      <td>2.945</td>\n",
       "      <td>/yX7AFfYgYit6WlPshockLsP40LB.jpg</td>\n",
       "    </tr>\n",
       "    <tr>\n",
       "      <th>2</th>\n",
       "      <td>Louise Dresser</td>\n",
       "      <td>146141.0</td>\n",
       "      <td>False</td>\n",
       "      <td>[Lulu Josephine Kerlin, Louise Josephine Kerlin]</td>\n",
       "      <td></td>\n",
       "      <td>1878-10-03</td>\n",
       "      <td>1965-04-24</td>\n",
       "      <td>1.0</td>\n",
       "      <td>None</td>\n",
       "      <td>nm0237571</td>\n",
       "      <td>Acting</td>\n",
       "      <td>Evansville, Indiana, USA</td>\n",
       "      <td>1.564</td>\n",
       "      <td>/i7NYAqqzY6uhI0IEcwPeYP9tNKt.jpg</td>\n",
       "    </tr>\n",
       "    <tr>\n",
       "      <th>3</th>\n",
       "      <td>Janet Gaynor</td>\n",
       "      <td>9088.0</td>\n",
       "      <td>False</td>\n",
       "      <td>[Laura Augusta Gainor, Джанет Гейнор]</td>\n",
       "      <td>Janet Gaynor (October 6, 1906 – September 14, ...</td>\n",
       "      <td>1906-10-06</td>\n",
       "      <td>1984-09-14</td>\n",
       "      <td>1.0</td>\n",
       "      <td>None</td>\n",
       "      <td>nm0310980</td>\n",
       "      <td>Acting</td>\n",
       "      <td>Philadelphia, Pennsylvania, USA</td>\n",
       "      <td>2.692</td>\n",
       "      <td>/kwyClWei18GOssMPbrs4RL61izG.jpg</td>\n",
       "    </tr>\n",
       "    <tr>\n",
       "      <th>4</th>\n",
       "      <td>Gloria Swanson</td>\n",
       "      <td>8629.0</td>\n",
       "      <td>False</td>\n",
       "      <td>[Gloria May Josephine Svensson, Gloria Mae, Гл...</td>\n",
       "      <td>Gloria Swanson (March 27, 1899 – April 4, 1983...</td>\n",
       "      <td>1899-03-27</td>\n",
       "      <td>1983-04-04</td>\n",
       "      <td>1.0</td>\n",
       "      <td>None</td>\n",
       "      <td>nm0841797</td>\n",
       "      <td>Acting</td>\n",
       "      <td>Chicago, Illinois, USA</td>\n",
       "      <td>3.541</td>\n",
       "      <td>/akmlp75ESHjtGOVtOCfJYxkX4eo.jpg</td>\n",
       "    </tr>\n",
       "  </tbody>\n",
       "</table>\n",
       "</div>"
      ]
     },
     "execution_count": 17,
     "metadata": {},
     "output_type": "execute_result"
    }
   ],
   "execution_count": 17
  },
  {
   "metadata": {
    "ExecuteTime": {
     "end_time": "2024-12-15T13:29:29.700466Z",
     "start_time": "2024-12-15T13:29:29.698254Z"
    }
   },
   "cell_type": "code",
   "source": [
    "# drop the following columns: also_known_as, adult, biography, imdb_id, profile_path\n",
    "actor_df = actor_df.drop(columns=['also_known_as', 'adult', 'biography', 'imdb_id', 'profile_path', 'homepage'])"
   ],
   "id": "dd6366211015a14",
   "outputs": [],
   "execution_count": 18
  },
  {
   "metadata": {
    "ExecuteTime": {
     "end_time": "2024-12-15T13:29:29.828585Z",
     "start_time": "2024-12-15T13:29:29.823567Z"
    }
   },
   "cell_type": "code",
   "source": "actor_df.head(5)",
   "id": "a374471091ea9596",
   "outputs": [
    {
     "data": {
      "text/plain": [
       "                  name        id    birthday    deathday  gender  \\\n",
       "0  Richard Barthelmess   13789.0  1895-05-08  1963-08-17     2.0   \n",
       "1        Emil Jannings    2895.0  1884-07-22  1950-01-02     2.0   \n",
       "2       Louise Dresser  146141.0  1878-10-03  1965-04-24     1.0   \n",
       "3         Janet Gaynor    9088.0  1906-10-06  1984-09-14     1.0   \n",
       "4       Gloria Swanson    8629.0  1899-03-27  1983-04-04     1.0   \n",
       "\n",
       "  known_for_department                   place_of_birth  popularity  \n",
       "0               Acting     New York City, New York, USA       1.079  \n",
       "1               Acting           Rorschach, Switzerland       2.945  \n",
       "2               Acting         Evansville, Indiana, USA       1.564  \n",
       "3               Acting  Philadelphia, Pennsylvania, USA       2.692  \n",
       "4               Acting           Chicago, Illinois, USA       3.541  "
      ],
      "text/html": [
       "<div>\n",
       "<style scoped>\n",
       "    .dataframe tbody tr th:only-of-type {\n",
       "        vertical-align: middle;\n",
       "    }\n",
       "\n",
       "    .dataframe tbody tr th {\n",
       "        vertical-align: top;\n",
       "    }\n",
       "\n",
       "    .dataframe thead th {\n",
       "        text-align: right;\n",
       "    }\n",
       "</style>\n",
       "<table border=\"1\" class=\"dataframe\">\n",
       "  <thead>\n",
       "    <tr style=\"text-align: right;\">\n",
       "      <th></th>\n",
       "      <th>name</th>\n",
       "      <th>id</th>\n",
       "      <th>birthday</th>\n",
       "      <th>deathday</th>\n",
       "      <th>gender</th>\n",
       "      <th>known_for_department</th>\n",
       "      <th>place_of_birth</th>\n",
       "      <th>popularity</th>\n",
       "    </tr>\n",
       "  </thead>\n",
       "  <tbody>\n",
       "    <tr>\n",
       "      <th>0</th>\n",
       "      <td>Richard Barthelmess</td>\n",
       "      <td>13789.0</td>\n",
       "      <td>1895-05-08</td>\n",
       "      <td>1963-08-17</td>\n",
       "      <td>2.0</td>\n",
       "      <td>Acting</td>\n",
       "      <td>New York City, New York, USA</td>\n",
       "      <td>1.079</td>\n",
       "    </tr>\n",
       "    <tr>\n",
       "      <th>1</th>\n",
       "      <td>Emil Jannings</td>\n",
       "      <td>2895.0</td>\n",
       "      <td>1884-07-22</td>\n",
       "      <td>1950-01-02</td>\n",
       "      <td>2.0</td>\n",
       "      <td>Acting</td>\n",
       "      <td>Rorschach, Switzerland</td>\n",
       "      <td>2.945</td>\n",
       "    </tr>\n",
       "    <tr>\n",
       "      <th>2</th>\n",
       "      <td>Louise Dresser</td>\n",
       "      <td>146141.0</td>\n",
       "      <td>1878-10-03</td>\n",
       "      <td>1965-04-24</td>\n",
       "      <td>1.0</td>\n",
       "      <td>Acting</td>\n",
       "      <td>Evansville, Indiana, USA</td>\n",
       "      <td>1.564</td>\n",
       "    </tr>\n",
       "    <tr>\n",
       "      <th>3</th>\n",
       "      <td>Janet Gaynor</td>\n",
       "      <td>9088.0</td>\n",
       "      <td>1906-10-06</td>\n",
       "      <td>1984-09-14</td>\n",
       "      <td>1.0</td>\n",
       "      <td>Acting</td>\n",
       "      <td>Philadelphia, Pennsylvania, USA</td>\n",
       "      <td>2.692</td>\n",
       "    </tr>\n",
       "    <tr>\n",
       "      <th>4</th>\n",
       "      <td>Gloria Swanson</td>\n",
       "      <td>8629.0</td>\n",
       "      <td>1899-03-27</td>\n",
       "      <td>1983-04-04</td>\n",
       "      <td>1.0</td>\n",
       "      <td>Acting</td>\n",
       "      <td>Chicago, Illinois, USA</td>\n",
       "      <td>3.541</td>\n",
       "    </tr>\n",
       "  </tbody>\n",
       "</table>\n",
       "</div>"
      ]
     },
     "execution_count": 19,
     "metadata": {},
     "output_type": "execute_result"
    }
   ],
   "execution_count": 19
  },
  {
   "metadata": {
    "ExecuteTime": {
     "end_time": "2024-12-15T13:29:29.895512Z",
     "start_time": "2024-12-15T13:29:29.891185Z"
    }
   },
   "cell_type": "code",
   "source": [
    "# transform the birthday and deathday columns to datetime and then only keep the year\n",
    "actor_df['birthday'] = pd.to_datetime(actor_df['birthday'])\n",
    "actor_df['birthday'] = actor_df['birthday'].dt.year\n",
    "actor_df['deathday'] = pd.to_datetime(actor_df['deathday'])\n",
    "actor_df['deathday'] = actor_df['deathday'].dt.year"
   ],
   "id": "39a19f8966d97ca7",
   "outputs": [],
   "execution_count": 20
  },
  {
   "metadata": {
    "ExecuteTime": {
     "end_time": "2024-12-15T13:29:29.967877Z",
     "start_time": "2024-12-15T13:29:29.965021Z"
    }
   },
   "cell_type": "code",
   "source": [
    "# keep only the country of birth instead of the full location\n",
    "actor_df['place_of_birth'] = actor_df['place_of_birth'].str.split(',').str[-1]"
   ],
   "id": "8fc21685bedd3da4",
   "outputs": [],
   "execution_count": 21
  },
  {
   "metadata": {
    "ExecuteTime": {
     "end_time": "2024-12-15T13:29:30.019936Z",
     "start_time": "2024-12-15T13:29:30.014996Z"
    }
   },
   "cell_type": "code",
   "source": "actor_df.head(5)",
   "id": "1b2675a14a2e163a",
   "outputs": [
    {
     "data": {
      "text/plain": [
       "                  name        id  birthday  deathday  gender  \\\n",
       "0  Richard Barthelmess   13789.0    1895.0    1963.0     2.0   \n",
       "1        Emil Jannings    2895.0    1884.0    1950.0     2.0   \n",
       "2       Louise Dresser  146141.0    1878.0    1965.0     1.0   \n",
       "3         Janet Gaynor    9088.0    1906.0    1984.0     1.0   \n",
       "4       Gloria Swanson    8629.0    1899.0    1983.0     1.0   \n",
       "\n",
       "  known_for_department place_of_birth  popularity  \n",
       "0               Acting            USA       1.079  \n",
       "1               Acting    Switzerland       2.945  \n",
       "2               Acting            USA       1.564  \n",
       "3               Acting            USA       2.692  \n",
       "4               Acting            USA       3.541  "
      ],
      "text/html": [
       "<div>\n",
       "<style scoped>\n",
       "    .dataframe tbody tr th:only-of-type {\n",
       "        vertical-align: middle;\n",
       "    }\n",
       "\n",
       "    .dataframe tbody tr th {\n",
       "        vertical-align: top;\n",
       "    }\n",
       "\n",
       "    .dataframe thead th {\n",
       "        text-align: right;\n",
       "    }\n",
       "</style>\n",
       "<table border=\"1\" class=\"dataframe\">\n",
       "  <thead>\n",
       "    <tr style=\"text-align: right;\">\n",
       "      <th></th>\n",
       "      <th>name</th>\n",
       "      <th>id</th>\n",
       "      <th>birthday</th>\n",
       "      <th>deathday</th>\n",
       "      <th>gender</th>\n",
       "      <th>known_for_department</th>\n",
       "      <th>place_of_birth</th>\n",
       "      <th>popularity</th>\n",
       "    </tr>\n",
       "  </thead>\n",
       "  <tbody>\n",
       "    <tr>\n",
       "      <th>0</th>\n",
       "      <td>Richard Barthelmess</td>\n",
       "      <td>13789.0</td>\n",
       "      <td>1895.0</td>\n",
       "      <td>1963.0</td>\n",
       "      <td>2.0</td>\n",
       "      <td>Acting</td>\n",
       "      <td>USA</td>\n",
       "      <td>1.079</td>\n",
       "    </tr>\n",
       "    <tr>\n",
       "      <th>1</th>\n",
       "      <td>Emil Jannings</td>\n",
       "      <td>2895.0</td>\n",
       "      <td>1884.0</td>\n",
       "      <td>1950.0</td>\n",
       "      <td>2.0</td>\n",
       "      <td>Acting</td>\n",
       "      <td>Switzerland</td>\n",
       "      <td>2.945</td>\n",
       "    </tr>\n",
       "    <tr>\n",
       "      <th>2</th>\n",
       "      <td>Louise Dresser</td>\n",
       "      <td>146141.0</td>\n",
       "      <td>1878.0</td>\n",
       "      <td>1965.0</td>\n",
       "      <td>1.0</td>\n",
       "      <td>Acting</td>\n",
       "      <td>USA</td>\n",
       "      <td>1.564</td>\n",
       "    </tr>\n",
       "    <tr>\n",
       "      <th>3</th>\n",
       "      <td>Janet Gaynor</td>\n",
       "      <td>9088.0</td>\n",
       "      <td>1906.0</td>\n",
       "      <td>1984.0</td>\n",
       "      <td>1.0</td>\n",
       "      <td>Acting</td>\n",
       "      <td>USA</td>\n",
       "      <td>2.692</td>\n",
       "    </tr>\n",
       "    <tr>\n",
       "      <th>4</th>\n",
       "      <td>Gloria Swanson</td>\n",
       "      <td>8629.0</td>\n",
       "      <td>1899.0</td>\n",
       "      <td>1983.0</td>\n",
       "      <td>1.0</td>\n",
       "      <td>Acting</td>\n",
       "      <td>USA</td>\n",
       "      <td>3.541</td>\n",
       "    </tr>\n",
       "  </tbody>\n",
       "</table>\n",
       "</div>"
      ]
     },
     "execution_count": 22,
     "metadata": {},
     "output_type": "execute_result"
    }
   ],
   "execution_count": 22
  },
  {
   "metadata": {
    "ExecuteTime": {
     "end_time": "2024-12-15T13:29:30.082130Z",
     "start_time": "2024-12-15T13:29:30.079875Z"
    }
   },
   "cell_type": "code",
   "source": [
    "# drop popularity\n",
    "actor_df = actor_df.drop(columns=['popularity'])"
   ],
   "id": "27d1193afccc7fe6",
   "outputs": [],
   "execution_count": 23
  },
  {
   "metadata": {},
   "cell_type": "markdown",
   "source": "We combine the actor data with the successful actors dataframe and filter to keep only actors known for acting.",
   "id": "c2fb0d11cac63d2d"
  },
  {
   "metadata": {
    "ExecuteTime": {
     "end_time": "2024-12-15T13:29:30.119076Z",
     "start_time": "2024-12-15T13:29:30.112524Z"
    }
   },
   "cell_type": "code",
   "source": [
    "# now combine the actor_df with the successful_actors dataframe\n",
    "actor_df = actor_df.set_index('name')\n",
    "# map gender 2 to M and 1 to F\n",
    "actor_df['gender'] = actor_df.gender.map({2: 'M', 1: 'F'})\n",
    "actor_df.head()"
   ],
   "id": "2f22a4602cae8814",
   "outputs": [
    {
     "data": {
      "text/plain": [
       "                           id  birthday  deathday gender known_for_department  \\\n",
       "name                                                                            \n",
       "Richard Barthelmess   13789.0    1895.0    1963.0      M               Acting   \n",
       "Emil Jannings          2895.0    1884.0    1950.0      M               Acting   \n",
       "Louise Dresser       146141.0    1878.0    1965.0      F               Acting   \n",
       "Janet Gaynor           9088.0    1906.0    1984.0      F               Acting   \n",
       "Gloria Swanson         8629.0    1899.0    1983.0      F               Acting   \n",
       "\n",
       "                    place_of_birth  \n",
       "name                                \n",
       "Richard Barthelmess            USA  \n",
       "Emil Jannings          Switzerland  \n",
       "Louise Dresser                 USA  \n",
       "Janet Gaynor                   USA  \n",
       "Gloria Swanson                 USA  "
      ],
      "text/html": [
       "<div>\n",
       "<style scoped>\n",
       "    .dataframe tbody tr th:only-of-type {\n",
       "        vertical-align: middle;\n",
       "    }\n",
       "\n",
       "    .dataframe tbody tr th {\n",
       "        vertical-align: top;\n",
       "    }\n",
       "\n",
       "    .dataframe thead th {\n",
       "        text-align: right;\n",
       "    }\n",
       "</style>\n",
       "<table border=\"1\" class=\"dataframe\">\n",
       "  <thead>\n",
       "    <tr style=\"text-align: right;\">\n",
       "      <th></th>\n",
       "      <th>id</th>\n",
       "      <th>birthday</th>\n",
       "      <th>deathday</th>\n",
       "      <th>gender</th>\n",
       "      <th>known_for_department</th>\n",
       "      <th>place_of_birth</th>\n",
       "    </tr>\n",
       "    <tr>\n",
       "      <th>name</th>\n",
       "      <th></th>\n",
       "      <th></th>\n",
       "      <th></th>\n",
       "      <th></th>\n",
       "      <th></th>\n",
       "      <th></th>\n",
       "    </tr>\n",
       "  </thead>\n",
       "  <tbody>\n",
       "    <tr>\n",
       "      <th>Richard Barthelmess</th>\n",
       "      <td>13789.0</td>\n",
       "      <td>1895.0</td>\n",
       "      <td>1963.0</td>\n",
       "      <td>M</td>\n",
       "      <td>Acting</td>\n",
       "      <td>USA</td>\n",
       "    </tr>\n",
       "    <tr>\n",
       "      <th>Emil Jannings</th>\n",
       "      <td>2895.0</td>\n",
       "      <td>1884.0</td>\n",
       "      <td>1950.0</td>\n",
       "      <td>M</td>\n",
       "      <td>Acting</td>\n",
       "      <td>Switzerland</td>\n",
       "    </tr>\n",
       "    <tr>\n",
       "      <th>Louise Dresser</th>\n",
       "      <td>146141.0</td>\n",
       "      <td>1878.0</td>\n",
       "      <td>1965.0</td>\n",
       "      <td>F</td>\n",
       "      <td>Acting</td>\n",
       "      <td>USA</td>\n",
       "    </tr>\n",
       "    <tr>\n",
       "      <th>Janet Gaynor</th>\n",
       "      <td>9088.0</td>\n",
       "      <td>1906.0</td>\n",
       "      <td>1984.0</td>\n",
       "      <td>F</td>\n",
       "      <td>Acting</td>\n",
       "      <td>USA</td>\n",
       "    </tr>\n",
       "    <tr>\n",
       "      <th>Gloria Swanson</th>\n",
       "      <td>8629.0</td>\n",
       "      <td>1899.0</td>\n",
       "      <td>1983.0</td>\n",
       "      <td>F</td>\n",
       "      <td>Acting</td>\n",
       "      <td>USA</td>\n",
       "    </tr>\n",
       "  </tbody>\n",
       "</table>\n",
       "</div>"
      ]
     },
     "execution_count": 24,
     "metadata": {},
     "output_type": "execute_result"
    }
   ],
   "execution_count": 24
  },
  {
   "metadata": {
    "ExecuteTime": {
     "end_time": "2024-12-15T13:29:30.164977Z",
     "start_time": "2024-12-15T13:29:30.161922Z"
    }
   },
   "cell_type": "code",
   "source": "successful_actors = successful_actors.join(actor_df)",
   "id": "8dea571f4d1872c1",
   "outputs": [],
   "execution_count": 25
  },
  {
   "metadata": {
    "ExecuteTime": {
     "end_time": "2024-12-15T13:29:30.231614Z",
     "start_time": "2024-12-15T13:29:30.229474Z"
    }
   },
   "cell_type": "code",
   "source": [
    "successful_actors.head(5)\n",
    "print(len(successful_actors))"
   ],
   "id": "107b5106a2f3ebd5",
   "outputs": [
    {
     "name": "stdout",
     "output_type": "stream",
     "text": [
      "982\n"
     ]
    }
   ],
   "execution_count": 26
  },
  {
   "metadata": {
    "ExecuteTime": {
     "end_time": "2024-12-15T13:29:30.274771Z",
     "start_time": "2024-12-15T13:29:30.266134Z"
    }
   },
   "cell_type": "code",
   "source": [
    "# only keep the actors that have known_for_department == 'Acting'\n",
    "successful_actors = successful_actors[successful_actors['known_for_department'] == 'Acting']\n",
    "successful_actors.head(5)"
   ],
   "id": "a649ed2b8823553e",
   "outputs": [
    {
     "data": {
      "text/plain": [
       "                oscar_score  imdb_score  num_movies  final_score      id  \\\n",
       "name                                                                       \n",
       "Jack Nicholson           15    7.058824          17    22.058824   514.0   \n",
       "Paul Newman              10    7.158333          12    17.158333  3636.0   \n",
       "Jack Lemmon              10    7.400000           7    17.400000  3151.0   \n",
       "Marlon Brando            10    7.500000           8    17.500000  3084.0   \n",
       "Dustin Hoffman            9    6.840625          32    15.840625  4483.0   \n",
       "\n",
       "                birthday  deathday gender known_for_department place_of_birth  \n",
       "name                                                                           \n",
       "Jack Nicholson    1996.0       NaN      F               Acting             UK  \n",
       "Paul Newman       1947.0       NaN      M               Acting         France  \n",
       "Jack Lemmon       1937.0       NaN      M               Acting            USA  \n",
       "Marlon Brando     1949.0       NaN      F               Acting            USA  \n",
       "Dustin Hoffman    1962.0       NaN      M               Acting            USA  "
      ],
      "text/html": [
       "<div>\n",
       "<style scoped>\n",
       "    .dataframe tbody tr th:only-of-type {\n",
       "        vertical-align: middle;\n",
       "    }\n",
       "\n",
       "    .dataframe tbody tr th {\n",
       "        vertical-align: top;\n",
       "    }\n",
       "\n",
       "    .dataframe thead th {\n",
       "        text-align: right;\n",
       "    }\n",
       "</style>\n",
       "<table border=\"1\" class=\"dataframe\">\n",
       "  <thead>\n",
       "    <tr style=\"text-align: right;\">\n",
       "      <th></th>\n",
       "      <th>oscar_score</th>\n",
       "      <th>imdb_score</th>\n",
       "      <th>num_movies</th>\n",
       "      <th>final_score</th>\n",
       "      <th>id</th>\n",
       "      <th>birthday</th>\n",
       "      <th>deathday</th>\n",
       "      <th>gender</th>\n",
       "      <th>known_for_department</th>\n",
       "      <th>place_of_birth</th>\n",
       "    </tr>\n",
       "    <tr>\n",
       "      <th>name</th>\n",
       "      <th></th>\n",
       "      <th></th>\n",
       "      <th></th>\n",
       "      <th></th>\n",
       "      <th></th>\n",
       "      <th></th>\n",
       "      <th></th>\n",
       "      <th></th>\n",
       "      <th></th>\n",
       "      <th></th>\n",
       "    </tr>\n",
       "  </thead>\n",
       "  <tbody>\n",
       "    <tr>\n",
       "      <th>Jack Nicholson</th>\n",
       "      <td>15</td>\n",
       "      <td>7.058824</td>\n",
       "      <td>17</td>\n",
       "      <td>22.058824</td>\n",
       "      <td>514.0</td>\n",
       "      <td>1996.0</td>\n",
       "      <td>NaN</td>\n",
       "      <td>F</td>\n",
       "      <td>Acting</td>\n",
       "      <td>UK</td>\n",
       "    </tr>\n",
       "    <tr>\n",
       "      <th>Paul Newman</th>\n",
       "      <td>10</td>\n",
       "      <td>7.158333</td>\n",
       "      <td>12</td>\n",
       "      <td>17.158333</td>\n",
       "      <td>3636.0</td>\n",
       "      <td>1947.0</td>\n",
       "      <td>NaN</td>\n",
       "      <td>M</td>\n",
       "      <td>Acting</td>\n",
       "      <td>France</td>\n",
       "    </tr>\n",
       "    <tr>\n",
       "      <th>Jack Lemmon</th>\n",
       "      <td>10</td>\n",
       "      <td>7.400000</td>\n",
       "      <td>7</td>\n",
       "      <td>17.400000</td>\n",
       "      <td>3151.0</td>\n",
       "      <td>1937.0</td>\n",
       "      <td>NaN</td>\n",
       "      <td>M</td>\n",
       "      <td>Acting</td>\n",
       "      <td>USA</td>\n",
       "    </tr>\n",
       "    <tr>\n",
       "      <th>Marlon Brando</th>\n",
       "      <td>10</td>\n",
       "      <td>7.500000</td>\n",
       "      <td>8</td>\n",
       "      <td>17.500000</td>\n",
       "      <td>3084.0</td>\n",
       "      <td>1949.0</td>\n",
       "      <td>NaN</td>\n",
       "      <td>F</td>\n",
       "      <td>Acting</td>\n",
       "      <td>USA</td>\n",
       "    </tr>\n",
       "    <tr>\n",
       "      <th>Dustin Hoffman</th>\n",
       "      <td>9</td>\n",
       "      <td>6.840625</td>\n",
       "      <td>32</td>\n",
       "      <td>15.840625</td>\n",
       "      <td>4483.0</td>\n",
       "      <td>1962.0</td>\n",
       "      <td>NaN</td>\n",
       "      <td>M</td>\n",
       "      <td>Acting</td>\n",
       "      <td>USA</td>\n",
       "    </tr>\n",
       "  </tbody>\n",
       "</table>\n",
       "</div>"
      ]
     },
     "execution_count": 27,
     "metadata": {},
     "output_type": "execute_result"
    }
   ],
   "execution_count": 27
  },
  {
   "metadata": {
    "ExecuteTime": {
     "end_time": "2024-12-15T13:29:30.366505Z",
     "start_time": "2024-12-15T13:29:30.361802Z"
    }
   },
   "cell_type": "code",
   "source": "successful_actors.head(5)",
   "id": "84729751148696f7",
   "outputs": [
    {
     "data": {
      "text/plain": [
       "                oscar_score  imdb_score  num_movies  final_score      id  \\\n",
       "name                                                                       \n",
       "Jack Nicholson           15    7.058824          17    22.058824   514.0   \n",
       "Paul Newman              10    7.158333          12    17.158333  3636.0   \n",
       "Jack Lemmon              10    7.400000           7    17.400000  3151.0   \n",
       "Marlon Brando            10    7.500000           8    17.500000  3084.0   \n",
       "Dustin Hoffman            9    6.840625          32    15.840625  4483.0   \n",
       "\n",
       "                birthday  deathday gender known_for_department place_of_birth  \n",
       "name                                                                           \n",
       "Jack Nicholson    1996.0       NaN      F               Acting             UK  \n",
       "Paul Newman       1947.0       NaN      M               Acting         France  \n",
       "Jack Lemmon       1937.0       NaN      M               Acting            USA  \n",
       "Marlon Brando     1949.0       NaN      F               Acting            USA  \n",
       "Dustin Hoffman    1962.0       NaN      M               Acting            USA  "
      ],
      "text/html": [
       "<div>\n",
       "<style scoped>\n",
       "    .dataframe tbody tr th:only-of-type {\n",
       "        vertical-align: middle;\n",
       "    }\n",
       "\n",
       "    .dataframe tbody tr th {\n",
       "        vertical-align: top;\n",
       "    }\n",
       "\n",
       "    .dataframe thead th {\n",
       "        text-align: right;\n",
       "    }\n",
       "</style>\n",
       "<table border=\"1\" class=\"dataframe\">\n",
       "  <thead>\n",
       "    <tr style=\"text-align: right;\">\n",
       "      <th></th>\n",
       "      <th>oscar_score</th>\n",
       "      <th>imdb_score</th>\n",
       "      <th>num_movies</th>\n",
       "      <th>final_score</th>\n",
       "      <th>id</th>\n",
       "      <th>birthday</th>\n",
       "      <th>deathday</th>\n",
       "      <th>gender</th>\n",
       "      <th>known_for_department</th>\n",
       "      <th>place_of_birth</th>\n",
       "    </tr>\n",
       "    <tr>\n",
       "      <th>name</th>\n",
       "      <th></th>\n",
       "      <th></th>\n",
       "      <th></th>\n",
       "      <th></th>\n",
       "      <th></th>\n",
       "      <th></th>\n",
       "      <th></th>\n",
       "      <th></th>\n",
       "      <th></th>\n",
       "      <th></th>\n",
       "    </tr>\n",
       "  </thead>\n",
       "  <tbody>\n",
       "    <tr>\n",
       "      <th>Jack Nicholson</th>\n",
       "      <td>15</td>\n",
       "      <td>7.058824</td>\n",
       "      <td>17</td>\n",
       "      <td>22.058824</td>\n",
       "      <td>514.0</td>\n",
       "      <td>1996.0</td>\n",
       "      <td>NaN</td>\n",
       "      <td>F</td>\n",
       "      <td>Acting</td>\n",
       "      <td>UK</td>\n",
       "    </tr>\n",
       "    <tr>\n",
       "      <th>Paul Newman</th>\n",
       "      <td>10</td>\n",
       "      <td>7.158333</td>\n",
       "      <td>12</td>\n",
       "      <td>17.158333</td>\n",
       "      <td>3636.0</td>\n",
       "      <td>1947.0</td>\n",
       "      <td>NaN</td>\n",
       "      <td>M</td>\n",
       "      <td>Acting</td>\n",
       "      <td>France</td>\n",
       "    </tr>\n",
       "    <tr>\n",
       "      <th>Jack Lemmon</th>\n",
       "      <td>10</td>\n",
       "      <td>7.400000</td>\n",
       "      <td>7</td>\n",
       "      <td>17.400000</td>\n",
       "      <td>3151.0</td>\n",
       "      <td>1937.0</td>\n",
       "      <td>NaN</td>\n",
       "      <td>M</td>\n",
       "      <td>Acting</td>\n",
       "      <td>USA</td>\n",
       "    </tr>\n",
       "    <tr>\n",
       "      <th>Marlon Brando</th>\n",
       "      <td>10</td>\n",
       "      <td>7.500000</td>\n",
       "      <td>8</td>\n",
       "      <td>17.500000</td>\n",
       "      <td>3084.0</td>\n",
       "      <td>1949.0</td>\n",
       "      <td>NaN</td>\n",
       "      <td>F</td>\n",
       "      <td>Acting</td>\n",
       "      <td>USA</td>\n",
       "    </tr>\n",
       "    <tr>\n",
       "      <th>Dustin Hoffman</th>\n",
       "      <td>9</td>\n",
       "      <td>6.840625</td>\n",
       "      <td>32</td>\n",
       "      <td>15.840625</td>\n",
       "      <td>4483.0</td>\n",
       "      <td>1962.0</td>\n",
       "      <td>NaN</td>\n",
       "      <td>M</td>\n",
       "      <td>Acting</td>\n",
       "      <td>USA</td>\n",
       "    </tr>\n",
       "  </tbody>\n",
       "</table>\n",
       "</div>"
      ]
     },
     "execution_count": 28,
     "metadata": {},
     "output_type": "execute_result"
    }
   ],
   "execution_count": 28
  },
  {
   "metadata": {
    "ExecuteTime": {
     "end_time": "2024-12-15T13:29:30.415578Z",
     "start_time": "2024-12-15T13:29:30.412767Z"
    }
   },
   "cell_type": "code",
   "source": [
    "# print all the different values for gender\n",
    "successful_actors.gender.unique()\n",
    "# print all actors with value 0:\n",
    "successful_actors[successful_actors.gender == 0].head(100)\n",
    "# drop those\n",
    "successful_actors = successful_actors[successful_actors.gender != 0]"
   ],
   "id": "f7c997c430c32b16",
   "outputs": [],
   "execution_count": 29
  },
  {
   "metadata": {
    "ExecuteTime": {
     "end_time": "2024-12-15T13:29:30.490542Z",
     "start_time": "2024-12-15T13:29:30.486140Z"
    }
   },
   "cell_type": "code",
   "source": [
    "# print all the different values for place_of_birth\n",
    "#successful_actors.place_of_birth.unique()\n",
    "# map USA, U.S., U.S.A., United States, New York, to USA\n",
    "successful_actors['place_of_birth'] = successful_actors['place_of_birth'].replace(['USA', ' U.S.', 'U.S.A.', ' United States', ' New York', ' USA ', ' USA', ' U.S.A.', '  USA'], 'USA')\n",
    "print(successful_actors.place_of_birth.unique())"
   ],
   "id": "4dbe2e1a44e14625",
   "outputs": [
    {
     "name": "stdout",
     "output_type": "stream",
     "text": [
      "[' UK' ' France' 'USA' None ' Ireland' ' Mexico' ' India]' 'Thailand'\n",
      " ' Argentina' ' Belgium' ' New Zealand' ' Sweden' ' Israel' ' Malaysia'\n",
      " ' Colombia' ' India' ' Switzerland' ' Cuba'\n",
      " ' Vietnam [now Ho Chi Minh City]' ' Austria' ' Canada' ' South Africa'\n",
      " ' Spain' 'San Giorgio a Cremano' ' Hungary' ' Denmark']\n"
     ]
    }
   ],
   "execution_count": 30
  },
  {
   "metadata": {
    "ExecuteTime": {
     "end_time": "2024-12-15T13:29:30.614588Z",
     "start_time": "2024-12-15T13:29:30.613118Z"
    }
   },
   "cell_type": "code",
   "source": "",
   "id": "3b1a5b63f43d384b",
   "outputs": [],
   "execution_count": null
  },
  {
   "metadata": {},
   "cell_type": "markdown",
   "source": "",
   "id": "378ee0f032b83218"
  },
  {
   "metadata": {
    "ExecuteTime": {
     "end_time": "2024-12-15T13:29:30.680336Z",
     "start_time": "2024-12-15T13:29:30.678078Z"
    }
   },
   "cell_type": "code",
   "source": [
    "# Exploratory Data Analysis (EDA) and Visualization\n",
    "\n",
    "# Import necessary libraries\n",
    "import matplotlib.pyplot as plt\n",
    "import seaborn as sns\n",
    "\n",
    "# Set seaborn style\n",
    "sns.set_theme(style=\"whitegrid\")"
   ],
   "id": "9e39fba090d2c7e8",
   "outputs": [],
   "execution_count": 31
  },
  {
   "metadata": {},
   "cell_type": "markdown",
   "source": [
    "# 1. Distribution of Final Scores\n",
    "We can see that the final scores are mostly between 6 and 14. With most actors having a score between 8 and 10. Noticable outliers is one actor/actress with a score of 22. We will investigate this further."
   ],
   "id": "658ba352d985b567"
  },
  {
   "metadata": {
    "ExecuteTime": {
     "end_time": "2024-12-15T13:29:30.923825Z",
     "start_time": "2024-12-15T13:29:30.748550Z"
    }
   },
   "cell_type": "code",
   "source": [
    "\n",
    "# 1. Distribution of Final Scores\n",
    "plt.figure(figsize=(10, 6))\n",
    "sns.histplot(successful_actors['final_score'], bins=30, kde=True, color='skyblue')\n",
    "plt.title('Distribution of Final Scores Among Successful Actors')\n",
    "plt.xlabel('Final Score')\n",
    "plt.ylabel('Frequency')\n",
    "plt.show()"
   ],
   "id": "f1e649e4cf7e845e",
   "outputs": [
    {
     "name": "stderr",
     "output_type": "stream",
     "text": [
      "/opt/anaconda3/envs/py3-9-18/lib/python3.9/site-packages/seaborn/_oldcore.py:1119: FutureWarning: use_inf_as_na option is deprecated and will be removed in a future version. Convert inf values to NaN before operating instead.\n",
      "  with pd.option_context('mode.use_inf_as_na', True):\n"
     ]
    },
    {
     "data": {
      "text/plain": [
       "<Figure size 1000x600 with 1 Axes>"
      ],
      "image/png": "[encoded data removed]"
     },
     "metadata": {},
     "output_type": "display_data"
    }
   ],
   "execution_count": 32
  },
  {
   "metadata": {},
   "cell_type": "markdown",
   "source": [
    "# 2. Top 20 Actors by Final Score\n",
    "We can here see who the outlier is. Jack Nicholson is the actor with the highest final score. With a score of 22. Marlon Brando, Jack Lemmon and Paul Newan are the next highest with a close margin. (all of them have a score around 17)."
   ],
   "id": "97e9e6ff56c53057"
  },
  {
   "metadata": {
    "ExecuteTime": {
     "end_time": "2024-12-15T13:29:31.148014Z",
     "start_time": "2024-12-15T13:29:31.004920Z"
    }
   },
   "cell_type": "code",
   "source": [
    "\n",
    "# 2. Top 20 Actors by Final Score\n",
    "top_20_actors = successful_actors.sort_values(by='final_score', ascending=False).head(20)\n",
    "plt.figure(figsize=(10, 8))\n",
    "sns.barplot(x='final_score', y=top_20_actors.index, data=top_20_actors, palette='viridis')\n",
    "plt.title('Top 20 Actors by Final Score')\n",
    "plt.xlabel('Final Score')\n",
    "plt.ylabel('Actor')\n",
    "plt.show()"
   ],
   "id": "ed45cd99929135d9",
   "outputs": [
    {
     "data": {
      "text/plain": [
       "<Figure size 1000x800 with 1 Axes>"
      ],
      "image/png": "[encoded data removed]"
     },
     "metadata": {},
     "output_type": "display_data"
    }
   ],
   "execution_count": 33
  },
  {
   "metadata": {},
   "cell_type": "markdown",
   "source": [
    "# 3. Relationship between Oscar Score and IMDB Score\n",
    "We can see that there is no clear relationship between the Oscar score and the IMDB score. And a gender gap is not visible. Why could this be?\n",
    "One reason could be that the IMDB score is based on the average rating of the actors' movies, which is not directly related to the number of Oscar nominations and wins. One other reason could be that the IMDB score is based on the average rating of the actors' movies, which is not directly related to the number of Oscar nominations and wins. E.g. an actor could have a high IMDB score because of a few very successful movies, while not having won any Oscars."
   ],
   "id": "7e68e85dc4b8f28a"
  },
  {
   "metadata": {
    "ExecuteTime": {
     "end_time": "2024-12-15T13:29:31.259533Z",
     "start_time": "2024-12-15T13:29:31.160795Z"
    }
   },
   "cell_type": "code",
   "source": [
    "\n",
    "# 3. Relationship between Oscar Score and IMDB Score\n",
    "plt.figure(figsize=(10, 6))\n",
    "sns.scatterplot(x='oscar_score', y='imdb_score', data=successful_actors, hue='gender', palette='coolwarm', s=100)\n",
    "plt.title('Relationship between Oscar Score and IMDB Score')\n",
    "plt.xlabel('Oscar Score')\n",
    "plt.ylabel('IMDB Score')\n",
    "plt.legend(title='Gender')\n",
    "plt.show()"
   ],
   "id": "e768551b2cad155",
   "outputs": [
    {
     "data": {
      "text/plain": [
       "<Figure size 1000x600 with 1 Axes>"
      ],
      "image/png": "[encoded data removed]"
     },
     "metadata": {},
     "output_type": "display_data"
    }
   ],
   "execution_count": 34
  },
  {
   "metadata": {},
   "cell_type": "markdown",
   "source": [
    "# 4. Distribution\n",
    "We can see that the distribution of Men and Women is almost equal. Meaning that Actor success defined by our metrics is not gender biased."
   ],
   "id": "5db2fd77c6928cff"
  },
  {
   "metadata": {
    "ExecuteTime": {
     "end_time": "2024-12-15T13:29:31.385875Z",
     "start_time": "2024-12-15T13:29:31.282554Z"
    }
   },
   "cell_type": "code",
   "source": [
    "# 4. Distribution of Gender Among Successful Actors\n",
    "plt.figure(figsize=(6, 6))\n",
    "gender_counts = successful_actors['gender'].value_counts()\n",
    "gender_labels = ['Male' if i == 'M' else 'Female' for i in gender_counts.index]\n",
    "plt.pie(gender_counts, labels=gender_labels, autopct='%1.1f%%', startangle=140, colors=['lightcoral', 'lightskyblue'])\n",
    "plt.title('Distribution of Gender Among Successful Actors')\n",
    "plt.show()"
   ],
   "id": "4b2b0de6d92d2d62",
   "outputs": [
    {
     "data": {
      "text/plain": [
       "<Figure size 600x600 with 1 Axes>"
      ],
      "image/png": "[encoded data removed]"
     },
     "metadata": {},
     "output_type": "display_data"
    }
   ],
   "execution_count": 35
  },
  {
   "metadata": {
    "ExecuteTime": {
     "end_time": "2024-12-15T13:29:31.390099Z",
     "start_time": "2024-12-15T13:29:31.388789Z"
    }
   },
   "cell_type": "code",
   "source": "",
   "id": "9575ac83b1e892c6",
   "outputs": [],
   "execution_count": null
  },
  {
   "metadata": {},
   "cell_type": "markdown",
   "source": [
    "# 5. Top 10 Countries by Actor Count\n",
    "As expected, the USA has the most successful actors by a very big Margin. Followed by the UK, Canada and France."
   ],
   "id": "f28ab96d28778015"
  },
  {
   "metadata": {
    "ExecuteTime": {
     "end_time": "2024-12-15T13:29:31.495272Z",
     "start_time": "2024-12-15T13:29:31.403864Z"
    }
   },
   "cell_type": "code",
   "source": [
    "\n",
    "# 5. Top 10 Countries by Actor Count\n",
    "top_countries = successful_actors['place_of_birth'].value_counts().head(10)\n",
    "plt.figure(figsize=(10, 6))\n",
    "sns.barplot(x=top_countries.values, y=top_countries.index, palette='coolwarm')\n",
    "plt.title('Top 10 Countries by Number of Successful Actors')\n",
    "plt.xlabel('Number of Actors')\n",
    "plt.ylabel('Country')\n",
    "plt.show()"
   ],
   "id": "ec796d975c5254e5",
   "outputs": [
    {
     "data": {
      "text/plain": [
       "<Figure size 1000x600 with 1 Axes>"
      ],
      "image/png": "[encoded data removed]"
     },
     "metadata": {},
     "output_type": "display_data"
    }
   ],
   "execution_count": 36
  },
  {
   "metadata": {},
   "cell_type": "markdown",
   "source": [
    "# 6. Relationship between Number of Movies and Final Score\n",
    "We can see that there is no strong relationship between the number of movies an actor has been in and the final score. However for Men there seems to be a slight positive correlation, but only based by a few samples. Why could that be? Maybe because Men are more likely to be in more movies and more movies means more chances to win an Oscar. But whether Men are indeed more likely to have a longer career in acting is not clear from this data. However it could be plausible, because of the beauty standards in the movie industry."
   ],
   "id": "d54a206f79074450"
  },
  {
   "metadata": {
    "ExecuteTime": {
     "end_time": "2024-12-15T13:29:31.607166Z",
     "start_time": "2024-12-15T13:29:31.508730Z"
    }
   },
   "cell_type": "code",
   "source": [
    "\n",
    "# 6. Relationship between Number of Movies and Final Score\n",
    "plt.figure(figsize=(10, 6))\n",
    "sns.scatterplot(x='num_movies', y='final_score', data=successful_actors, hue='gender', palette='coolwarm', s=100)\n",
    "plt.title('Relationship between Number of Movies and Final Score')\n",
    "plt.xlabel('Number of Movies')\n",
    "plt.ylabel('Final Score')\n",
    "plt.legend(title='Gender')\n",
    "plt.show()"
   ],
   "id": "49300f805a7c54a",
   "outputs": [
    {
     "data": {
      "text/plain": [
       "<Figure size 1000x600 with 1 Axes>"
      ],
      "image/png": "[encoded data removed]"
     },
     "metadata": {},
     "output_type": "display_data"
    }
   ],
   "execution_count": 37
  },
  {
   "metadata": {},
   "cell_type": "markdown",
   "source": [
    "# 7. Heatmap of Correlations\n",
    "We can see a very strong correlation between the Oscar score and the final score. This is expected, because the final score is the sum of the Oscar score and the IMDB score. The IMDB score has a moderate correlation with the final score. The number of movies an actor has been in has a weak correlation with the final score. and a negative correlation with the IMDB score."
   ],
   "id": "5a417265dc006840"
  },
  {
   "metadata": {
    "ExecuteTime": {
     "end_time": "2024-12-15T13:29:31.720045Z",
     "start_time": "2024-12-15T13:29:31.631743Z"
    }
   },
   "cell_type": "code",
   "source": [
    "# 7. Heatmap of Correlations\n",
    "plt.figure(figsize=(10, 8))\n",
    "corr = successful_actors[['oscar_score', 'imdb_score', 'num_movies', 'final_score']].corr()\n",
    "sns.heatmap(corr, annot=True, cmap='coolwarm', fmt=\".2f\", linewidths=0.5)\n",
    "plt.title('Correlation Heatmap of Actor Success Metrics')\n",
    "plt.show()"
   ],
   "id": "cd2d353964a09e2b",
   "outputs": [
    {
     "data": {
      "text/plain": [
       "<Figure size 1000x800 with 2 Axes>"
      ],
      "image/png": "[encoded data removed]"
     },
     "metadata": {},
     "output_type": "display_data"
    }
   ],
   "execution_count": 38
  },
  {
   "metadata": {},
   "cell_type": "markdown",
   "source": [
    "# 8. Top 10 Actors by IMDB Score\n",
    "We can ssee that Gloria Swanson has the highest IMDB score. Followed very closely by Jack Oakey and Margaret Sullavan. It is noticeble, that alle the top 10 actors are are between a score of 8 and 8.5. This is interesting, because the top 10 actors by final score are between 12 and 22."
   ],
   "id": "89245e93d15fbada"
  },
  {
   "metadata": {
    "ExecuteTime": {
     "end_time": "2024-12-15T13:29:31.818221Z",
     "start_time": "2024-12-15T13:29:31.722742Z"
    }
   },
   "cell_type": "code",
   "source": [
    "\n",
    "# 8. Top 10 Actors by IMDB Score\n",
    "top_10_actors_imdb = successful_actors.sort_values(by='imdb_score', ascending=False).head(10)\n",
    "plt.figure(figsize=(10, 6))\n",
    "sns.barplot(x='imdb_score', y=top_10_actors_imdb.index, data=top_10_actors_imdb, palette='magma')\n",
    "plt.title('Top 10 Actors by IMDB Score')\n",
    "plt.xlabel('IMDB Score')\n",
    "plt.ylabel('Actor')\n",
    "plt.show()"
   ],
   "id": "84cd81f50814b1b0",
   "outputs": [
    {
     "data": {
      "text/plain": [
       "<Figure size 1000x600 with 1 Axes>"
      ],
      "image/png": "[encoded data removed]"
     },
     "metadata": {},
     "output_type": "display_data"
    }
   ],
   "execution_count": 39
  },
  {
   "metadata": {},
   "cell_type": "markdown",
   "source": [
    "\n",
    "# 9. Relationship between Birth Year and Final Score\n",
    "We can see that actors born around the 1940s have the highest final scores. This could be because they have had the most time to build their acting career. We can also see that there is an outlier with a birth year around 1996 and a final score of 22. Who this is, we will investigate further."
   ],
   "id": "94ba52ddd7b8d696"
  },
  {
   "metadata": {
    "ExecuteTime": {
     "end_time": "2024-12-15T13:29:31.936299Z",
     "start_time": "2024-12-15T13:29:31.833460Z"
    }
   },
   "cell_type": "code",
   "source": [
    "\n",
    "# 9. Relationship between Birth Year and Final Score\n",
    "plt.figure(figsize=(10, 6))\n",
    "sns.scatterplot(x='birthday', y='final_score', data=successful_actors, hue='gender', palette='coolwarm', s=100)\n",
    "plt.title('Relationship between Birth Year and Final Score')\n",
    "plt.xlabel('Birth Year')\n",
    "plt.ylabel('Final Score')\n",
    "plt.legend(title='Gender')\n",
    "plt.show()"
   ],
   "id": "950edc7034310b9f",
   "outputs": [
    {
     "data": {
      "text/plain": [
       "<Figure size 1000x600 with 1 Axes>"
      ],
      "image/png": "[encoded data removed]"
     },
     "metadata": {},
     "output_type": "display_data"
    }
   ],
   "execution_count": 40
  },
  {
   "metadata": {},
   "cell_type": "markdown",
   "source": "Interestingly, we see that Jack Nicholson is the outlier with a birth year around 1996 and a final score of 22. This is clearly a mistake in the data. Since his real birth year is 1937.",
   "id": "f3ee2f5c6207b4d9"
  },
  {
   "metadata": {
    "ExecuteTime": {
     "end_time": "2024-12-15T13:29:31.966814Z",
     "start_time": "2024-12-15T13:29:31.962892Z"
    }
   },
   "cell_type": "code",
   "source": [
    "# who is that outlier with final score 22?\n",
    "successful_actors[successful_actors['final_score'] > 20]"
   ],
   "id": "d38bcc6c408aaa43",
   "outputs": [
    {
     "data": {
      "text/plain": [
       "                oscar_score  imdb_score  num_movies  final_score     id  \\\n",
       "name                                                                      \n",
       "Jack Nicholson           15    7.058824          17    22.058824  514.0   \n",
       "\n",
       "                birthday  deathday gender known_for_department place_of_birth  \n",
       "name                                                                           \n",
       "Jack Nicholson    1996.0       NaN      F               Acting             UK  "
      ],
      "text/html": [
       "<div>\n",
       "<style scoped>\n",
       "    .dataframe tbody tr th:only-of-type {\n",
       "        vertical-align: middle;\n",
       "    }\n",
       "\n",
       "    .dataframe tbody tr th {\n",
       "        vertical-align: top;\n",
       "    }\n",
       "\n",
       "    .dataframe thead th {\n",
       "        text-align: right;\n",
       "    }\n",
       "</style>\n",
       "<table border=\"1\" class=\"dataframe\">\n",
       "  <thead>\n",
       "    <tr style=\"text-align: right;\">\n",
       "      <th></th>\n",
       "      <th>oscar_score</th>\n",
       "      <th>imdb_score</th>\n",
       "      <th>num_movies</th>\n",
       "      <th>final_score</th>\n",
       "      <th>id</th>\n",
       "      <th>birthday</th>\n",
       "      <th>deathday</th>\n",
       "      <th>gender</th>\n",
       "      <th>known_for_department</th>\n",
       "      <th>place_of_birth</th>\n",
       "    </tr>\n",
       "    <tr>\n",
       "      <th>name</th>\n",
       "      <th></th>\n",
       "      <th></th>\n",
       "      <th></th>\n",
       "      <th></th>\n",
       "      <th></th>\n",
       "      <th></th>\n",
       "      <th></th>\n",
       "      <th></th>\n",
       "      <th></th>\n",
       "      <th></th>\n",
       "    </tr>\n",
       "  </thead>\n",
       "  <tbody>\n",
       "    <tr>\n",
       "      <th>Jack Nicholson</th>\n",
       "      <td>15</td>\n",
       "      <td>7.058824</td>\n",
       "      <td>17</td>\n",
       "      <td>22.058824</td>\n",
       "      <td>514.0</td>\n",
       "      <td>1996.0</td>\n",
       "      <td>NaN</td>\n",
       "      <td>F</td>\n",
       "      <td>Acting</td>\n",
       "      <td>UK</td>\n",
       "    </tr>\n",
       "  </tbody>\n",
       "</table>\n",
       "</div>"
      ]
     },
     "execution_count": 41,
     "metadata": {},
     "output_type": "execute_result"
    }
   ],
   "execution_count": 41
  },
  {
   "metadata": {
    "ExecuteTime": {
     "end_time": "2024-12-15T13:29:31.989536Z",
     "start_time": "2024-12-15T13:29:31.987904Z"
    }
   },
   "cell_type": "code",
   "source": [
    "\n",
    "# Optional: Save the clean DataFrame for future use\n",
    "#successful_actors.to_csv('cleaned_successful_actors.csv', index=True)"
   ],
   "id": "b0d9bd138e20c1cb",
   "outputs": [],
   "execution_count": 42
  },
  {
   "metadata": {
    "ExecuteTime": {
     "end_time": "2024-12-15T13:29:32.017991Z",
     "start_time": "2024-12-15T13:29:32.016389Z"
    }
   },
   "cell_type": "code",
   "source": "",
   "id": "808e7e81f1c72066",
   "outputs": [],
   "execution_count": null
  }
 ],
 "metadata": {
  "kernelspec": {
   "display_name": "Python 3",
   "language": "python",
   "name": "python3"
  },
  "language_info": {
   "codemirror_mode": {
    "name": "ipython",
    "version": 2
   },
   "file_extension": ".py",
   "mimetype": "text/x-python",
   "name": "python",
   "nbconvert_exporter": "python",
   "pygments_lexer": "ipython2",
   "version": "2.7.6"
  }
 },
 "nbformat": 4,
 "nbformat_minor": 5
}
