{
 "cells": [
  {
   "cell_type": "markdown",
   "metadata": {},
   "source": [
    "## Idea 3. Towards inclusivity\n",
    "Society is becoming more inclusive towards minorities and gender equality is also being pushed forward. Is the movie industry keeping up? \n",
    "\n",
    "Examining the evolving inclusivity trend could be done from multiple angles. \n",
    "\n",
    "1. Sorting the movies chronologically, by country and analyzing the distribution / proportion of races, genders and age in the movies. \n",
    "\n",
    "2. Since we have the movie description as well as movie characters, we could identify the protagonist (perhaps the character which appears most times in a movie description) and see what the protagonists’ distribution of each race/gender/age is in each country and how it evolves over time. \n",
    "\n",
    "3. We could further split the characters into good and bad using NLP and classification. It would be interesting whether there is any relationship between gender/race/age and being a “good” or “bad” character.\n"
   ]
  },
  {
   "cell_type": "markdown",
   "metadata": {},
   "source": [
    "### Data we need\n",
    "#### About movies\n",
    "1. movies\n",
    "2. countries\n",
    "3. release dates\n",
    "\n",
    "#### About characters\n",
    "1. Age\n",
    "2. Race\n",
    "3. Gender"
   ]
  },
  {
   "cell_type": "markdown",
   "metadata": {
    "vscode": {
     "languageId": "plaintext"
    }
   },
   "source": [
    "### Enhancing the data"
   ]
  },
  {
   "cell_type": "code",
   "execution_count": 12,
   "metadata": {},
   "outputs": [],
   "source": [
    "import pandas as pd"
   ]
  },
  {
   "cell_type": "code",
   "execution_count": 13,
   "metadata": {},
   "outputs": [],
   "source": [
    "pickle_folder = '../../pickles'\n",
    "\n",
    "cmu_movies = pd.read_pickle(f'{pickle_folder}/cmu_movies_df.pkl')\n",
    "imbd_data = pd.read_pickle(f'{pickle_folder}/imdb_data.pkl')\n",
    "character_metadata = pd.read_pickle(f'{pickle_folder}/character_metadata.pkl')\n",
    "metacritic = pd.read_pickle(f'{pickle_folder}/metacritic_df.pkl')\n",
    "oskar = pd.read_pickle(f'{pickle_folder}/oskar_df.pkl')"
   ]
  },
  {
   "cell_type": "code",
   "execution_count": 15,
   "metadata": {},
   "outputs": [
    {
     "name": "stdout",
     "output_type": "stream",
     "text": [
      "<class 'pandas.core.frame.DataFrame'>\n",
      "RangeIndex: 81741 entries, 0 to 81740\n",
      "Data columns (total 12 columns):\n",
      " #   Column                Non-Null Count  Dtype  \n",
      "---  ------                --------------  -----  \n",
      " 0   Wikipedia Movie ID    81741 non-null  int64  \n",
      " 1   Freebase Movie ID     81741 non-null  object \n",
      " 2   Movie Name            81741 non-null  object \n",
      " 3   Release Date          74839 non-null  object \n",
      " 4   Box Office Revenue    8401 non-null   float64\n",
      " 5   Runtime               61291 non-null  float64\n",
      " 6   Language Freebase ID  81741 non-null  object \n",
      " 7   Language Name         81741 non-null  object \n",
      " 8   Country Freebase ID   81741 non-null  object \n",
      " 9   Country Name          81741 non-null  object \n",
      " 10  Genre Freebase ID     81741 non-null  object \n",
      " 11  Genre Name            81741 non-null  object \n",
      "dtypes: float64(2), int64(1), object(9)\n",
      "memory usage: 7.5+ MB\n"
     ]
    }
   ],
   "source": [
    "cmu_movies.info()"
   ]
  },
  {
   "cell_type": "code",
   "execution_count": null,
   "metadata": {},
   "outputs": [],
   "source": []
  }
 ],
 "metadata": {
  "kernelspec": {
   "display_name": "epfl-ai",
   "language": "python",
   "name": "python3"
  },
  "language_info": {
   "codemirror_mode": {
    "name": "ipython",
    "version": 3
   },
   "file_extension": ".py",
   "mimetype": "text/x-python",
   "name": "python",
   "nbconvert_exporter": "python",
   "pygments_lexer": "ipython3",
   "version": "3.12.7"
  }
 },
 "nbformat": 4,
 "nbformat_minor": 2
}
