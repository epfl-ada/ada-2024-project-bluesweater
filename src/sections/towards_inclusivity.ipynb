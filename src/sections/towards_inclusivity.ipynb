{
 "cells": [
  {
   "cell_type": "markdown",
   "metadata": {},
   "source": [
    "## Idea 3. Towards inclusivity\n",
    "Society is becoming more inclusive towards minorities and gender equality is also being pushed forward. Is the movie industry keeping up? \n",
    "\n",
    "Examining the evolving inclusivity trend could be done from multiple angles. \n",
    "\n",
    "1. Sorting the movies chronologically, by country and analyzing the distribution / proportion of races, genders and age in the movies. \n",
    "\n",
    "2. Since we have the movie description as well as movie characters, we could identify the protagonist (perhaps the character which appears most times in a movie description) and see what the protagonists’ distribution of each race/gender/age is in each country and how it evolves over time. \n",
    "\n",
    "3. We could further split the characters into good and bad using NLP and classification. It would be interesting whether there is any relationship between gender/race/age and being a “good” or “bad” character.\n"
   ]
  },
  {
   "cell_type": "markdown",
   "metadata": {},
   "source": [
    "### Data we need\n",
    "#### About movies\n",
    "1. movies\n",
    "2. countries\n",
    "3. release dates\n",
    "\n",
    "#### About characters\n",
    "1. Age\n",
    "2. Race\n",
    "3. Gender"
   ]
  },
  {
   "cell_type": "markdown",
   "metadata": {
    "vscode": {
     "languageId": "plaintext"
    }
   },
   "source": [
    "### Enhancing the data"
   ]
  },
  {
   "cell_type": "code",
   "execution_count": 1,
   "metadata": {},
   "outputs": [],
   "source": [
    "import pandas as pd"
   ]
  },
  {
   "cell_type": "code",
   "execution_count": 2,
   "metadata": {},
   "outputs": [],
   "source": [
    "pickle_folder = '../../pickles'\n",
    "\n",
    "cmu_movies = pd.read_pickle(f'{pickle_folder}/cmu_movies_df.pkl')\n",
    "imbd_data = pd.read_pickle(f'{pickle_folder}/imdb_data.pkl')\n",
    "character_metadata = pd.read_pickle(f'{pickle_folder}/character_metadata.pkl')\n",
    "metacritic = pd.read_pickle(f'{pickle_folder}/metacritic_df.pkl')\n",
    "oskar = pd.read_pickle(f'{pickle_folder}/oskar_df.pkl')"
   ]
  },
  {
   "cell_type": "code",
   "execution_count": 3,
   "metadata": {},
   "outputs": [
    {
     "name": "stdout",
     "output_type": "stream",
     "text": [
      "<class 'pandas.core.frame.DataFrame'>\n",
      "RangeIndex: 81741 entries, 0 to 81740\n",
      "Data columns (total 12 columns):\n",
      " #   Column                Non-Null Count  Dtype  \n",
      "---  ------                --------------  -----  \n",
      " 0   Wikipedia Movie ID    81741 non-null  int64  \n",
      " 1   Freebase Movie ID     81741 non-null  object \n",
      " 2   Movie Name            81741 non-null  object \n",
      " 3   Release Date          74839 non-null  object \n",
      " 4   Box Office Revenue    8401 non-null   float64\n",
      " 5   Runtime               61291 non-null  float64\n",
      " 6   Language Freebase ID  81741 non-null  object \n",
      " 7   Language Name         81741 non-null  object \n",
      " 8   Country Freebase ID   81741 non-null  object \n",
      " 9   Country Name          81741 non-null  object \n",
      " 10  Genre Freebase ID     81741 non-null  object \n",
      " 11  Genre Name            81741 non-null  object \n",
      "dtypes: float64(2), int64(1), object(9)\n",
      "memory usage: 7.5+ MB\n"
     ]
    }
   ],
   "source": [
    "cmu_movies.info()"
   ]
  },
  {
   "cell_type": "code",
   "execution_count": 22,
   "metadata": {},
   "outputs": [
    {
     "name": "stdout",
     "output_type": "stream",
     "text": [
      "<class 'pandas.core.frame.DataFrame'>\n",
      "Index: 74839 entries, 0 to 81740\n",
      "Data columns (total 12 columns):\n",
      " #   Column                Non-Null Count  Dtype  \n",
      "---  ------                --------------  -----  \n",
      " 0   Wikipedia Movie ID    74839 non-null  int64  \n",
      " 1   Freebase Movie ID     74839 non-null  object \n",
      " 2   Movie Name            74839 non-null  object \n",
      " 3   Release Date          74839 non-null  object \n",
      " 4   Box Office Revenue    8328 non-null   float64\n",
      " 5   Runtime               58631 non-null  float64\n",
      " 6   Language Freebase ID  74839 non-null  object \n",
      " 7   Language Name         74839 non-null  object \n",
      " 8   Country Freebase ID   74839 non-null  object \n",
      " 9   Country Name          74839 non-null  object \n",
      " 10  Genre Freebase ID     74839 non-null  object \n",
      " 11  Genre Name            74839 non-null  object \n",
      "dtypes: float64(2), int64(1), object(9)\n",
      "memory usage: 7.4+ MB\n"
     ]
    }
   ],
   "source": [
    "# complete movie entries\n",
    "\n",
    "movies_cleaned = cmu_movies[(cmu_movies['Movie Name'].notnull())]\n",
    "movies_cleaned = movies_cleaned[(cmu_movies['Country Name'].notnull())]\n",
    "movies_cleaned = movies_cleaned[(cmu_movies['Release Date'].notnull())]\n",
    "\n",
    "movies_cleaned.info()"
   ]
  },
  {
   "cell_type": "code",
   "execution_count": 23,
   "metadata": {},
   "outputs": [
    {
     "name": "stdout",
     "output_type": "stream",
     "text": [
      "<class 'pandas.core.frame.DataFrame'>\n",
      "RangeIndex: 450669 entries, 0 to 450668\n",
      "Data columns (total 13 columns):\n",
      " #   Column                  Non-Null Count   Dtype  \n",
      "---  ------                  --------------   -----  \n",
      " 0   wikipedia_movie_id      450669 non-null  int64  \n",
      " 1   freebase_movie_id       450669 non-null  object \n",
      " 2   movie_release_date      440674 non-null  object \n",
      " 3   character_name          192794 non-null  object \n",
      " 4   actor_dob               344524 non-null  object \n",
      " 5   actor_gender            405060 non-null  object \n",
      " 6   actor_height            154824 non-null  float64\n",
      " 7   actor_ethnicity_id      106058 non-null  object \n",
      " 8   actor_name              449441 non-null  object \n",
      " 9   actor_age_at_release    292556 non-null  float64\n",
      " 10  character_actor_map_id  450669 non-null  object \n",
      " 11  character_id            192804 non-null  object \n",
      " 12  actor_id                449854 non-null  object \n",
      "dtypes: float64(2), int64(1), object(10)\n",
      "memory usage: 44.7+ MB\n"
     ]
    }
   ],
   "source": [
    "# Characters\n",
    "character_metadata.info()\n",
    "\n",
    "characters_gender = character_metadata[character_metadata['actor_gender'].notnull()]\n",
    "characters_age = character_metadata[character_metadata['actor_age_at_release'].notnull()]\n",
    "characters_race = character_metadata[character_metadata['actor_ethnicity_id'].notnull()]\n",
    "\n",
    "\n"
   ]
  },
  {
   "cell_type": "code",
   "execution_count": null,
   "metadata": {},
   "outputs": [],
   "source": [
    "# Join characters characters_gender\n",
    "# x-axis time\n",
    "# "
   ]
  },
  {
   "cell_type": "markdown",
   "metadata": {},
   "source": [
    "## TODO\n",
    "- ratio of men to women over time (e.g. histogram per decade)\n",
    "- join IMDB metacritic rotten tomatoes"
   ]
  },
  {
   "cell_type": "markdown",
   "metadata": {},
   "source": []
  }
 ],
 "metadata": {
  "kernelspec": {
   "display_name": "epfl-ai",
   "language": "python",
   "name": "python3"
  },
  "language_info": {
   "codemirror_mode": {
    "name": "ipython",
    "version": 3
   },
   "file_extension": ".py",
   "mimetype": "text/x-python",
   "name": "python",
   "nbconvert_exporter": "python",
   "pygments_lexer": "ipython3",
   "version": "3.12.7"
  }
 },
 "nbformat": 4,
 "nbformat_minor": 2
}
