{
 "cells": [
  {
   "cell_type": "markdown",
   "metadata": {},
   "source": [
    "## Idea 3. Towards inclusivity\n",
    "Society is becoming more inclusive towards minorities and gender equality is also being pushed forward. Is the movie industry keeping up? Examining the evolving inclusivity trend could be done from multiple angles. Sorting the movies chronologically, by country and analyzing the distribution / proportion of races, genders and age in the movies. Since we have the movie description as well as movie characters, we could identify the protagonist (perhaps the character which appears most times in a movie description) and see what the protagonists’ distribution of each race/gender/age is in each country and how it evolves over time. We could further split the characters into good and bad using NLP and classification. It would be interesting whether there is any relationship between gender/race/age and being a “good” or “bad” character.\n"
   ]
  },
  {
   "cell_type": "markdown",
   "metadata": {},
   "source": []
  }
 ],
 "metadata": {
  "language_info": {
   "name": "python"
  }
 },
 "nbformat": 4,
 "nbformat_minor": 2
}
