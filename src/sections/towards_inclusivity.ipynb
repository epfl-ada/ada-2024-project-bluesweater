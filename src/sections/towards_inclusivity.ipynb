{
 "cells": [
  {
   "cell_type": "markdown",
   "metadata": {},
   "source": [
    "## Idea 3. Towards inclusivity\n",
    "Society is becoming more inclusive towards minorities and gender equality is also being pushed forward. Is the movie industry keeping up? \n",
    "\n",
    "Examining the evolving inclusivity trend could be done from multiple angles. \n",
    "\n",
    "1. Sorting the movies chronologically, by country and analyzing the distribution / proportion of races, genders and age in the movies. \n",
    "\n",
    "2. Since we have the movie description as well as movie characters, we could identify the protagonist (perhaps the character which appears most times in a movie description) and see what the protagonists’ distribution of each race/gender/age is in each country and how it evolves over time. \n",
    "\n",
    "3. We could further split the characters into good and bad using NLP and classification. It would be interesting whether there is any relationship between gender/race/age and being a “good” or “bad” character.\n"
   ]
  },
  {
   "cell_type": "markdown",
   "metadata": {},
   "source": [
    "### Data we need\n",
    "#### About movies\n",
    "1. movies\n",
    "2. countries\n",
    "3. release dates\n",
    "\n",
    "#### About characters\n",
    "1. Age\n",
    "2. Race\n",
    "3. Gender"
   ]
  },
  {
   "cell_type": "markdown",
   "metadata": {
    "vscode": {
     "languageId": "plaintext"
    }
   },
   "source": [
    "### Enhancing the data"
   ]
  },
  {
   "cell_type": "code",
   "execution_count": null,
   "metadata": {
    "vscode": {
     "languageId": "plaintext"
    }
   },
   "outputs": [],
   "source": []
  }
 ],
 "metadata": {
  "language_info": {
   "name": "python"
  }
 },
 "nbformat": 4,
 "nbformat_minor": 2
}
