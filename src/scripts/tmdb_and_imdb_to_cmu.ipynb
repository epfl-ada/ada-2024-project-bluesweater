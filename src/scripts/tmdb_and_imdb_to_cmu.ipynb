{
 "cells": [
  {
   "cell_type": "markdown",
   "metadata": {},
   "source": [
    "# Enriching CMU dataset\n",
    "## IMDb_ID to CMU\n",
    "We will first fetch IMDb_ID to CMU on matching FreebaseID from Wikidata using sparql"
   ]
  },
  {
   "cell_type": "code",
   "execution_count": 1,
   "metadata": {},
   "outputs": [],
   "source": [
    "import pandas as pd\n",
    "from SPARQLWrapper import SPARQLWrapper, JSON\n",
    "import sys\n",
    "import requests\n",
    "import numpy as np\n",
    "\n",
    "sys.path.append('../../data')\n",
    "sys.path.append('../../pickles')\n",
    "\n",
    "# Load your CSV file with movie data\n",
    "df = pd.read_pickle('../../pickles/cmu_movies_df.pkl')"
   ]
  },
  {
   "cell_type": "code",
   "execution_count": 2,
   "metadata": {},
   "outputs": [],
   "source": [
    "def fetch_wikidata_request(offset):\n",
    "  url = 'https://query.wikidata.org/sparql'\n",
    "  query = f\"\"\"\n",
    "    SELECT ?item ?IMDb_ID ?FreebaseID WHERE {{\n",
    "      ?item wdt:P31 wd:Q11424 .\n",
    "      ?item wdt:P646 ?FreebaseID .\n",
    "      ?item wdt:P345 ?IMDb_ID .\n",
    "    }} \n",
    "    ORDER BY ?IMDb_ID\n",
    "    OFFSET {offset}\n",
    "    \"\"\"\n",
    "  r = requests.get(url, params = {'format': 'json', 'query': query})\n",
    "  data = r.json()\n",
    "  # print(data)\n",
    "  return data\n",
    "\n",
    "def process_data(data):\n",
    "  \"\"\"\n",
    "  Extracts a dataframe with FreebaseID and IMDb_ID from the JSON data returned by the query\n",
    "  Returns: the DataFrame with FreebaseID and IMDb_ID\n",
    "  \"\"\"\n",
    "  transformed_data = [\n",
    "      {\n",
    "          'Freebase Movie ID': entry.get('FreebaseID', {}).get('value', None),\n",
    "          'IMDb_ID': entry.get('IMDb_ID', {}).get('value', None)\n",
    "      }\n",
    "      for entry in data['results']['bindings']\n",
    "  ]\n",
    "\n",
    "  # Create a DataFrame\n",
    "  df = pd.DataFrame(transformed_data)\n",
    "  return df"
   ]
  },
  {
   "cell_type": "code",
   "execution_count": 3,
   "metadata": {},
   "outputs": [
    {
     "name": "stdout",
     "output_type": "stream",
     "text": [
      "offset 106112\n"
     ]
    }
   ],
   "source": [
    "num_calls = 1 # no need for more, because the call returns all\n",
    "offset = 0\n",
    "for i in range(num_calls):\n",
    "  data = fetch_wikidata_request(offset)\n",
    "  new_df = process_data(data)\n",
    "  if len(new_df) > 0:\n",
    "    df = pd.merge(df, new_df, how='left', on='Freebase Movie ID')\n",
    "  offset += len(new_df)\n",
    "  print('offset', offset)\n",
    "  "
   ]
  },
  {
   "cell_type": "code",
   "execution_count": 4,
   "metadata": {},
   "outputs": [
    {
     "name": "stdout",
     "output_type": "stream",
     "text": [
      "<class 'pandas.core.frame.DataFrame'>\n",
      "RangeIndex: 81847 entries, 0 to 81846\n",
      "Data columns (total 13 columns):\n",
      " #   Column                Non-Null Count  Dtype  \n",
      "---  ------                --------------  -----  \n",
      " 0   Wikipedia Movie ID    81847 non-null  int64  \n",
      " 1   Freebase Movie ID     81847 non-null  object \n",
      " 2   Movie Name            81847 non-null  object \n",
      " 3   Release Date          74927 non-null  object \n",
      " 4   Box Office Revenue    8403 non-null   float64\n",
      " 5   Runtime               61352 non-null  float64\n",
      " 6   Language Freebase ID  81847 non-null  object \n",
      " 7   Language Name         81847 non-null  object \n",
      " 8   Country Freebase ID   81847 non-null  object \n",
      " 9   Country Name          81847 non-null  object \n",
      " 10  Genre Freebase ID     81847 non-null  object \n",
      " 11  Genre Name            81847 non-null  object \n",
      " 12  IMDb_ID               63342 non-null  object \n",
      "dtypes: float64(2), int64(1), object(10)\n",
      "memory usage: 8.1+ MB\n"
     ]
    }
   ],
   "source": [
    "df.info()"
   ]
  },
  {
   "cell_type": "code",
   "execution_count": 5,
   "metadata": {},
   "outputs": [],
   "source": [
    "# # Uncomment if you want to store the data without TMDB\n",
    "# df.to_pickle('../../pickles/cmu_movies_with_imdb_id.pkl')"
   ]
  },
  {
   "cell_type": "markdown",
   "metadata": {},
   "source": [
    "## TMDB to CMU\n",
    "\n",
    "Once we have IMDb_ID in the CMU dataset, we can easily match the tmdb 1 Million dataset (or any other tmdb dataset) on IMDb_ID"
   ]
  },
  {
   "cell_type": "code",
   "execution_count": 6,
   "metadata": {},
   "outputs": [],
   "source": [
    "def tmdb1m_to_pickle():\n",
    "  \"\"\"\n",
    "  Use initially, to extract the data into a pickle data frame\n",
    "  \"\"\"\n",
    "\n",
    "  tmdb_df = pd.read_csv('data/tmdb/TMDB_all_movies.csv')\n",
    "  tmdb_df.to_pickle('pickles/tmdb1m')\n",
    "\n",
    "# tmdb1m_to_pickle() # use initially to extract data from csv to pickle"
   ]
  },
  {
   "cell_type": "code",
   "execution_count": 7,
   "metadata": {},
   "outputs": [],
   "source": [
    "# load tmdb1m\n",
    "tmdb = pd.read_pickle('../../pickles/tmdb1m')\n",
    "tmdb.rename(columns={'imdb_id': 'IMDb_ID'}, inplace=True)"
   ]
  },
  {
   "cell_type": "code",
   "execution_count": 8,
   "metadata": {},
   "outputs": [
    {
     "name": "stdout",
     "output_type": "stream",
     "text": [
      "<class 'pandas.core.frame.DataFrame'>\n",
      "RangeIndex: 1016527 entries, 0 to 1016526\n",
      "Data columns (total 28 columns):\n",
      " #   Column                   Non-Null Count    Dtype  \n",
      "---  ------                   --------------    -----  \n",
      " 0   id                       1016527 non-null  int64  \n",
      " 1   title                    1016516 non-null  object \n",
      " 2   vote_average             1016525 non-null  float64\n",
      " 3   vote_count               1016525 non-null  float64\n",
      " 4   status                   1016525 non-null  object \n",
      " 5   release_date             903854 non-null   object \n",
      " 6   revenue                  1016525 non-null  float64\n",
      " 7   runtime                  1016525 non-null  float64\n",
      " 8   budget                   1016525 non-null  float64\n",
      " 9   IMDb_ID                  590237 non-null   object \n",
      " 10  original_language        1016525 non-null  object \n",
      " 11  original_title           1016516 non-null  object \n",
      " 12  overview                 837498 non-null   object \n",
      " 13  popularity               1016525 non-null  float64\n",
      " 14  tagline                  150785 non-null   object \n",
      " 15  genres                   721437 non-null   object \n",
      " 16  production_companies     469007 non-null   object \n",
      " 17  production_countries     615003 non-null   object \n",
      " 18  spoken_languages         626170 non-null   object \n",
      " 19  cast                     678431 non-null   object \n",
      " 20  director                 833044 non-null   object \n",
      " 21  director_of_photography  243820 non-null   object \n",
      " 22  writers                  492247 non-null   object \n",
      " 23  producers                323279 non-null   object \n",
      " 24  music_composer           99191 non-null    object \n",
      " 25  imdb_rating              429072 non-null   float64\n",
      " 26  imdb_votes               429072 non-null   float64\n",
      " 27  poster_path              718279 non-null   object \n",
      "dtypes: float64(8), int64(1), object(19)\n",
      "memory usage: 217.2+ MB\n"
     ]
    }
   ],
   "source": [
    "tmdb.info()"
   ]
  },
  {
   "cell_type": "code",
   "execution_count": 9,
   "metadata": {},
   "outputs": [
    {
     "name": "stdout",
     "output_type": "stream",
     "text": [
      "<class 'pandas.core.frame.DataFrame'>\n",
      "Index: 590237 entries, 0 to 1016524\n",
      "Data columns (total 12 columns):\n",
      " #   Column                Non-Null Count   Dtype  \n",
      "---  ------                --------------   -----  \n",
      " 0   vote_average          590237 non-null  float64\n",
      " 1   vote_count            590237 non-null  float64\n",
      " 2   revenue               590237 non-null  float64\n",
      " 3   budget                590237 non-null  float64\n",
      " 4   IMDb_ID               590237 non-null  object \n",
      " 5   popularity            590237 non-null  float64\n",
      " 6   production_companies  345017 non-null  object \n",
      " 7   director              543103 non-null  object \n",
      " 8   writers               381627 non-null  object \n",
      " 9   producers             249461 non-null  object \n",
      " 10  imdb_rating           429072 non-null  float64\n",
      " 11  imdb_votes            429072 non-null  float64\n",
      "dtypes: float64(7), object(5)\n",
      "memory usage: 58.5+ MB\n"
     ]
    }
   ],
   "source": [
    "tmdb.columns\n",
    "\n",
    "# drop the rows where imdb_id is na from tmdb\n",
    "tmdb.dropna(subset=['IMDb_ID'], inplace=True)\n",
    "\n",
    "# select the COLUMNS we want to keep\n",
    "tmdb = tmdb[['vote_average', 'vote_count', 'revenue', 'budget', 'IMDb_ID', 'popularity', 'production_companies', 'director', 'writers', 'producers', 'imdb_rating', 'imdb_votes']]\n",
    "\n",
    "tmdb.info()"
   ]
  },
  {
   "cell_type": "code",
   "execution_count": 10,
   "metadata": {},
   "outputs": [],
   "source": [
    "df_merged = pd.merge(df, tmdb, how='left', on='IMDb_ID')"
   ]
  },
  {
   "cell_type": "code",
   "execution_count": 11,
   "metadata": {},
   "outputs": [
    {
     "name": "stdout",
     "output_type": "stream",
     "text": [
      "<class 'pandas.core.frame.DataFrame'>\n",
      "RangeIndex: 81855 entries, 0 to 81854\n",
      "Data columns (total 24 columns):\n",
      " #   Column                Non-Null Count  Dtype  \n",
      "---  ------                --------------  -----  \n",
      " 0   Wikipedia Movie ID    81855 non-null  int64  \n",
      " 1   Freebase Movie ID     81855 non-null  object \n",
      " 2   Movie Name            81855 non-null  object \n",
      " 3   Release Date          74933 non-null  object \n",
      " 4   Box Office Revenue    8403 non-null   float64\n",
      " 5   Runtime               61357 non-null  float64\n",
      " 6   Language Freebase ID  81855 non-null  object \n",
      " 7   Language Name         81855 non-null  object \n",
      " 8   Country Freebase ID   81855 non-null  object \n",
      " 9   Country Name          81855 non-null  object \n",
      " 10  Genre Freebase ID     81855 non-null  object \n",
      " 11  Genre Name            81855 non-null  object \n",
      " 12  IMDb_ID               63350 non-null  object \n",
      " 13  vote_average          59403 non-null  float64\n",
      " 14  vote_count            59403 non-null  float64\n",
      " 15  revenue               59403 non-null  float64\n",
      " 16  budget                59403 non-null  float64\n",
      " 17  popularity            59403 non-null  float64\n",
      " 18  production_companies  48157 non-null  object \n",
      " 19  director              58482 non-null  object \n",
      " 20  writers               52259 non-null  object \n",
      " 21  producers             39900 non-null  object \n",
      " 22  imdb_rating           57084 non-null  float64\n",
      " 23  imdb_votes            57084 non-null  float64\n",
      "dtypes: float64(9), int64(1), object(14)\n",
      "memory usage: 15.0+ MB\n"
     ]
    }
   ],
   "source": [
    "df_merged.info()"
   ]
  },
  {
   "cell_type": "code",
   "execution_count": 12,
   "metadata": {},
   "outputs": [],
   "source": [
    "df_merged.to_pickle('../../pickles/cmu_imdb_tmdb_merged.pkl')"
   ]
  }
 ],
 "metadata": {
  "kernelspec": {
   "display_name": "epfl-ai",
   "language": "python",
   "name": "python3"
  },
  "language_info": {
   "codemirror_mode": {
    "name": "ipython",
    "version": 3
   },
   "file_extension": ".py",
   "mimetype": "text/x-python",
   "name": "python",
   "nbconvert_exporter": "python",
   "pygments_lexer": "ipython3",
   "version": "3.12.7"
  }
 },
 "nbformat": 4,
 "nbformat_minor": 2
}
