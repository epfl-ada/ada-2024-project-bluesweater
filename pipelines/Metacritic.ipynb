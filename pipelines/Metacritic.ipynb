{
 "cells": [
  {
   "cell_type": "code",
   "id": "initial_id",
   "metadata": {
    "collapsed": true,
    "ExecuteTime": {
     "end_time": "2024-11-07T10:55:12.797535Z",
     "start_time": "2024-11-07T10:55:12.532315Z"
    }
   },
   "source": "import pandas as pd\n",
   "outputs": [],
   "execution_count": 1
  },
  {
   "metadata": {
    "ExecuteTime": {
     "end_time": "2024-11-07T10:55:42.652454Z",
     "start_time": "2024-11-07T10:55:42.578555Z"
    }
   },
   "cell_type": "code",
   "source": [
    "# Load the data\n",
    "metacritic_df = pd.read_csv('../data/Metacritic_Scores/movies.csv')"
   ],
   "id": "68fccb747d869468",
   "outputs": [],
   "execution_count": 2
  },
  {
   "metadata": {
    "ExecuteTime": {
     "end_time": "2024-11-07T10:55:47.944487Z",
     "start_time": "2024-11-07T10:55:47.936042Z"
    }
   },
   "cell_type": "code",
   "source": "metacritic_df.head()",
   "id": "a2e4cd7d97078674",
   "outputs": [
    {
     "data": {
      "text/plain": [
       "       id  metascore rating        release_date  sort_no  \\\n",
       "0  549123         94  TV-14       July 26, 1989      101   \n",
       "1  522228         94  PG-13    December 8, 2000      102   \n",
       "2  550614         94      G  September 11, 1970      103   \n",
       "3  549303         94  TV-PG    January 15, 1943      104   \n",
       "4  539956         94     PG       June 19, 2015      105   \n",
       "\n",
       "                                             summary  \\\n",
       "0  A young boy and his little sister struggle to ...   \n",
       "1  In 19th century China, a magical sword given b...   \n",
       "2  In a French forest in 1798, a child is found w...   \n",
       "3  A young woman discovers her visiting uncle may...   \n",
       "4  Growing up can be a bumpy road, and it’s no ex...   \n",
       "\n",
       "                            title user_score  \n",
       "0   Grave of the Fireflies (1988)        8.9  \n",
       "1  Crouching Tiger, Hidden Dragon        8.2  \n",
       "2                  The Wild Child        6.5  \n",
       "3               Shadow of a Doubt        8.2  \n",
       "4                      Inside Out        8.7  "
      ],
      "text/html": [
       "<div>\n",
       "<style scoped>\n",
       "    .dataframe tbody tr th:only-of-type {\n",
       "        vertical-align: middle;\n",
       "    }\n",
       "\n",
       "    .dataframe tbody tr th {\n",
       "        vertical-align: top;\n",
       "    }\n",
       "\n",
       "    .dataframe thead th {\n",
       "        text-align: right;\n",
       "    }\n",
       "</style>\n",
       "<table border=\"1\" class=\"dataframe\">\n",
       "  <thead>\n",
       "    <tr style=\"text-align: right;\">\n",
       "      <th></th>\n",
       "      <th>id</th>\n",
       "      <th>metascore</th>\n",
       "      <th>rating</th>\n",
       "      <th>release_date</th>\n",
       "      <th>sort_no</th>\n",
       "      <th>summary</th>\n",
       "      <th>title</th>\n",
       "      <th>user_score</th>\n",
       "    </tr>\n",
       "  </thead>\n",
       "  <tbody>\n",
       "    <tr>\n",
       "      <th>0</th>\n",
       "      <td>549123</td>\n",
       "      <td>94</td>\n",
       "      <td>TV-14</td>\n",
       "      <td>July 26, 1989</td>\n",
       "      <td>101</td>\n",
       "      <td>A young boy and his little sister struggle to ...</td>\n",
       "      <td>Grave of the Fireflies (1988)</td>\n",
       "      <td>8.9</td>\n",
       "    </tr>\n",
       "    <tr>\n",
       "      <th>1</th>\n",
       "      <td>522228</td>\n",
       "      <td>94</td>\n",
       "      <td>PG-13</td>\n",
       "      <td>December 8, 2000</td>\n",
       "      <td>102</td>\n",
       "      <td>In 19th century China, a magical sword given b...</td>\n",
       "      <td>Crouching Tiger, Hidden Dragon</td>\n",
       "      <td>8.2</td>\n",
       "    </tr>\n",
       "    <tr>\n",
       "      <th>2</th>\n",
       "      <td>550614</td>\n",
       "      <td>94</td>\n",
       "      <td>G</td>\n",
       "      <td>September 11, 1970</td>\n",
       "      <td>103</td>\n",
       "      <td>In a French forest in 1798, a child is found w...</td>\n",
       "      <td>The Wild Child</td>\n",
       "      <td>6.5</td>\n",
       "    </tr>\n",
       "    <tr>\n",
       "      <th>3</th>\n",
       "      <td>549303</td>\n",
       "      <td>94</td>\n",
       "      <td>TV-PG</td>\n",
       "      <td>January 15, 1943</td>\n",
       "      <td>104</td>\n",
       "      <td>A young woman discovers her visiting uncle may...</td>\n",
       "      <td>Shadow of a Doubt</td>\n",
       "      <td>8.2</td>\n",
       "    </tr>\n",
       "    <tr>\n",
       "      <th>4</th>\n",
       "      <td>539956</td>\n",
       "      <td>94</td>\n",
       "      <td>PG</td>\n",
       "      <td>June 19, 2015</td>\n",
       "      <td>105</td>\n",
       "      <td>Growing up can be a bumpy road, and it’s no ex...</td>\n",
       "      <td>Inside Out</td>\n",
       "      <td>8.7</td>\n",
       "    </tr>\n",
       "  </tbody>\n",
       "</table>\n",
       "</div>"
      ]
     },
     "execution_count": 3,
     "metadata": {},
     "output_type": "execute_result"
    }
   ],
   "execution_count": 3
  },
  {
   "metadata": {
    "ExecuteTime": {
     "end_time": "2024-11-07T10:55:49.794348Z",
     "start_time": "2024-11-07T10:55:49.787646Z"
    }
   },
   "cell_type": "code",
   "source": "metacritic_df.info()",
   "id": "83f78ad844ca10a",
   "outputs": [
    {
     "name": "stdout",
     "output_type": "stream",
     "text": [
      "<class 'pandas.core.frame.DataFrame'>\n",
      "RangeIndex: 15325 entries, 0 to 15324\n",
      "Data columns (total 8 columns):\n",
      " #   Column        Non-Null Count  Dtype \n",
      "---  ------        --------------  ----- \n",
      " 0   id            15325 non-null  int64 \n",
      " 1   metascore     15325 non-null  int64 \n",
      " 2   rating        14201 non-null  object\n",
      " 3   release_date  15325 non-null  object\n",
      " 4   sort_no       15325 non-null  int64 \n",
      " 5   summary       15322 non-null  object\n",
      " 6   title         15325 non-null  object\n",
      " 7   user_score    15325 non-null  object\n",
      "dtypes: int64(3), object(5)\n",
      "memory usage: 957.9+ KB\n"
     ]
    }
   ],
   "execution_count": 4
  },
  {
   "metadata": {
    "ExecuteTime": {
     "end_time": "2024-11-07T10:55:54.084890Z",
     "start_time": "2024-11-07T10:55:54.077381Z"
    }
   },
   "cell_type": "code",
   "source": "metacritic_df.describe()",
   "id": "496a6e1247c01447",
   "outputs": [
    {
     "data": {
      "text/plain": [
       "                  id     metascore       sort_no\n",
       "count   15325.000000  15325.000000  15325.000000\n",
       "mean   537312.608548     59.180555   7663.000000\n",
       "std     13940.035800     17.076007   4424.090773\n",
       "min    500000.000000      1.000000      1.000000\n",
       "25%    521696.000000     48.000000   3832.000000\n",
       "50%    541600.000000     61.000000   7663.000000\n",
       "75%    548626.000000     72.000000  11494.000000\n",
       "max    557168.000000    100.000000  15325.000000"
      ],
      "text/html": [
       "<div>\n",
       "<style scoped>\n",
       "    .dataframe tbody tr th:only-of-type {\n",
       "        vertical-align: middle;\n",
       "    }\n",
       "\n",
       "    .dataframe tbody tr th {\n",
       "        vertical-align: top;\n",
       "    }\n",
       "\n",
       "    .dataframe thead th {\n",
       "        text-align: right;\n",
       "    }\n",
       "</style>\n",
       "<table border=\"1\" class=\"dataframe\">\n",
       "  <thead>\n",
       "    <tr style=\"text-align: right;\">\n",
       "      <th></th>\n",
       "      <th>id</th>\n",
       "      <th>metascore</th>\n",
       "      <th>sort_no</th>\n",
       "    </tr>\n",
       "  </thead>\n",
       "  <tbody>\n",
       "    <tr>\n",
       "      <th>count</th>\n",
       "      <td>15325.000000</td>\n",
       "      <td>15325.000000</td>\n",
       "      <td>15325.000000</td>\n",
       "    </tr>\n",
       "    <tr>\n",
       "      <th>mean</th>\n",
       "      <td>537312.608548</td>\n",
       "      <td>59.180555</td>\n",
       "      <td>7663.000000</td>\n",
       "    </tr>\n",
       "    <tr>\n",
       "      <th>std</th>\n",
       "      <td>13940.035800</td>\n",
       "      <td>17.076007</td>\n",
       "      <td>4424.090773</td>\n",
       "    </tr>\n",
       "    <tr>\n",
       "      <th>min</th>\n",
       "      <td>500000.000000</td>\n",
       "      <td>1.000000</td>\n",
       "      <td>1.000000</td>\n",
       "    </tr>\n",
       "    <tr>\n",
       "      <th>25%</th>\n",
       "      <td>521696.000000</td>\n",
       "      <td>48.000000</td>\n",
       "      <td>3832.000000</td>\n",
       "    </tr>\n",
       "    <tr>\n",
       "      <th>50%</th>\n",
       "      <td>541600.000000</td>\n",
       "      <td>61.000000</td>\n",
       "      <td>7663.000000</td>\n",
       "    </tr>\n",
       "    <tr>\n",
       "      <th>75%</th>\n",
       "      <td>548626.000000</td>\n",
       "      <td>72.000000</td>\n",
       "      <td>11494.000000</td>\n",
       "    </tr>\n",
       "    <tr>\n",
       "      <th>max</th>\n",
       "      <td>557168.000000</td>\n",
       "      <td>100.000000</td>\n",
       "      <td>15325.000000</td>\n",
       "    </tr>\n",
       "  </tbody>\n",
       "</table>\n",
       "</div>"
      ]
     },
     "execution_count": 5,
     "metadata": {},
     "output_type": "execute_result"
    }
   ],
   "execution_count": 5
  },
  {
   "metadata": {},
   "cell_type": "code",
   "outputs": [],
   "execution_count": null,
   "source": "",
   "id": "e1671827e121934b"
  }
 ],
 "metadata": {
  "kernelspec": {
   "display_name": "Python 3",
   "language": "python",
   "name": "python3"
  },
  "language_info": {
   "codemirror_mode": {
    "name": "ipython",
    "version": 2
   },
   "file_extension": ".py",
   "mimetype": "text/x-python",
   "name": "python",
   "nbconvert_exporter": "python",
   "pygments_lexer": "ipython2",
   "version": "2.7.6"
  }
 },
 "nbformat": 4,
 "nbformat_minor": 5
}
