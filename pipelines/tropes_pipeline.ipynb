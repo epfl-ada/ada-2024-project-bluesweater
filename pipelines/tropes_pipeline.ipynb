{
 "cells": [
  {
   "cell_type": "markdown",
   "metadata": {},
   "source": [
    "# Pipeline for Movie Tropes data "
   ]
  },
  {
   "cell_type": "markdown",
   "metadata": {},
   "source": [
    "Importing necessary librairies and then the reading the Tropes Data:"
   ]
  },
  {
   "cell_type": "code",
   "execution_count": null,
   "metadata": {},
   "outputs": [
    {
     "name": "stdout",
     "output_type": "stream",
     "text": [
      "<class 'pandas.core.frame.DataFrame'>\n",
      "RangeIndex: 501 entries, 0 to 500\n",
      "Data columns (total 5 columns):\n",
      " #   Column                  Non-Null Count  Dtype \n",
      "---  ------                  --------------  ----- \n",
      " 0   char                    501 non-null    object\n",
      " 1   movie                   501 non-null    object\n",
      " 2   character_actor_map_id  501 non-null    object\n",
      " 3   actor                   501 non-null    object\n",
      " 4   trope                   501 non-null    object\n",
      "dtypes: object(5)\n",
      "memory usage: 19.7+ KB\n"
     ]
    }
   ],
   "source": [
    "import pandas as pd\n",
    "import json\n",
    "\n",
    "with open('../data/MovieSummaries/tvtropes.clusters.txt', 'r') as f:\n",
    "  lines = f.readlines()\n",
    "\n",
    "tropes_df = pd.DataFrame()\n",
    "parsed_data = []\n",
    "for line in lines:\n",
    "  trope, details = line.strip().split(\"\\t\", 1)  # Splitting by tab only once\n",
    "  details_dict = json.loads(details)  # Converting the JSON string to a dictionary\n",
    "  details_dict['trope'] = trope  # Adding the trope as a new key-value pair\n",
    "  parsed_data.append(details_dict)\n",
    "  \n",
    "tropes_df = pd.DataFrame(parsed_data)\n",
    "tropes_df.rename(columns={'id': 'character_actor_map_id'}, inplace=True)\n",
    "\n",
    "tropes_df.info()"
   ]
  },
  {
   "cell_type": "markdown",
   "metadata": {},
   "source": [
    "Taking a closer look at the data's characteristics:"
   ]
  },
  {
   "cell_type": "code",
   "execution_count": 2,
   "metadata": {},
   "outputs": [
    {
     "data": {
      "text/html": [
       "<div>\n",
       "<style scoped>\n",
       "    .dataframe tbody tr th:only-of-type {\n",
       "        vertical-align: middle;\n",
       "    }\n",
       "\n",
       "    .dataframe tbody tr th {\n",
       "        vertical-align: top;\n",
       "    }\n",
       "\n",
       "    .dataframe thead th {\n",
       "        text-align: right;\n",
       "    }\n",
       "</style>\n",
       "<table border=\"1\" class=\"dataframe\">\n",
       "  <thead>\n",
       "    <tr style=\"text-align: right;\">\n",
       "      <th></th>\n",
       "      <th>char</th>\n",
       "      <th>movie</th>\n",
       "      <th>character_actor_map_id</th>\n",
       "      <th>actor</th>\n",
       "      <th>trope</th>\n",
       "    </tr>\n",
       "  </thead>\n",
       "  <tbody>\n",
       "    <tr>\n",
       "      <th>0</th>\n",
       "      <td>Professor Philip Brainard</td>\n",
       "      <td>Flubber</td>\n",
       "      <td>/m/0jy9q0</td>\n",
       "      <td>Robin Williams</td>\n",
       "      <td>absent_minded_professor</td>\n",
       "    </tr>\n",
       "    <tr>\n",
       "      <th>1</th>\n",
       "      <td>Professor Keenbean</td>\n",
       "      <td>Richie Rich</td>\n",
       "      <td>/m/02vchl3</td>\n",
       "      <td>Michael McShane</td>\n",
       "      <td>absent_minded_professor</td>\n",
       "    </tr>\n",
       "    <tr>\n",
       "      <th>2</th>\n",
       "      <td>Dr. Reinhardt Lane</td>\n",
       "      <td>The Shadow</td>\n",
       "      <td>/m/0k6fkc</td>\n",
       "      <td>Ian McKellen</td>\n",
       "      <td>absent_minded_professor</td>\n",
       "    </tr>\n",
       "    <tr>\n",
       "      <th>3</th>\n",
       "      <td>Dr. Harold Medford</td>\n",
       "      <td>Them!</td>\n",
       "      <td>/m/0k6_br</td>\n",
       "      <td>Edmund Gwenn</td>\n",
       "      <td>absent_minded_professor</td>\n",
       "    </tr>\n",
       "    <tr>\n",
       "      <th>4</th>\n",
       "      <td>Daniel Jackson</td>\n",
       "      <td>Stargate</td>\n",
       "      <td>/m/0k3rhh</td>\n",
       "      <td>James Spader</td>\n",
       "      <td>absent_minded_professor</td>\n",
       "    </tr>\n",
       "  </tbody>\n",
       "</table>\n",
       "</div>"
      ],
      "text/plain": [
       "                        char        movie character_actor_map_id  \\\n",
       "0  Professor Philip Brainard      Flubber              /m/0jy9q0   \n",
       "1         Professor Keenbean  Richie Rich             /m/02vchl3   \n",
       "2         Dr. Reinhardt Lane   The Shadow              /m/0k6fkc   \n",
       "3         Dr. Harold Medford        Them!              /m/0k6_br   \n",
       "4             Daniel Jackson     Stargate              /m/0k3rhh   \n",
       "\n",
       "             actor                    trope  \n",
       "0   Robin Williams  absent_minded_professor  \n",
       "1  Michael McShane  absent_minded_professor  \n",
       "2     Ian McKellen  absent_minded_professor  \n",
       "3     Edmund Gwenn  absent_minded_professor  \n",
       "4     James Spader  absent_minded_professor  "
      ]
     },
     "execution_count": 2,
     "metadata": {},
     "output_type": "execute_result"
    }
   ],
   "source": [
    "tropes_df.head()"
   ]
  },
  {
   "cell_type": "code",
   "execution_count": 3,
   "metadata": {},
   "outputs": [
    {
     "data": {
      "text/html": [
       "<div>\n",
       "<style scoped>\n",
       "    .dataframe tbody tr th:only-of-type {\n",
       "        vertical-align: middle;\n",
       "    }\n",
       "\n",
       "    .dataframe tbody tr th {\n",
       "        vertical-align: top;\n",
       "    }\n",
       "\n",
       "    .dataframe thead th {\n",
       "        text-align: right;\n",
       "    }\n",
       "</style>\n",
       "<table border=\"1\" class=\"dataframe\">\n",
       "  <thead>\n",
       "    <tr style=\"text-align: right;\">\n",
       "      <th></th>\n",
       "      <th>char</th>\n",
       "      <th>movie</th>\n",
       "      <th>character_actor_map_id</th>\n",
       "      <th>actor</th>\n",
       "      <th>trope</th>\n",
       "    </tr>\n",
       "  </thead>\n",
       "  <tbody>\n",
       "    <tr>\n",
       "      <th>count</th>\n",
       "      <td>501</td>\n",
       "      <td>501</td>\n",
       "      <td>501</td>\n",
       "      <td>501</td>\n",
       "      <td>501</td>\n",
       "    </tr>\n",
       "    <tr>\n",
       "      <th>unique</th>\n",
       "      <td>434</td>\n",
       "      <td>383</td>\n",
       "      <td>447</td>\n",
       "      <td>350</td>\n",
       "      <td>72</td>\n",
       "    </tr>\n",
       "    <tr>\n",
       "      <th>top</th>\n",
       "      <td>Captain Jack Sparrow</td>\n",
       "      <td>Pirates of the Caribbean: Dead Man's Chest</td>\n",
       "      <td>/m/0k1xxm</td>\n",
       "      <td>Robert De Niro</td>\n",
       "      <td>crazy_jealous_guy</td>\n",
       "    </tr>\n",
       "    <tr>\n",
       "      <th>freq</th>\n",
       "      <td>5</td>\n",
       "      <td>7</td>\n",
       "      <td>5</td>\n",
       "      <td>9</td>\n",
       "      <td>25</td>\n",
       "    </tr>\n",
       "  </tbody>\n",
       "</table>\n",
       "</div>"
      ],
      "text/plain": [
       "                        char                                       movie  \\\n",
       "count                    501                                         501   \n",
       "unique                   434                                         383   \n",
       "top     Captain Jack Sparrow  Pirates of the Caribbean: Dead Man's Chest   \n",
       "freq                       5                                           7   \n",
       "\n",
       "       character_actor_map_id           actor              trope  \n",
       "count                     501             501                501  \n",
       "unique                    447             350                 72  \n",
       "top                 /m/0k1xxm  Robert De Niro  crazy_jealous_guy  \n",
       "freq                        5               9                 25  "
      ]
     },
     "execution_count": 3,
     "metadata": {},
     "output_type": "execute_result"
    }
   ],
   "source": [
    "tropes_df.describe()"
   ]
  },
  {
   "cell_type": "markdown",
   "metadata": {},
   "source": [
    "Let us load the data into a pickle for further processing and cleaning in the sections and results notebook:"
   ]
  },
  {
   "cell_type": "code",
   "execution_count": 4,
   "metadata": {},
   "outputs": [],
   "source": [
    "tropes_df.to_pickle('../pickles/tropes_df.pkl')"
   ]
  }
 ],
 "metadata": {
  "kernelspec": {
   "display_name": "Python3",
   "language": "python",
   "name": "python3"
  },
  "language_info": {
   "codemirror_mode": {
    "name": "ipython",
    "version": 3
   },
   "file_extension": ".py",
   "mimetype": "text/x-python",
   "name": "python",
   "nbconvert_exporter": "python",
   "pygments_lexer": "ipython3",
   "version": "3.12.5"
  }
 },
 "nbformat": 4,
 "nbformat_minor": 4
}
