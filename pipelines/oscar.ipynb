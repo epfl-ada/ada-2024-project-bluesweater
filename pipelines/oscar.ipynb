{
 "cells": [
  {
   "cell_type": "markdown",
   "id": "9074b053",
   "metadata": {},
   "source": [
    "# Pipeline for Oscar data"
   ]
  },
  {
   "cell_type": "markdown",
   "id": "8d296617",
   "metadata": {},
   "source": [
    "Importing necessary librairies:"
   ]
  },
  {
   "cell_type": "code",
   "execution_count": 1,
   "id": "initial_id",
   "metadata": {
    "ExecuteTime": {
     "end_time": "2024-11-07T13:46:11.521525Z",
     "start_time": "2024-11-07T13:46:11.294415Z"
    },
    "collapsed": true,
    "jupyter": {
     "outputs_hidden": true
    }
   },
   "outputs": [],
   "source": [
    "import pandas as pd"
   ]
  },
  {
   "cell_type": "markdown",
   "id": "e5fd5242",
   "metadata": {},
   "source": [
    "Importing our data:"
   ]
  },
  {
   "cell_type": "code",
   "execution_count": 2,
   "id": "3e9cdbd6fed8c63d",
   "metadata": {
    "ExecuteTime": {
     "end_time": "2024-11-07T13:46:11.541079Z",
     "start_time": "2024-11-07T13:46:11.527982Z"
    }
   },
   "outputs": [],
   "source": [
    "oscar_df = pd.read_csv('../data/Oscars_Awards/the_oscar_award.csv')"
   ]
  },
  {
   "cell_type": "code",
   "execution_count": 3,
   "id": "63a15f8d8b76e2fc",
   "metadata": {
    "ExecuteTime": {
     "end_time": "2024-11-07T13:46:11.581819Z",
     "start_time": "2024-11-07T13:46:11.576794Z"
    }
   },
   "outputs": [
    {
     "data": {
      "text/html": [
       "<div>\n",
       "<style scoped>\n",
       "    .dataframe tbody tr th:only-of-type {\n",
       "        vertical-align: middle;\n",
       "    }\n",
       "\n",
       "    .dataframe tbody tr th {\n",
       "        vertical-align: top;\n",
       "    }\n",
       "\n",
       "    .dataframe thead th {\n",
       "        text-align: right;\n",
       "    }\n",
       "</style>\n",
       "<table border=\"1\" class=\"dataframe\">\n",
       "  <thead>\n",
       "    <tr style=\"text-align: right;\">\n",
       "      <th></th>\n",
       "      <th>year_film</th>\n",
       "      <th>year_ceremony</th>\n",
       "      <th>ceremony</th>\n",
       "      <th>category</th>\n",
       "      <th>name</th>\n",
       "      <th>film</th>\n",
       "      <th>winner</th>\n",
       "    </tr>\n",
       "  </thead>\n",
       "  <tbody>\n",
       "    <tr>\n",
       "      <th>0</th>\n",
       "      <td>1927</td>\n",
       "      <td>1928</td>\n",
       "      <td>1</td>\n",
       "      <td>ACTOR</td>\n",
       "      <td>Richard Barthelmess</td>\n",
       "      <td>The Noose</td>\n",
       "      <td>False</td>\n",
       "    </tr>\n",
       "    <tr>\n",
       "      <th>1</th>\n",
       "      <td>1927</td>\n",
       "      <td>1928</td>\n",
       "      <td>1</td>\n",
       "      <td>ACTOR</td>\n",
       "      <td>Emil Jannings</td>\n",
       "      <td>The Last Command</td>\n",
       "      <td>True</td>\n",
       "    </tr>\n",
       "    <tr>\n",
       "      <th>2</th>\n",
       "      <td>1927</td>\n",
       "      <td>1928</td>\n",
       "      <td>1</td>\n",
       "      <td>ACTRESS</td>\n",
       "      <td>Louise Dresser</td>\n",
       "      <td>A Ship Comes In</td>\n",
       "      <td>False</td>\n",
       "    </tr>\n",
       "    <tr>\n",
       "      <th>3</th>\n",
       "      <td>1927</td>\n",
       "      <td>1928</td>\n",
       "      <td>1</td>\n",
       "      <td>ACTRESS</td>\n",
       "      <td>Janet Gaynor</td>\n",
       "      <td>7th Heaven</td>\n",
       "      <td>True</td>\n",
       "    </tr>\n",
       "    <tr>\n",
       "      <th>4</th>\n",
       "      <td>1927</td>\n",
       "      <td>1928</td>\n",
       "      <td>1</td>\n",
       "      <td>ACTRESS</td>\n",
       "      <td>Gloria Swanson</td>\n",
       "      <td>Sadie Thompson</td>\n",
       "      <td>False</td>\n",
       "    </tr>\n",
       "  </tbody>\n",
       "</table>\n",
       "</div>"
      ],
      "text/plain": [
       "   year_film  year_ceremony  ceremony category                 name  \\\n",
       "0       1927           1928         1    ACTOR  Richard Barthelmess   \n",
       "1       1927           1928         1    ACTOR        Emil Jannings   \n",
       "2       1927           1928         1  ACTRESS       Louise Dresser   \n",
       "3       1927           1928         1  ACTRESS         Janet Gaynor   \n",
       "4       1927           1928         1  ACTRESS       Gloria Swanson   \n",
       "\n",
       "               film  winner  \n",
       "0         The Noose   False  \n",
       "1  The Last Command    True  \n",
       "2   A Ship Comes In   False  \n",
       "3        7th Heaven    True  \n",
       "4    Sadie Thompson   False  "
      ]
     },
     "execution_count": 3,
     "metadata": {},
     "output_type": "execute_result"
    }
   ],
   "source": [
    "oscar_df.head()"
   ]
  },
  {
   "cell_type": "markdown",
   "id": "31105279",
   "metadata": {},
   "source": [
    "Taking a closer look at the general data characteristics and column values:"
   ]
  },
  {
   "cell_type": "code",
   "execution_count": 4,
   "id": "3c56883d8e47ed9",
   "metadata": {
    "ExecuteTime": {
     "end_time": "2024-11-07T13:46:11.653675Z",
     "start_time": "2024-11-07T13:46:11.649258Z"
    }
   },
   "outputs": [
    {
     "name": "stdout",
     "output_type": "stream",
     "text": [
      "<class 'pandas.core.frame.DataFrame'>\n",
      "RangeIndex: 10889 entries, 0 to 10888\n",
      "Data columns (total 7 columns):\n",
      " #   Column         Non-Null Count  Dtype \n",
      "---  ------         --------------  ----- \n",
      " 0   year_film      10889 non-null  int64 \n",
      " 1   year_ceremony  10889 non-null  int64 \n",
      " 2   ceremony       10889 non-null  int64 \n",
      " 3   category       10889 non-null  object\n",
      " 4   name           10884 non-null  object\n",
      " 5   film           10570 non-null  object\n",
      " 6   winner         10889 non-null  bool  \n",
      "dtypes: bool(1), int64(3), object(3)\n",
      "memory usage: 521.2+ KB\n"
     ]
    }
   ],
   "source": [
    "oscar_df.info()"
   ]
  },
  {
   "cell_type": "code",
   "execution_count": 5,
   "id": "d66ffd6415c65200",
   "metadata": {
    "ExecuteTime": {
     "end_time": "2024-11-07T13:46:11.724667Z",
     "start_time": "2024-11-07T13:46:11.721250Z"
    }
   },
   "outputs": [
    {
     "data": {
      "text/plain": [
       "category\n",
       "DIRECTING                                    469\n",
       "FILM EDITING                                 450\n",
       "ACTRESS IN A SUPPORTING ROLE                 440\n",
       "ACTOR IN A SUPPORTING ROLE                   440\n",
       "DOCUMENTARY (Short Subject)                  378\n",
       "                                            ... \n",
       "SPECIAL FOREIGN LANGUAGE FILM AWARD            2\n",
       "GORDON E. SAWYER AWARD                         1\n",
       "SPECIAL ACHIEVEMENT AWARD (Sound Editing)      1\n",
       "SPECIAL ACHIEVEMENT AWARD (Sound Effects)      1\n",
       "AWARD OF COMMENDATION                          1\n",
       "Name: count, Length: 115, dtype: int64"
      ]
     },
     "execution_count": 5,
     "metadata": {},
     "output_type": "execute_result"
    }
   ],
   "source": [
    "oscar_df['category'].value_counts()"
   ]
  },
  {
   "cell_type": "code",
   "execution_count": 6,
   "id": "f0ad65f499a95fb5",
   "metadata": {
    "ExecuteTime": {
     "end_time": "2024-11-07T13:46:11.779268Z",
     "start_time": "2024-11-07T13:46:11.774466Z"
    }
   },
   "outputs": [
    {
     "data": {
      "text/plain": [
       "name\n",
       "Metro-Goldwyn-Mayer                                                                                      64\n",
       "Walt Disney, Producer                                                                                    59\n",
       "John Williams                                                                                            46\n",
       "Warner Bros.                                                                                             43\n",
       "France                                                                                                   37\n",
       "                                                                                                         ..\n",
       "Nick Bosustow, Producer                                                                                   1\n",
       "Robert Mitchell and Dale Case, Producers                                                                  1\n",
       "Frank McCarthy, Producer                                                                                  1\n",
       "Ingo Preminger, Producer                                                                                  1\n",
       "To Carol Littleton, whose commitment to her craft has significantly elevated the art of film editing.     1\n",
       "Name: count, Length: 7039, dtype: int64"
      ]
     },
     "execution_count": 6,
     "metadata": {},
     "output_type": "execute_result"
    }
   ],
   "source": [
    "oscar_df['name'].value_counts()"
   ]
  },
  {
   "cell_type": "code",
   "execution_count": 7,
   "id": "c006393bea101069",
   "metadata": {
    "ExecuteTime": {
     "end_time": "2024-11-07T13:46:11.858701Z",
     "start_time": "2024-11-07T13:46:11.854428Z"
    }
   },
   "outputs": [
    {
     "data": {
      "text/plain": [
       "film\n",
       "A Star Is Born                          25\n",
       "West Side Story                         18\n",
       "Titanic                                 16\n",
       "Moulin Rouge                            15\n",
       "Mutiny on the Bounty                    15\n",
       "                                        ..\n",
       "The Dot and the Line                     1\n",
       "The Thieving Magpie (La Gazza Ladra)     1\n",
       "The Chicken (Le Poulet)                  1\n",
       "Fortress of Peace                        1\n",
       "May December                             1\n",
       "Name: count, Length: 5041, dtype: int64"
      ]
     },
     "execution_count": 7,
     "metadata": {},
     "output_type": "execute_result"
    }
   ],
   "source": [
    "oscar_df['film'].value_counts()"
   ]
  },
  {
   "cell_type": "code",
   "execution_count": 8,
   "id": "39faab6e308f2b7f",
   "metadata": {
    "ExecuteTime": {
     "end_time": "2024-11-07T13:46:11.894134Z",
     "start_time": "2024-11-07T13:46:11.891231Z"
    }
   },
   "outputs": [
    {
     "data": {
      "text/plain": [
       "year_ceremony\n",
       "1943    186\n",
       "1942    183\n",
       "1944    182\n",
       "1945    169\n",
       "1946    160\n",
       "       ... \n",
       "1932     45\n",
       "1931     44\n",
       "1930     42\n",
       "1929     38\n",
       "1928     35\n",
       "Name: count, Length: 96, dtype: int64"
      ]
     },
     "execution_count": 8,
     "metadata": {},
     "output_type": "execute_result"
    }
   ],
   "source": [
    "oscar_df['year_ceremony'].value_counts()"
   ]
  },
  {
   "cell_type": "code",
   "execution_count": 9,
   "id": "84a897f26bba8088",
   "metadata": {
    "ExecuteTime": {
     "end_time": "2024-11-07T13:46:11.956711Z",
     "start_time": "2024-11-07T13:46:11.953640Z"
    }
   },
   "outputs": [
    {
     "data": {
      "text/plain": [
       "year_film\n",
       "1942    186\n",
       "1941    183\n",
       "1943    182\n",
       "1944    169\n",
       "1945    160\n",
       "       ... \n",
       "1931     45\n",
       "1930     44\n",
       "1929     42\n",
       "1928     38\n",
       "1927     35\n",
       "Name: count, Length: 96, dtype: int64"
      ]
     },
     "execution_count": 9,
     "metadata": {},
     "output_type": "execute_result"
    }
   ],
   "source": [
    "oscar_df['year_film'].value_counts()"
   ]
  },
  {
   "cell_type": "code",
   "execution_count": 10,
   "id": "665e4d3c6a5893e9",
   "metadata": {
    "ExecuteTime": {
     "end_time": "2024-11-07T13:46:12.042837Z",
     "start_time": "2024-11-07T13:46:12.039656Z"
    }
   },
   "outputs": [
    {
     "data": {
      "text/plain": [
       "ceremony\n",
       "15    186\n",
       "14    183\n",
       "16    182\n",
       "17    169\n",
       "18    160\n",
       "     ... \n",
       "5      45\n",
       "4      44\n",
       "3      42\n",
       "2      38\n",
       "1      35\n",
       "Name: count, Length: 96, dtype: int64"
      ]
     },
     "execution_count": 10,
     "metadata": {},
     "output_type": "execute_result"
    }
   ],
   "source": [
    "oscar_df['ceremony'].value_counts()"
   ]
  },
  {
   "cell_type": "code",
   "execution_count": 11,
   "id": "91a5f4df3273e6dd",
   "metadata": {
    "ExecuteTime": {
     "end_time": "2024-11-07T13:46:12.118242Z",
     "start_time": "2024-11-07T13:46:12.115653Z"
    }
   },
   "outputs": [
    {
     "data": {
      "text/plain": [
       "winner\n",
       "False    8424\n",
       "True     2465\n",
       "Name: count, dtype: int64"
      ]
     },
     "execution_count": 11,
     "metadata": {},
     "output_type": "execute_result"
    }
   ],
   "source": [
    "oscar_df['winner'].value_counts()"
   ]
  },
  {
   "cell_type": "markdown",
   "id": "41e551dc",
   "metadata": {},
   "source": [
    "Let us load the data into a pickle for further processing and cleaning in the sections and results notebook:"
   ]
  },
  {
   "cell_type": "code",
   "execution_count": 12,
   "id": "372293bb8970324e",
   "metadata": {
    "ExecuteTime": {
     "end_time": "2024-11-07T13:46:12.240768Z",
     "start_time": "2024-11-07T13:46:12.236100Z"
    }
   },
   "outputs": [],
   "source": [
    "oscar_df.to_pickle('../pickles/oskar_df.pkl')"
   ]
  }
 ],
 "metadata": {
  "kernelspec": {
   "display_name": "Python3",
   "language": "python",
   "name": "python3"
  },
  "language_info": {
   "codemirror_mode": {
    "name": "ipython",
    "version": 3
   },
   "file_extension": ".py",
   "mimetype": "text/x-python",
   "name": "python",
   "nbconvert_exporter": "python",
   "pygments_lexer": "ipython3",
   "version": "3.12.5"
  }
 },
 "nbformat": 4,
 "nbformat_minor": 5
}
