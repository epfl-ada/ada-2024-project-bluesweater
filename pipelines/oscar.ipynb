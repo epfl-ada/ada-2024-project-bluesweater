{
 "cells": [
  {
   "cell_type": "code",
   "id": "initial_id",
   "metadata": {
    "collapsed": true,
    "ExecuteTime": {
     "end_time": "2024-11-07T10:56:29.563822Z",
     "start_time": "2024-11-07T10:56:29.282813Z"
    }
   },
   "source": "import pandas as pd",
   "outputs": [],
   "execution_count": 1
  },
  {
   "metadata": {
    "ExecuteTime": {
     "end_time": "2024-11-07T10:57:12.500809Z",
     "start_time": "2024-11-07T10:57:12.484784Z"
    }
   },
   "cell_type": "code",
   "source": "oscar_df = pd.read_csv('../data/Oscars_Awards/the_oscar_award.csv')",
   "id": "3e9cdbd6fed8c63d",
   "outputs": [],
   "execution_count": 3
  },
  {
   "metadata": {
    "ExecuteTime": {
     "end_time": "2024-11-07T10:57:41.788377Z",
     "start_time": "2024-11-07T10:57:41.781493Z"
    }
   },
   "cell_type": "code",
   "source": "oscar_df.head()",
   "id": "63a15f8d8b76e2fc",
   "outputs": [
    {
     "data": {
      "text/plain": [
       "   year_film  year_ceremony  ceremony category                 name  \\\n",
       "0       1927           1928         1    ACTOR  Richard Barthelmess   \n",
       "1       1927           1928         1    ACTOR        Emil Jannings   \n",
       "2       1927           1928         1  ACTRESS       Louise Dresser   \n",
       "3       1927           1928         1  ACTRESS         Janet Gaynor   \n",
       "4       1927           1928         1  ACTRESS       Gloria Swanson   \n",
       "\n",
       "               film  winner  \n",
       "0         The Noose   False  \n",
       "1  The Last Command    True  \n",
       "2   A Ship Comes In   False  \n",
       "3        7th Heaven    True  \n",
       "4    Sadie Thompson   False  "
      ],
      "text/html": [
       "<div>\n",
       "<style scoped>\n",
       "    .dataframe tbody tr th:only-of-type {\n",
       "        vertical-align: middle;\n",
       "    }\n",
       "\n",
       "    .dataframe tbody tr th {\n",
       "        vertical-align: top;\n",
       "    }\n",
       "\n",
       "    .dataframe thead th {\n",
       "        text-align: right;\n",
       "    }\n",
       "</style>\n",
       "<table border=\"1\" class=\"dataframe\">\n",
       "  <thead>\n",
       "    <tr style=\"text-align: right;\">\n",
       "      <th></th>\n",
       "      <th>year_film</th>\n",
       "      <th>year_ceremony</th>\n",
       "      <th>ceremony</th>\n",
       "      <th>category</th>\n",
       "      <th>name</th>\n",
       "      <th>film</th>\n",
       "      <th>winner</th>\n",
       "    </tr>\n",
       "  </thead>\n",
       "  <tbody>\n",
       "    <tr>\n",
       "      <th>0</th>\n",
       "      <td>1927</td>\n",
       "      <td>1928</td>\n",
       "      <td>1</td>\n",
       "      <td>ACTOR</td>\n",
       "      <td>Richard Barthelmess</td>\n",
       "      <td>The Noose</td>\n",
       "      <td>False</td>\n",
       "    </tr>\n",
       "    <tr>\n",
       "      <th>1</th>\n",
       "      <td>1927</td>\n",
       "      <td>1928</td>\n",
       "      <td>1</td>\n",
       "      <td>ACTOR</td>\n",
       "      <td>Emil Jannings</td>\n",
       "      <td>The Last Command</td>\n",
       "      <td>True</td>\n",
       "    </tr>\n",
       "    <tr>\n",
       "      <th>2</th>\n",
       "      <td>1927</td>\n",
       "      <td>1928</td>\n",
       "      <td>1</td>\n",
       "      <td>ACTRESS</td>\n",
       "      <td>Louise Dresser</td>\n",
       "      <td>A Ship Comes In</td>\n",
       "      <td>False</td>\n",
       "    </tr>\n",
       "    <tr>\n",
       "      <th>3</th>\n",
       "      <td>1927</td>\n",
       "      <td>1928</td>\n",
       "      <td>1</td>\n",
       "      <td>ACTRESS</td>\n",
       "      <td>Janet Gaynor</td>\n",
       "      <td>7th Heaven</td>\n",
       "      <td>True</td>\n",
       "    </tr>\n",
       "    <tr>\n",
       "      <th>4</th>\n",
       "      <td>1927</td>\n",
       "      <td>1928</td>\n",
       "      <td>1</td>\n",
       "      <td>ACTRESS</td>\n",
       "      <td>Gloria Swanson</td>\n",
       "      <td>Sadie Thompson</td>\n",
       "      <td>False</td>\n",
       "    </tr>\n",
       "  </tbody>\n",
       "</table>\n",
       "</div>"
      ]
     },
     "execution_count": 4,
     "metadata": {},
     "output_type": "execute_result"
    }
   ],
   "execution_count": 4
  },
  {
   "metadata": {
    "ExecuteTime": {
     "end_time": "2024-11-07T10:57:44.365756Z",
     "start_time": "2024-11-07T10:57:44.360107Z"
    }
   },
   "cell_type": "code",
   "source": "oscar_df.info()",
   "id": "3c56883d8e47ed9",
   "outputs": [
    {
     "name": "stdout",
     "output_type": "stream",
     "text": [
      "<class 'pandas.core.frame.DataFrame'>\n",
      "RangeIndex: 10889 entries, 0 to 10888\n",
      "Data columns (total 7 columns):\n",
      " #   Column         Non-Null Count  Dtype \n",
      "---  ------         --------------  ----- \n",
      " 0   year_film      10889 non-null  int64 \n",
      " 1   year_ceremony  10889 non-null  int64 \n",
      " 2   ceremony       10889 non-null  int64 \n",
      " 3   category       10889 non-null  object\n",
      " 4   name           10884 non-null  object\n",
      " 5   film           10570 non-null  object\n",
      " 6   winner         10889 non-null  bool  \n",
      "dtypes: bool(1), int64(3), object(3)\n",
      "memory usage: 521.2+ KB\n"
     ]
    }
   ],
   "execution_count": 5
  },
  {
   "metadata": {
    "ExecuteTime": {
     "end_time": "2024-11-07T10:57:46.323363Z",
     "start_time": "2024-11-07T10:57:46.318954Z"
    }
   },
   "cell_type": "code",
   "source": "oscar_df['category'].value_counts()",
   "id": "d66ffd6415c65200",
   "outputs": [
    {
     "data": {
      "text/plain": [
       "category\n",
       "DIRECTING                                    469\n",
       "FILM EDITING                                 450\n",
       "ACTRESS IN A SUPPORTING ROLE                 440\n",
       "ACTOR IN A SUPPORTING ROLE                   440\n",
       "DOCUMENTARY (Short Subject)                  378\n",
       "                                            ... \n",
       "SPECIAL FOREIGN LANGUAGE FILM AWARD            2\n",
       "GORDON E. SAWYER AWARD                         1\n",
       "SPECIAL ACHIEVEMENT AWARD (Sound Editing)      1\n",
       "SPECIAL ACHIEVEMENT AWARD (Sound Effects)      1\n",
       "AWARD OF COMMENDATION                          1\n",
       "Name: count, Length: 115, dtype: int64"
      ]
     },
     "execution_count": 6,
     "metadata": {},
     "output_type": "execute_result"
    }
   ],
   "execution_count": 6
  },
  {
   "metadata": {
    "ExecuteTime": {
     "end_time": "2024-11-07T10:57:49.857923Z",
     "start_time": "2024-11-07T10:57:49.853154Z"
    }
   },
   "cell_type": "code",
   "source": "oscar_df['name'].value_counts()",
   "id": "f0ad65f499a95fb5",
   "outputs": [
    {
     "data": {
      "text/plain": [
       "name\n",
       "Metro-Goldwyn-Mayer                                                                                      64\n",
       "Walt Disney, Producer                                                                                    59\n",
       "John Williams                                                                                            46\n",
       "Warner Bros.                                                                                             43\n",
       "France                                                                                                   37\n",
       "                                                                                                         ..\n",
       "Nick Bosustow, Producer                                                                                   1\n",
       "Robert Mitchell and Dale Case, Producers                                                                  1\n",
       "Frank McCarthy, Producer                                                                                  1\n",
       "Ingo Preminger, Producer                                                                                  1\n",
       "To Carol Littleton, whose commitment to her craft has significantly elevated the art of film editing.     1\n",
       "Name: count, Length: 7039, dtype: int64"
      ]
     },
     "execution_count": 7,
     "metadata": {},
     "output_type": "execute_result"
    }
   ],
   "execution_count": 7
  },
  {
   "metadata": {
    "ExecuteTime": {
     "end_time": "2024-11-07T10:57:51.765835Z",
     "start_time": "2024-11-07T10:57:51.760887Z"
    }
   },
   "cell_type": "code",
   "source": "oscar_df['film'].value_counts()",
   "id": "c006393bea101069",
   "outputs": [
    {
     "data": {
      "text/plain": [
       "film\n",
       "A Star Is Born                          25\n",
       "West Side Story                         18\n",
       "Titanic                                 16\n",
       "Moulin Rouge                            15\n",
       "Mutiny on the Bounty                    15\n",
       "                                        ..\n",
       "The Dot and the Line                     1\n",
       "The Thieving Magpie (La Gazza Ladra)     1\n",
       "The Chicken (Le Poulet)                  1\n",
       "Fortress of Peace                        1\n",
       "May December                             1\n",
       "Name: count, Length: 5041, dtype: int64"
      ]
     },
     "execution_count": 8,
     "metadata": {},
     "output_type": "execute_result"
    }
   ],
   "execution_count": 8
  },
  {
   "metadata": {
    "ExecuteTime": {
     "end_time": "2024-11-07T10:57:53.098879Z",
     "start_time": "2024-11-07T10:57:53.095477Z"
    }
   },
   "cell_type": "code",
   "source": "oscar_df['year_ceremony'].value_counts()",
   "id": "39faab6e308f2b7f",
   "outputs": [
    {
     "data": {
      "text/plain": [
       "year_ceremony\n",
       "1943    186\n",
       "1942    183\n",
       "1944    182\n",
       "1945    169\n",
       "1946    160\n",
       "       ... \n",
       "1932     45\n",
       "1931     44\n",
       "1930     42\n",
       "1929     38\n",
       "1928     35\n",
       "Name: count, Length: 96, dtype: int64"
      ]
     },
     "execution_count": 9,
     "metadata": {},
     "output_type": "execute_result"
    }
   ],
   "execution_count": 9
  },
  {
   "metadata": {
    "ExecuteTime": {
     "end_time": "2024-11-07T10:57:54.897699Z",
     "start_time": "2024-11-07T10:57:54.893583Z"
    }
   },
   "cell_type": "code",
   "source": "oscar_df['year_film'].value_counts()",
   "id": "84a897f26bba8088",
   "outputs": [
    {
     "data": {
      "text/plain": [
       "year_film\n",
       "1942    186\n",
       "1941    183\n",
       "1943    182\n",
       "1944    169\n",
       "1945    160\n",
       "       ... \n",
       "1931     45\n",
       "1930     44\n",
       "1929     42\n",
       "1928     38\n",
       "1927     35\n",
       "Name: count, Length: 96, dtype: int64"
      ]
     },
     "execution_count": 10,
     "metadata": {},
     "output_type": "execute_result"
    }
   ],
   "execution_count": 10
  },
  {
   "metadata": {
    "ExecuteTime": {
     "end_time": "2024-11-07T10:57:56.761973Z",
     "start_time": "2024-11-07T10:57:56.758708Z"
    }
   },
   "cell_type": "code",
   "source": "oscar_df['ceremony'].value_counts()",
   "id": "665e4d3c6a5893e9",
   "outputs": [
    {
     "data": {
      "text/plain": [
       "ceremony\n",
       "15    186\n",
       "14    183\n",
       "16    182\n",
       "17    169\n",
       "18    160\n",
       "     ... \n",
       "5      45\n",
       "4      44\n",
       "3      42\n",
       "2      38\n",
       "1      35\n",
       "Name: count, Length: 96, dtype: int64"
      ]
     },
     "execution_count": 11,
     "metadata": {},
     "output_type": "execute_result"
    }
   ],
   "execution_count": 11
  },
  {
   "metadata": {
    "ExecuteTime": {
     "end_time": "2024-11-07T10:57:58.545102Z",
     "start_time": "2024-11-07T10:57:58.542080Z"
    }
   },
   "cell_type": "code",
   "source": "oscar_df['winner'].value_counts()",
   "id": "91a5f4df3273e6dd",
   "outputs": [
    {
     "data": {
      "text/plain": [
       "winner\n",
       "False    8424\n",
       "True     2465\n",
       "Name: count, dtype: int64"
      ]
     },
     "execution_count": 12,
     "metadata": {},
     "output_type": "execute_result"
    }
   ],
   "execution_count": 12
  },
  {
   "metadata": {
    "ExecuteTime": {
     "end_time": "2024-11-07T10:58:01.806566Z",
     "start_time": "2024-11-07T10:58:00.966929Z"
    }
   },
   "cell_type": "code",
   "source": "",
   "id": "372293bb8970324e",
   "outputs": [
    {
     "ename": "KeyError",
     "evalue": "'entity'",
     "output_type": "error",
     "traceback": [
      "\u001B[0;31m---------------------------------------------------------------------------\u001B[0m",
      "\u001B[0;31mKeyError\u001B[0m                                  Traceback (most recent call last)",
      "File \u001B[0;32m/opt/anaconda3/envs/py3-9-18/lib/python3.9/site-packages/pandas/core/indexes/base.py:3805\u001B[0m, in \u001B[0;36mIndex.get_loc\u001B[0;34m(self, key)\u001B[0m\n\u001B[1;32m   3804\u001B[0m \u001B[38;5;28;01mtry\u001B[39;00m:\n\u001B[0;32m-> 3805\u001B[0m     \u001B[38;5;28;01mreturn\u001B[39;00m \u001B[38;5;28;43mself\u001B[39;49m\u001B[38;5;241;43m.\u001B[39;49m\u001B[43m_engine\u001B[49m\u001B[38;5;241;43m.\u001B[39;49m\u001B[43mget_loc\u001B[49m\u001B[43m(\u001B[49m\u001B[43mcasted_key\u001B[49m\u001B[43m)\u001B[49m\n\u001B[1;32m   3806\u001B[0m \u001B[38;5;28;01mexcept\u001B[39;00m \u001B[38;5;167;01mKeyError\u001B[39;00m \u001B[38;5;28;01mas\u001B[39;00m err:\n",
      "File \u001B[0;32mindex.pyx:167\u001B[0m, in \u001B[0;36mpandas._libs.index.IndexEngine.get_loc\u001B[0;34m()\u001B[0m\n",
      "File \u001B[0;32mindex.pyx:196\u001B[0m, in \u001B[0;36mpandas._libs.index.IndexEngine.get_loc\u001B[0;34m()\u001B[0m\n",
      "File \u001B[0;32mpandas/_libs/hashtable_class_helper.pxi:7081\u001B[0m, in \u001B[0;36mpandas._libs.hashtable.PyObjectHashTable.get_item\u001B[0;34m()\u001B[0m\n",
      "File \u001B[0;32mpandas/_libs/hashtable_class_helper.pxi:7089\u001B[0m, in \u001B[0;36mpandas._libs.hashtable.PyObjectHashTable.get_item\u001B[0;34m()\u001B[0m\n",
      "\u001B[0;31mKeyError\u001B[0m: 'entity'",
      "\nThe above exception was the direct cause of the following exception:\n",
      "\u001B[0;31mKeyError\u001B[0m                                  Traceback (most recent call last)",
      "Cell \u001B[0;32mIn[13], line 1\u001B[0m\n\u001B[0;32m----> 1\u001B[0m \u001B[43moscar_df\u001B[49m\u001B[43m[\u001B[49m\u001B[38;5;124;43m'\u001B[39;49m\u001B[38;5;124;43mentity\u001B[39;49m\u001B[38;5;124;43m'\u001B[39;49m\u001B[43m]\u001B[49m\u001B[38;5;241m.\u001B[39mvalue_counts()\n",
      "File \u001B[0;32m/opt/anaconda3/envs/py3-9-18/lib/python3.9/site-packages/pandas/core/frame.py:4090\u001B[0m, in \u001B[0;36mDataFrame.__getitem__\u001B[0;34m(self, key)\u001B[0m\n\u001B[1;32m   4088\u001B[0m \u001B[38;5;28;01mif\u001B[39;00m \u001B[38;5;28mself\u001B[39m\u001B[38;5;241m.\u001B[39mcolumns\u001B[38;5;241m.\u001B[39mnlevels \u001B[38;5;241m>\u001B[39m \u001B[38;5;241m1\u001B[39m:\n\u001B[1;32m   4089\u001B[0m     \u001B[38;5;28;01mreturn\u001B[39;00m \u001B[38;5;28mself\u001B[39m\u001B[38;5;241m.\u001B[39m_getitem_multilevel(key)\n\u001B[0;32m-> 4090\u001B[0m indexer \u001B[38;5;241m=\u001B[39m \u001B[38;5;28;43mself\u001B[39;49m\u001B[38;5;241;43m.\u001B[39;49m\u001B[43mcolumns\u001B[49m\u001B[38;5;241;43m.\u001B[39;49m\u001B[43mget_loc\u001B[49m\u001B[43m(\u001B[49m\u001B[43mkey\u001B[49m\u001B[43m)\u001B[49m\n\u001B[1;32m   4091\u001B[0m \u001B[38;5;28;01mif\u001B[39;00m is_integer(indexer):\n\u001B[1;32m   4092\u001B[0m     indexer \u001B[38;5;241m=\u001B[39m [indexer]\n",
      "File \u001B[0;32m/opt/anaconda3/envs/py3-9-18/lib/python3.9/site-packages/pandas/core/indexes/base.py:3812\u001B[0m, in \u001B[0;36mIndex.get_loc\u001B[0;34m(self, key)\u001B[0m\n\u001B[1;32m   3807\u001B[0m     \u001B[38;5;28;01mif\u001B[39;00m \u001B[38;5;28misinstance\u001B[39m(casted_key, \u001B[38;5;28mslice\u001B[39m) \u001B[38;5;129;01mor\u001B[39;00m (\n\u001B[1;32m   3808\u001B[0m         \u001B[38;5;28misinstance\u001B[39m(casted_key, abc\u001B[38;5;241m.\u001B[39mIterable)\n\u001B[1;32m   3809\u001B[0m         \u001B[38;5;129;01mand\u001B[39;00m \u001B[38;5;28many\u001B[39m(\u001B[38;5;28misinstance\u001B[39m(x, \u001B[38;5;28mslice\u001B[39m) \u001B[38;5;28;01mfor\u001B[39;00m x \u001B[38;5;129;01min\u001B[39;00m casted_key)\n\u001B[1;32m   3810\u001B[0m     ):\n\u001B[1;32m   3811\u001B[0m         \u001B[38;5;28;01mraise\u001B[39;00m InvalidIndexError(key)\n\u001B[0;32m-> 3812\u001B[0m     \u001B[38;5;28;01mraise\u001B[39;00m \u001B[38;5;167;01mKeyError\u001B[39;00m(key) \u001B[38;5;28;01mfrom\u001B[39;00m \u001B[38;5;21;01merr\u001B[39;00m\n\u001B[1;32m   3813\u001B[0m \u001B[38;5;28;01mexcept\u001B[39;00m \u001B[38;5;167;01mTypeError\u001B[39;00m:\n\u001B[1;32m   3814\u001B[0m     \u001B[38;5;66;03m# If we have a listlike key, _check_indexing_error will raise\u001B[39;00m\n\u001B[1;32m   3815\u001B[0m     \u001B[38;5;66;03m#  InvalidIndexError. Otherwise we fall through and re-raise\u001B[39;00m\n\u001B[1;32m   3816\u001B[0m     \u001B[38;5;66;03m#  the TypeError.\u001B[39;00m\n\u001B[1;32m   3817\u001B[0m     \u001B[38;5;28mself\u001B[39m\u001B[38;5;241m.\u001B[39m_check_indexing_error(key)\n",
      "\u001B[0;31mKeyError\u001B[0m: 'entity'"
     ]
    }
   ],
   "execution_count": 13
  },
  {
   "metadata": {},
   "cell_type": "code",
   "outputs": [],
   "execution_count": null,
   "source": "",
   "id": "1481bdc6e18a13b8"
  }
 ],
 "metadata": {
  "kernelspec": {
   "display_name": "Python 3",
   "language": "python",
   "name": "python3"
  },
  "language_info": {
   "codemirror_mode": {
    "name": "ipython",
    "version": 2
   },
   "file_extension": ".py",
   "mimetype": "text/x-python",
   "name": "python",
   "nbconvert_exporter": "python",
   "pygments_lexer": "ipython2",
   "version": "2.7.6"
  }
 },
 "nbformat": 4,
 "nbformat_minor": 5
}
